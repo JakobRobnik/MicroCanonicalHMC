{
 "cells": [
  {
   "cell_type": "code",
   "execution_count": 1,
   "metadata": {},
   "outputs": [],
   "source": [
    "import sys\n",
    "\n",
    "sys.path.append(\"../\")\n",
    "from benchmarks.benchmark import get_num_latents\n",
    "import jax \n",
    "import jax.numpy as jnp\n",
    "import numpy as np\n",
    "\n",
    "def benchmark_chains(model, sampler, key, n=10000, batch=None):\n",
    "\n",
    "    pvmap = jax.pmap\n",
    "\n",
    "    d = get_num_latents(model)\n",
    "    if batch is None:\n",
    "        batch = np.ceil(1000 / d).astype(int)\n",
    "    key, init_key = jax.random.split(key, 2)\n",
    "    keys = jax.random.split(key, batch)\n",
    "\n",
    "    init_keys = jax.random.split(init_key, batch)\n",
    "    init_pos = pvmap(model.sample_init)(init_keys)  # [batch_size, dim_model]\n",
    "\n",
    "    params, grad_calls_per_traj, acceptance_rate, expectation, ess_corr = pvmap(\n",
    "        lambda pos, key: sampler(\n",
    "            model=model, num_steps=n, initial_position=pos, key=key\n",
    "        )\n",
    "    )(init_pos, keys)\n",
    "\n",
    "    return jnp.mean(jnp.sqrt(expectation)[:, :, 0], axis=0)"
   ]
  },
  {
   "cell_type": "code",
   "execution_count": 2,
   "metadata": {},
   "outputs": [],
   "source": [
    "from benchmarks.inference_models import StandardNormal\n",
    "from benchmarks.sampling_algorithms import run_adjusted_mclmc_no_tuning, run_nuts, run_unadjusted_mclmc\n",
    "import blackjax\n",
    "\n",
    "model = StandardNormal(1000)\n",
    "# model = Brownian()\n",
    "integrator_type = \"mclachlan\"\n",
    "num_steps = 5000\n",
    "num_chains = 128\n",
    "key1 = jax.random.PRNGKey(1)\n",
    "\n",
    "init_key, state_key, run_key = jax.random.split(key1, 3)\n",
    "initial_position = model.sample_init(init_key)\n",
    "unadjusted_initial_state = blackjax.mcmc.mclmc.init(\n",
    "    position=initial_position, logdensity_fn=model.logdensity_fn, rng_key=state_key\n",
    ")\n",
    "adjusted_initial_state = blackjax.mcmc.adjusted_mclmc.init(\n",
    "    position=initial_position,\n",
    "    logdensity_fn=model.logdensity_fn,\n",
    "    random_generator_arg=state_key,\n",
    "    )\n",
    "\n",
    "results_mclmc = benchmark_chains(\n",
    "            model,\n",
    "            run_unadjusted_mclmc(integrator_type=integrator_type, preconditioning=False),\n",
    "            key1,\n",
    "            n=num_steps,\n",
    "            batch=num_chains,\n",
    "        )\n",
    "\n",
    "results_nuts = benchmark_chains(\n",
    "            model,\n",
    "            run_nuts(integrator_type=\"velocity_verlet\", preconditioning=False),\n",
    "            key1,\n",
    "            n=num_steps,\n",
    "            batch=num_chains,\n",
    "        )\n"
   ]
  },
  {
   "cell_type": "code",
   "execution_count": 3,
   "metadata": {},
   "outputs": [
    {
     "data": {
      "text/plain": [
       "Array([-0.01467559, -0.01665149, -0.01586755, ..., -0.0149228 ,\n",
       "       -0.01492377, -0.01492339], dtype=float32)"
      ]
     },
     "execution_count": 3,
     "metadata": {},
     "output_type": "execute_result"
    }
   ],
   "source": [
    "results_mclmc"
   ]
  },
  {
   "cell_type": "code",
   "execution_count": 4,
   "metadata": {},
   "outputs": [
    {
     "data": {
      "image/png": "[encoded data removed]",
      "text/plain": [
       "<Figure size 640x480 with 1 Axes>"
      ]
     },
     "metadata": {},
     "output_type": "display_data"
    }
   ],
   "source": [
    "# plot results\n",
    "\n",
    "import matplotlib.pyplot as plt\n",
    "plt.plot(results_mclmc[100:], label=\"mclmc\")\n",
    "plt.plot(results_nuts[100:], label=\"nuts\")\n",
    "plt.legend()\n",
    "plt.show()"
   ]
  },
  {
   "cell_type": "code",
   "execution_count": null,
   "metadata": {},
   "outputs": [],
   "source": []
  }
 ],
 "metadata": {
  "kernelspec": {
   "display_name": "mclmc",
   "language": "python",
   "name": "python3"
  },
  "language_info": {
   "codemirror_mode": {
    "name": "ipython",
    "version": 3
   },
   "file_extension": ".py",
   "mimetype": "text/x-python",
   "name": "python",
   "nbconvert_exporter": "python",
   "pygments_lexer": "ipython3",
   "version": "3.11.5"
  }
 },
 "nbformat": 4,
 "nbformat_minor": 2
}
