{
  "nbformat": 4,
  "nbformat_minor": 0,
  "metadata": {
    "colab": {
      "provenance": [],
      "authorship_tag": "ABX9TyM7yH0w5IlRk+FwVthebdwJ",
      "include_colab_link": true
    },
    "kernelspec": {
      "name": "python3",
      "display_name": "Python 3"
    },
    "language_info": {
      "name": "python"
    }
  },
  "cells": [
    {
      "cell_type": "markdown",
      "metadata": {
        "id": "view-in-github",
        "colab_type": "text"
      },
      "source": [
        "<a href=\"https://colab.research.google.com/github/JakobRobnik/MicroCanonicalHMC/blob/master/tutorial.ipynb\" target=\"_parent\"><img src=\"https://colab.research.google.com/assets/colab-badge.svg\" alt=\"Open In Colab\"/></a>"
      ]
    },
    {
      "cell_type": "markdown",
      "source": [
        "# **MCHMC tutorial - sampling from a Standard Gaussian target distribution**"
      ],
      "metadata": {
        "id": "qQc5Sh9v90k9"
      }
    },
    {
      "cell_type": "markdown",
      "source": [
        "First, let's import the MCHMC code."
      ],
      "metadata": {
        "id": "KzZfXb7m6EJ-"
      }
    },
    {
      "cell_type": "code",
      "execution_count": null,
      "metadata": {
        "id": "alLR1QrHy0ah",
        "colab": {
          "base_uri": "https://localhost:8080/"
        },
        "outputId": "adf4ddeb-4356-43a2-b11a-774f9ed6352b"
      },
      "outputs": [
        {
          "output_type": "stream",
          "name": "stdout",
          "text": [
            "Cloning into 'MicroCanonicalHMC'...\n",
            "remote: Enumerating objects: 328, done.\u001b[K\n",
            "remote: Counting objects: 100% (116/116), done.\u001b[K\n",
            "remote: Compressing objects: 100% (79/79), done.\u001b[K\n",
            "remote: Total 328 (delta 65), reused 67 (delta 32), pack-reused 212\u001b[K\n",
            "Receiving objects: 100% (328/328), 208.10 KiB | 1.09 MiB/s, done.\n",
            "Resolving deltas: 100% (192/192), done.\n"
          ]
        }
      ],
      "source": [
        "!git clone https://github.com/JakobRobnik/MicroCanonicalHMC.git"
      ]
    },
    {
      "cell_type": "markdown",
      "source": [
        "We will be using jax, as it can automatically compute gradients."
      ],
      "metadata": {
        "id": "rEAjgH6b6MiR"
      }
    },
    {
      "cell_type": "code",
      "source": [
        "import jax\n",
        "import jax.numpy as jnp\n",
        "import numpy as np\n",
        "import matplotlib.pyplot as plt\n",
        "\n",
        "from MicroCanonicalHMC import ESH"
      ],
      "metadata": {
        "id": "Rrzbg6xjz2gm"
      },
      "execution_count": null,
      "outputs": []
    },
    {
      "cell_type": "markdown",
      "source": [
        "In this example we will sample from a standard Gaussian target. Let's define the negative log density:"
      ],
      "metadata": {
        "id": "4Dd92Wan6Wl_"
      }
    },
    {
      "cell_type": "code",
      "source": [
        "nlogp = lambda x: 0.5*jnp.sum(jnp.square(x))"
      ],
      "metadata": {
        "id": "ynRgtRKWzizg"
      },
      "execution_count": null,
      "outputs": []
    },
    {
      "cell_type": "markdown",
      "source": [
        "and get the gradient with jax:"
      ],
      "metadata": {
        "id": "qE-l3rW-6kyh"
      }
    },
    {
      "cell_type": "code",
      "source": [
        "grad_nlogp = jax.grad(nlogp)"
      ],
      "metadata": {
        "id": "FxAwakKf6jy7"
      },
      "execution_count": null,
      "outputs": []
    },
    {
      "cell_type": "markdown",
      "source": [
        "\n",
        "The target is a class with functions nlogp, grad_nlogp and transform. Some common targets are implemented in `targets.py`.\n",
        "Let's here define the standard Gaussian target:"
      ],
      "metadata": {
        "id": "NRcl3RZS6vIl"
      }
    },
    {
      "cell_type": "code",
      "source": [
        "class StandardGaussian():\n",
        "  \n",
        "  def __init__(self, d):\n",
        "    self.d = d\n",
        "  \n",
        "  def nlogp(self, x):\n",
        "     return nlogp(x)\n",
        "\n",
        "  def grad_nlogp(self, x):\n",
        "     return grad_nlogp(x)\n",
        "\n",
        "  def transform(self, x):\n",
        "    return jnp.array([x[0], jnp.sum(jnp.square(x))])"
      ],
      "metadata": {
        "id": "n2nW60C-zDIF"
      },
      "execution_count": null,
      "outputs": []
    },
    {
      "cell_type": "markdown",
      "source": [
        "When the dimensionality is high, storing all of the samples may become memory intesive. However, we are ususally only iterested in some lower dimensional marginal distribution. `transform` is used in those cases as a map to the lower dimensional space of interest. As an illustration we will here only store $x_1$ and $\\sum_{i=1}^d x_i^2$."
      ],
      "metadata": {
        "id": "6yG6xmAtm8cP"
      }
    },
    {
      "cell_type": "markdown",
      "source": [
        "Let's sample from a $d = 100$ dimensional target. \n",
        "MCHMC has two important tunable parameters, the integration step-size $\\epsilon$ and the separation between the momentum resampling $L$. \n",
        "\n",
        "For the optimal performance, set $\\epsilon$ to the largest value that still does not have divergences. If the target is preconditioned this is around 1, so let's use this value here.\n",
        "\n",
        "For the generalized MCHMC the optimal $L$ is close to $\\sqrt{d}$, let's use this value."
      ],
      "metadata": {
        "id": "SnS6vD6s8KUC"
      }
    },
    {
      "cell_type": "code",
      "source": [
        "d= 100\n",
        "sampler = ESH.Sampler(StandardGaussian(d), eps = 1.0)\n",
        "L = jnp.sqrt(d)"
      ],
      "metadata": {
        "id": "aMvFvS4Lz8Up"
      },
      "execution_count": null,
      "outputs": []
    },
    {
      "cell_type": "markdown",
      "source": [
        "We will use gradual momentum decoherence mechanism (`generalized= True`) and take $10^5$ samples."
      ],
      "metadata": {
        "id": "Mhx15A2K8020"
      }
    },
    {
      "cell_type": "code",
      "source": [
        "key = jax.random.PRNGKey(0) #random seed\n",
        "x0 = jnp.ones(d) #initial condition\n",
        "samples, weights = sampler.sample(x0, 100000, L, key, generalized= True)"
      ],
      "metadata": {
        "id": "sucJHLMi0Jfh"
      },
      "execution_count": null,
      "outputs": []
    },
    {
      "cell_type": "markdown",
      "source": [
        "The sampler returns the samples and the associated weights."
      ],
      "metadata": {
        "id": "IClcHBm29Oce"
      }
    },
    {
      "cell_type": "code",
      "source": [
        "print(jnp.shape(samples))\n",
        "print(jnp.shape(weights))"
      ],
      "metadata": {
        "colab": {
          "base_uri": "https://localhost:8080/"
        },
        "id": "yypd11zL5Cof",
        "outputId": "ba565ece-fc50-4c0c-87b7-daf8c3f9a729"
      },
      "execution_count": null,
      "outputs": [
        {
          "output_type": "stream",
          "name": "stdout",
          "text": [
            "(100000, 2)\n",
            "(100000,)\n"
          ]
        }
      ]
    },
    {
      "cell_type": "markdown",
      "source": [
        "Let's plot the one dimensional marginal distribution along the $x_1$ coordinate."
      ],
      "metadata": {
        "id": "rYNoRRzd9old"
      }
    },
    {
      "cell_type": "code",
      "source": [
        "plt.hist(samples[:, 0], bins = 50, weights = weights, density = True, label = 'MCHMC')\n",
        "\n",
        "from scipy.stats import norm\n",
        "\n",
        "t = jnp.linspace(-4, 4, 100)\n",
        "plt.plot(t, norm.pdf(t), color = 'black', label = 'ground truth')\n",
        "\n",
        "plt.xlabel(r'$x_1$')\n",
        "plt.ylabel('density')\n",
        "plt.legend()\n",
        "plt.show()"
      ],
      "metadata": {
        "colab": {
          "base_uri": "https://localhost:8080/",
          "height": 281
        },
        "id": "FQWghKb41Yvy",
        "outputId": "0423fd86-26db-4afb-e57d-1eececb3c903"
      },
      "execution_count": null,
      "outputs": [
        {
          "output_type": "display_data",
          "data": {
            "text/plain": [
              "<Figure size 432x288 with 1 Axes>"
            ],
            "image/png": "[encoded data removed]"
          },
          "metadata": {
            "needs_background": "light"
          }
        }
      ]
    },
    {
      "cell_type": "markdown",
      "source": [
        "Alternatively, we can avoid the weights for ploting purposes and resample according to the weights:"
      ],
      "metadata": {
        "id": "b3S6fR5h5QvC"
      }
    },
    {
      "cell_type": "code",
      "source": [
        "x1 = np.random.choice(samples[:, 0], 10000, p= weights / np.sum(weights))"
      ],
      "metadata": {
        "id": "8SXFy-jK5Eye"
      },
      "execution_count": null,
      "outputs": []
    },
    {
      "cell_type": "code",
      "source": [
        "plt.hist(x1, bins = 50, density = True, label = 'MCHMC')\n",
        "\n",
        "plt.plot(t, norm.pdf(t), color = 'black', label = 'ground truth')\n",
        "\n",
        "plt.xlabel(r'$x_1$')\n",
        "plt.ylabel('density')\n",
        "plt.legend()\n",
        "plt.show()"
      ],
      "metadata": {
        "colab": {
          "base_uri": "https://localhost:8080/",
          "height": 281
        },
        "id": "EXZ28x7I5Lms",
        "outputId": "b031523c-2ca9-4f3e-8e49-1e6444079cd4"
      },
      "execution_count": null,
      "outputs": [
        {
          "output_type": "display_data",
          "data": {
            "text/plain": [
              "<Figure size 432x288 with 1 Axes>"
            ],
            "image/png": "[encoded data removed]"
          },
          "metadata": {
            "needs_background": "light"
          }
        }
      ]
    }
  ]
}