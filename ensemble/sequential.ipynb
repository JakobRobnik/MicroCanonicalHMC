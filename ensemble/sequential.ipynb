{
 "cells": [
  {
   "cell_type": "code",
   "execution_count": 1,
   "metadata": {},
   "outputs": [
    {
     "name": "stderr",
     "output_type": "stream",
     "text": [
      "No GPU/TPU found, falling back to CPU. (Set TF_CPP_MIN_LOG_LEVEL=0 and rerun for more info.)\n"
     ]
    },
    {
     "data": {
      "text/html": [
       "<div>\n",
       "<style scoped>\n",
       "    .dataframe tbody tr th:only-of-type {\n",
       "        vertical-align: middle;\n",
       "    }\n",
       "\n",
       "    .dataframe tbody tr th {\n",
       "        vertical-align: top;\n",
       "    }\n",
       "\n",
       "    .dataframe thead th {\n",
       "        text-align: right;\n",
       "    }\n",
       "</style>\n",
       "<table border=\"1\" class=\"dataframe\">\n",
       "  <thead>\n",
       "    <tr style=\"text-align: right;\">\n",
       "      <th></th>\n",
       "      <th>model</th>\n",
       "      <th>MCLMC1</th>\n",
       "      <th>MCLMC2</th>\n",
       "      <th>NUTS</th>\n",
       "    </tr>\n",
       "  </thead>\n",
       "  <tbody>\n",
       "    <tr>\n",
       "      <th>0</th>\n",
       "      <td>Banana</td>\n",
       "      <td>53.76</td>\n",
       "      <td>50.14</td>\n",
       "      <td>642.109</td>\n",
       "    </tr>\n",
       "    <tr>\n",
       "      <th>1</th>\n",
       "      <td>Ill Conditioned Gaussian</td>\n",
       "      <td>326.74</td>\n",
       "      <td>334.52</td>\n",
       "      <td>1139.065</td>\n",
       "    </tr>\n",
       "    <tr>\n",
       "      <th>2</th>\n",
       "      <td>Sparse Logistic Regression</td>\n",
       "      <td>41.36</td>\n",
       "      <td>41.94</td>\n",
       "      <td>103.974</td>\n",
       "    </tr>\n",
       "    <tr>\n",
       "      <th>3</th>\n",
       "      <td>Brownian Motion</td>\n",
       "      <td>20.58</td>\n",
       "      <td>16.90</td>\n",
       "      <td>53.837</td>\n",
       "    </tr>\n",
       "    <tr>\n",
       "      <th>4</th>\n",
       "      <td>Item Response Theory</td>\n",
       "      <td>15.96</td>\n",
       "      <td>16.12</td>\n",
       "      <td>73.245</td>\n",
       "    </tr>\n",
       "    <tr>\n",
       "      <th>5</th>\n",
       "      <td>Stochastic Volatility</td>\n",
       "      <td>inf</td>\n",
       "      <td>inf</td>\n",
       "      <td>299.192</td>\n",
       "    </tr>\n",
       "  </tbody>\n",
       "</table>\n",
       "</div>"
      ],
      "text/plain": [
       "                        model  MCLMC1  MCLMC2      NUTS\n",
       "0                      Banana   53.76   50.14   642.109\n",
       "1    Ill Conditioned Gaussian  326.74  334.52  1139.065\n",
       "2  Sparse Logistic Regression   41.36   41.94   103.974\n",
       "3             Brownian Motion   20.58   16.90    53.837\n",
       "4        Item Response Theory   15.96   16.12    73.245\n",
       "5       Stochastic Volatility     inf     inf   299.192"
      ]
     },
     "metadata": {},
     "output_type": "display_data"
    },
    {
     "data": {
      "text/html": [
       "<div>\n",
       "<style scoped>\n",
       "    .dataframe tbody tr th:only-of-type {\n",
       "        vertical-align: middle;\n",
       "    }\n",
       "\n",
       "    .dataframe tbody tr th {\n",
       "        vertical-align: top;\n",
       "    }\n",
       "\n",
       "    .dataframe thead th {\n",
       "        text-align: right;\n",
       "    }\n",
       "</style>\n",
       "<table border=\"1\" class=\"dataframe\">\n",
       "  <thead>\n",
       "    <tr style=\"text-align: right;\">\n",
       "      <th></th>\n",
       "      <th>model</th>\n",
       "      <th>MCLMC1</th>\n",
       "      <th>NUTS</th>\n",
       "    </tr>\n",
       "  </thead>\n",
       "  <tbody>\n",
       "    <tr>\n",
       "      <th>0</th>\n",
       "      <td>Sparse Logistic Regression</td>\n",
       "      <td>0.006</td>\n",
       "      <td>0.0014</td>\n",
       "    </tr>\n",
       "    <tr>\n",
       "      <th>1</th>\n",
       "      <td>Stochastic Volatility</td>\n",
       "      <td>0.011</td>\n",
       "      <td>0.0060</td>\n",
       "    </tr>\n",
       "  </tbody>\n",
       "</table>\n",
       "</div>"
      ],
      "text/plain": [
       "                        model  MCLMC1    NUTS\n",
       "0  Sparse Logistic Regression   0.006  0.0014\n",
       "1       Stochastic Volatility   0.011  0.0060"
      ]
     },
     "metadata": {},
     "output_type": "display_data"
    }
   ],
   "source": [
    "import pandas as pd\n",
    "import numpy as np\n",
    "import sys, os\n",
    "sys.path.append('../')\n",
    "from benchmarks.inference_models import *\n",
    "\n",
    "models = (\n",
    "        Banana(),\n",
    "        Gaussian(ndims=100, eigenvalues='Gamma', numpy_seed= rng_inference_gym_icg),\n",
    "        GermanCredit(),\n",
    "        Brownian(),\n",
    "        ItemResponseTheory(),\n",
    "        StochasticVolatility()\n",
    ")\n",
    "\n",
    "dfs = [pd.read_csv('sequential_results/' + model.name + str(model.ndims) + '0.csv') for model in models]\n",
    "\n",
    "round = lambda x: np.round(x, 3)\n",
    "#round = lambda x: x\n",
    "\n",
    "def get_mclmc(df, num_windows):\n",
    "    x= df[(df['sampler'] == 'mclmc:st3') & (df['num_windows'] == num_windows)]['ess_avg'].item()\n",
    "    if x == 0.:\n",
    "        return np.inf\n",
    "    else:\n",
    "        return round(1./x)\n",
    "\n",
    "def get_nuts(df):\n",
    "    return round(1./df[df['sampler'] == 'nuts']['ess_avg'].item())\n",
    "\n",
    "df = pd.DataFrame(np.array([[get_mclmc(df, 1) for df in dfs], [get_mclmc(df, 2) for df in dfs], [get_nuts(df) for df in dfs]]).T, columns= ['MCLMC1', 'MCLMC2', 'NUTS'])\n",
    "df.insert(0, 'model', ['Banana', 'Ill Conditioned Gaussian', 'Sparse Logistic Regression', 'Brownian Motion', 'Item Response Theory', 'Stochastic Volatility'])\n",
    "\n",
    "display(df)\n",
    "df_old = pd.DataFrame([['Sparse Logistic Regression', 0.006, 0.0014], ['Stochastic Volatility', 0.011, 0.006]], columns = ['model', 'MCLMC1', 'NUTS'])\n",
    "display(df_old)\n",
    "#df = df.style.format(index=False, precision=3)\n",
    "#print(df.to_latex(index= False))\n",
    "\n"
   ]
  },
  {
   "cell_type": "code",
   "execution_count": 10,
   "metadata": {},
   "outputs": [
    {
     "name": "stdout",
     "output_type": "stream",
     "text": [
      "Banana: grads=67, bmaxsq= 0.022757987\n",
      "Gaussian_Gamma_1: grads=81, bmaxsq= 7.1916775e+16\n",
      "GermanCredit: grads=135, bmaxsq= 21.520971\n",
      "Brownian: grads=88, bmaxsq= 2316206000.0\n",
      "ItemResponseTheory: grads=77, bmaxsq= 536717560000.0\n",
      "StochasticVolatility: grads=80, bmaxsq= inf\n"
     ]
    }
   ],
   "source": [
    "pf= pd.read_csv('submission/pathfinder_convergence.csv', sep= '\\t')\n",
    "pf_cost = pd.read_csv('submission/pathfinder_cost.csv', sep= '\\t')\n",
    "\n",
    "for model in models:\n",
    "    grads = np.max(np.array(pf_cost[model.name]))\n",
    "     \n",
    "    bavg, bmax = pf[pf['name'] == model.name][['bavg', 'bmax']].to_numpy()[0]\n",
    "    print(f'{model.name}: grads={int(grads)}, bmaxsq= {bmax}')\n",
    "    "
   ]
  }
 ],
 "metadata": {
  "kernelspec": {
   "display_name": "Python 3",
   "language": "python",
   "name": "python3"
  },
  "language_info": {
   "codemirror_mode": {
    "name": "ipython",
    "version": 3
   },
   "file_extension": ".py",
   "mimetype": "text/x-python",
   "name": "python",
   "nbconvert_exporter": "python",
   "pygments_lexer": "ipython3",
   "version": "3.8.20"
  }
 },
 "nbformat": 4,
 "nbformat_minor": 4
}
