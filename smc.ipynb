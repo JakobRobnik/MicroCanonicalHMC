{
 "cells": [
  {
   "cell_type": "code",
   "execution_count": 5,
   "metadata": {},
   "outputs": [
    {
     "name": "stdout",
     "output_type": "stream",
     "text": [
      "T: 7.934140205383301\n",
      "T: 6.289180278778076\n",
      "T: 4.99062967300415\n",
      "T: 3.948193311691284\n",
      "T: 3.1125500202178955\n",
      "T: 2.480544328689575\n",
      "T: 1.962662935256958\n",
      "T: 1.5479286909103394\n",
      "T: 1.2181185483932495\n",
      "T: 1.0006999969482422\n",
      "[[-2.057352    1.1092976   0.80391675 ...  0.37964222  0.09929569\n",
      "  -0.03472789]\n",
      " [-0.6339323   0.04420332  0.04116813 ... -0.38555458  0.515353\n",
      "   0.58622646]\n",
      " [-1.1207352   2.239424    1.118692   ... -0.20855463  0.161166\n",
      "   0.00908814]\n",
      " ...\n",
      " [ 1.5905364   1.14669    -0.76112944 ... -0.19659579 -0.9907174\n",
      "   0.59807986]\n",
      " [ 0.5725722   0.8527018  -0.30675724 ...  0.19559085  0.4317238\n",
      "   0.5072512 ]\n",
      " [ 0.23262183  0.7745884  -1.3525946  ... -1.9037026   1.699978\n",
      "  -1.635683  ]]\n"
     ]
    }
   ],
   "source": [
    "from sampling.smc import Sampler\n",
    "import jax\n",
    "import jax.numpy as jnp\n",
    "\n",
    "temp_init = 10.0\n",
    "temp_final = 1.0\n",
    "\n",
    "class StandardNormal():\n",
    "    \"\"\"Standard Normal distribution in d dimensions\"\"\"\n",
    "\n",
    "    def __init__(self, d):\n",
    "        self.d = d\n",
    "        self.grad_nlogp = jax.value_and_grad(self.nlogp)\n",
    "\n",
    "\n",
    "    def nlogp(self, x):\n",
    "        \"\"\"- log p of the target distribution\"\"\"\n",
    "        return 0.5 * jnp.sum(jnp.square(x), axis= -1)\n",
    "\n",
    "    def prior_draw(self, key):\n",
    "        return jax.random.normal(key, shape = (self.d, ), dtype = 'float64') * jnp.sqrt(temp_init) #start from the distribution at high temperature\n",
    "\n",
    "\n",
    "target = StandardNormal(d = 10)\n",
    "\n",
    "sampler = Sampler(target)\n",
    "\n",
    "x = sampler.sample(steps_at_each_temp = 1000, tune_steps= 100, num_chains= 1000, temp_init=temp_init, temp_final=temp_final, ess=0.8)\n",
    "\n",
    "\n",
    "print(x)"
   ]
  },
  {
   "cell_type": "code",
   "execution_count": 6,
   "metadata": {},
   "outputs": [
    {
     "data": {
      "text/plain": [
       "(1000, 10)"
      ]
     },
     "execution_count": 6,
     "metadata": {},
     "output_type": "execute_result"
    }
   ],
   "source": [
    "x.shape"
   ]
  },
  {
   "cell_type": "code",
   "execution_count": 7,
   "metadata": {},
   "outputs": [
    {
     "data": {
      "image/png": "[encoded data removed]",
      "text/plain": [
       "<Figure size 640x480 with 1 Axes>"
      ]
     },
     "metadata": {},
     "output_type": "display_data"
    }
   ],
   "source": [
    "import matplotlib.pyplot as plt \n",
    "\n",
    "plt.scatter(x[:,0], x[:,1], s=1);"
   ]
  },
  {
   "cell_type": "code",
   "execution_count": 8,
   "metadata": {},
   "outputs": [
    {
     "data": {
      "text/plain": [
       "Array([1.0328753 , 1.0215394 , 1.0289255 , 1.0051256 , 1.0394958 ,\n",
       "       1.0267732 , 1.0310154 , 1.0171338 , 1.0372777 , 0.97704905],      dtype=float32)"
      ]
     },
     "execution_count": 8,
     "metadata": {},
     "output_type": "execute_result"
    }
   ],
   "source": [
    "jnp.std(x, axis=0)"
   ]
  },
  {
   "cell_type": "code",
   "execution_count": null,
   "metadata": {},
   "outputs": [],
   "source": []
  }
 ],
 "metadata": {
  "kernelspec": {
   "display_name": "jax-env",
   "language": "python",
   "name": "python3"
  },
  "language_info": {
   "codemirror_mode": {
    "name": "ipython",
    "version": 3
   },
   "file_extension": ".py",
   "mimetype": "text/x-python",
   "name": "python",
   "nbconvert_exporter": "python",
   "pygments_lexer": "ipython3",
   "version": "3.10.11"
  },
  "orig_nbformat": 4
 },
 "nbformat": 4,
 "nbformat_minor": 2
}
