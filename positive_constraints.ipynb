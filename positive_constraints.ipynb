{
  "nbformat": 4,
  "nbformat_minor": 0,
  "metadata": {
    "colab": {
      "provenance": [],
      "authorship_tag": "ABX9TyP4DkNC61HjlLtTnpjKYAh4",
      "include_colab_link": true
    },
    "kernelspec": {
      "name": "python3",
      "display_name": "Python 3"
    },
    "language_info": {
      "name": "python"
    }
  },
  "cells": [
    {
      "cell_type": "markdown",
      "metadata": {
        "id": "view-in-github",
        "colab_type": "text"
      },
      "source": [
        "<a href=\"https://colab.research.google.com/github/JakobRobnik/MicroCanonicalHMC/blob/master/positive_constraints.ipynb\" target=\"_parent\"><img src=\"https://colab.research.google.com/assets/colab-badge.svg\" alt=\"Open In Colab\"/></a>"
      ]
    },
    {
      "cell_type": "markdown",
      "source": [
        "# Positive constrains"
      ],
      "metadata": {
        "id": "zg2HKf82tAAV"
      }
    },
    {
      "cell_type": "markdown",
      "source": [
        "Suppose we want to sample from some target $p(\\boldsymbol{x})$ which is not defined on $\\mathbb{R}^d$. Instead, some of the parameters are constrained to be positive.\n",
        "\n",
        "I think the cleanest way to do sampling is to extend the definition domain to $\\mathbb{R}^d$ by reflection. So if the parameter $x_i$ must be positive, we simply define $p(-x_i) = p(x_i)$. After we are done with sampling we reflect the samples back by taking the absolute value of those parameters.\n",
        "\n",
        "Bellow I define a MCHMC target class which takes in the target defined on the restricted domain and extends it to the unconstrained space. Its transform attribute reflects back to the original domain at the end of sampling."
      ],
      "metadata": {
        "id": "tti_tr_otKXk"
      }
    },
    {
      "cell_type": "code",
      "source": [
        "import jax\n",
        "import jax.numpy as jnp\n",
        "import numpy as np\n",
        "import matplotlib.pyplot as plt"
      ],
      "metadata": {
        "id": "qoBZqUaCtSyo"
      },
      "execution_count": 12,
      "outputs": []
    },
    {
      "cell_type": "code",
      "source": [
        "class PositiveConstraint:\n",
        "\n",
        "    def __init__(self, target, positive):\n",
        "        \"\"\"takes in a target and enforces some of the parameters to be positive\n",
        "           positive is an array of lenght target.d\n",
        "           positive[i] = 1 if the i-th parameter must be positive and 0 otherwise\n",
        "        \"\"\"\n",
        "        self.positive = positive\n",
        "\n",
        "        # get the attributes from the previous target\n",
        "        self.d = target.d\n",
        "        self.transform = self.reflection\n",
        "\n",
        "        self.nlogp = lambda x: target.nlogp(self.reflection(x)) #we extend the domain by reflection p(-x_i) = p(x_i) for parameters which need to be positive\n",
        "        self.grad_nlogp = jax.value_and_grad(self.nlogp)\n",
        "\n",
        "        \n",
        "        if hasattr(target, 'transform'):\n",
        "            self.transform = lambda x: target.transform(self.reflection(x)) # at the end we reflect the samples back to the original domain\n",
        "        else:\n",
        "            self.transform = self.reflection\n",
        "\n",
        "        self.prior_draw = target.prior_draw\n",
        "\n",
        "\n",
        "    def reflection(self, x):\n",
        "        return x * jnp.sign(jnp.sign(x) + 2 - 2 * self.positive)"
      ],
      "metadata": {
        "id": "DHlQZRSLtXcp"
      },
      "execution_count": 13,
      "outputs": []
    },
    {
      "cell_type": "markdown",
      "source": [
        "Let's test this on an example. Suppose we want to sample from a standard Gaussian, but some of the parameters must be positve. We have defined a target class:"
      ],
      "metadata": {
        "id": "8M3yGLT2rqRA"
      }
    },
    {
      "cell_type": "code",
      "source": [
        "class StandardNormal():\n",
        "    \"\"\"Standard Normal distribution in d dimensions\"\"\"\n",
        "\n",
        "    def __init__(self, d):\n",
        "        self.d = d\n",
        "        self.variance = jnp.ones(d)\n",
        "        self.nlogp = lambda x: 0.5 * jnp.sum(jnp.square(x), axis= -1)\n",
        "        self.grad_nlogp = jax.value_and_grad(self.nlogp)\n",
        "        self.transform = lambda x: x\n",
        "        self.prior_draw = lambda key: jnp.abs(jax.random.normal(key, shape = (self.d, ), dtype = 'float64'))\n",
        "\n",
        "d = 100\n",
        "target_original = StandardNormal(d = 100)"
      ],
      "metadata": {
        "id": "h_quI_0dqAks"
      },
      "execution_count": 14,
      "outputs": []
    },
    {
      "cell_type": "markdown",
      "source": [
        "Now we impose the positivity constraint. This is achieved by passing the original target to `PositiveConstraint` and specifying which parameters must be positive. `positive` is an array with `positive[i] = 1` if the i-th parameter must be positive and 0 otherwise. \n",
        "\n",
        "In this example let the first 50 parameters be constrained:"
      ],
      "metadata": {
        "id": "JsOQL1UIu2Mh"
      }
    },
    {
      "cell_type": "code",
      "source": [
        "d = 100\n",
        "num_positive = 50\n",
        "positive = jnp.concatenate((jnp.ones(num_positive), jnp.zeros(d-num_positive)))\n",
        "target= PositiveConstraint(target_original, positive)"
      ],
      "metadata": {
        "id": "fNxSwo2SqWxc"
      },
      "execution_count": null,
      "outputs": []
    },
    {
      "cell_type": "markdown",
      "source": [
        "We can now simply use `target` in MCHMC and we will get the desired results. Let's download the MCHMC:"
      ],
      "metadata": {
        "id": "ummt0Kcou_2Y"
      }
    },
    {
      "cell_type": "code",
      "source": [
        "!git clone https://github.com/JakobRobnik/MicroCanonicalHMC.git\n",
        "from MicroCanonicalHMC.sampling.sampler import Sampler"
      ],
      "metadata": {
        "id": "ftj_7o2uuNkP"
      },
      "execution_count": null,
      "outputs": []
    },
    {
      "cell_type": "markdown",
      "source": [
        "and do the sampling:"
      ],
      "metadata": {
        "id": "VIDn8XluuZkq"
      }
    },
    {
      "cell_type": "code",
      "source": [
        "sampler = Sampler(target, 10.0, 5.0, integrator= 'LF')\n",
        "x, burnin = sampler.sample(10000)\n",
        "x= x[burnin:]"
      ],
      "metadata": {
        "id": "M4acSGfBrBrq"
      },
      "execution_count": 7,
      "outputs": []
    },
    {
      "cell_type": "markdown",
      "source": [
        "Let's visualize the results:"
      ],
      "metadata": {
        "id": "UFqGJduQwVB7"
      }
    },
    {
      "cell_type": "code",
      "source": [
        "plt.rcParams.update({'font.size': 17, 'axes.spines.right': False, 'axes.spines.top': False})\n",
        "\n",
        "plt.figure(figsize=(12, 5))\n",
        "\n",
        "#ground truth\n",
        "t = np.linspace(-5, 5, 200)\n",
        "pdf = np.exp(-0.5*np.square(t))/np.sqrt(2 * np.pi)\n",
        "\n",
        "bins = 15\n",
        "\n",
        "plt.subplot(1, 2, 1)\n",
        "plt.hist(x[:, 0], bins = bins, density= True, label = 'MCHMC (reflection)')\n",
        "plt.plot(t[t>0], 2*pdf[t>0], color = 'black', label = 'ground truth')\n",
        "plt.xlabel(r'$x_1$')\n",
        "plt.ylabel('density')\n",
        "plt.legend()\n",
        "\n",
        "plt.subplot(1, 2, 2)\n",
        "plt.hist(x[:, 50], bins = bins, density= True, label = 'MCHMC (reflection)')\n",
        "plt.plot(t, pdf, color = 'black', label = 'ground truth')\n",
        "plt.xlabel(r'$x_{51}$')\n",
        "\n",
        "plt.show()"
      ],
      "metadata": {
        "colab": {
          "base_uri": "https://localhost:8080/",
          "height": 350
        },
        "id": "58L8X-bjrEvM",
        "outputId": "62a6f378-8e43-42c2-ab6b-88e34f3a6cae"
      },
      "execution_count": 20,
      "outputs": [
        {
          "output_type": "display_data",
          "data": {
            "text/plain": [
              "<Figure size 864x360 with 2 Axes>"
            ],
            "image/png": "[encoded data removed]"
          },
          "metadata": {
            "needs_background": "light"
          }
        }
      ]
    }
  ]
}