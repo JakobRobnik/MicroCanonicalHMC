{
  "cells": [
    {
      "cell_type": "markdown",
      "metadata": {
        "id": "view-in-github",
        "colab_type": "text"
      },
      "source": [
        "<a href=\"https://colab.research.google.com/github/JakobRobnik/MicroCanonicalHMC/blob/master/notebooks/tutorials/intro_tutorial.ipynb\" target=\"_parent\"><img src=\"https://colab.research.google.com/assets/colab-badge.svg\" alt=\"Open In Colab\"/></a>"
      ]
    },
    {
      "cell_type": "markdown",
      "metadata": {
        "id": "qQc5Sh9v90k9"
      },
      "source": [
        "# **Getting started - MCHMC sampling from a Standard Gaussian target distribution**"
      ]
    },
    {
      "cell_type": "markdown",
      "source": [
        "\n",
        "\n",
        "First, let's import the MCHMC code.\n"
      ],
      "metadata": {
        "id": "MbK7Gv7hIc-i"
      }
    },
    {
      "cell_type": "code",
      "source": [
        "!git clone https://github.com/JakobRobnik/MicroCanonicalHMC.git"
      ],
      "metadata": {
        "id": "zS-IBX_rIY8B"
      },
      "execution_count": null,
      "outputs": []
    },
    {
      "cell_type": "markdown",
      "source": [
        "We will be using jax, as it can automatically compute gradients."
      ],
      "metadata": {
        "id": "B42CrO21Ijph"
      }
    },
    {
      "cell_type": "code",
      "execution_count": 5,
      "metadata": {
        "id": "Rrzbg6xjz2gm"
      },
      "outputs": [],
      "source": [
        "import jax\n",
        "import jax.numpy as jnp\n",
        "import numpy as np\n",
        "import matplotlib.pyplot as plt\n",
        "\n",
        "from MicroCanonicalHMC.sampling.sampler import Sampler"
      ]
    },
    {
      "cell_type": "markdown",
      "metadata": {
        "id": "4Dd92Wan6Wl_"
      },
      "source": [
        "In this example we will sample from a standard Gaussian target. Let's define the negative log density:"
      ]
    },
    {
      "cell_type": "code",
      "execution_count": 6,
      "metadata": {
        "id": "ynRgtRKWzizg"
      },
      "outputs": [],
      "source": [
        "nlogp = lambda x: 0.5*jnp.sum(jnp.square(x))"
      ]
    },
    {
      "cell_type": "markdown",
      "metadata": {
        "id": "qE-l3rW-6kyh"
      },
      "source": [
        "and get the gradient with jax:"
      ]
    },
    {
      "cell_type": "code",
      "execution_count": 7,
      "metadata": {
        "id": "FxAwakKf6jy7"
      },
      "outputs": [],
      "source": [
        "value_grad = jax.value_and_grad(nlogp)"
      ]
    },
    {
      "cell_type": "markdown",
      "metadata": {
        "id": "NRcl3RZS6vIl"
      },
      "source": [
        "\n",
        "The target is a class with functions `nlogp`, `grad_nlogp` and `transform`. Some common targets are implemented in `benchmarks/benchmarks_mchmc.py`.\n",
        "Let's here define the standard Gaussian target:"
      ]
    },
    {
      "cell_type": "code",
      "execution_count": 13,
      "metadata": {
        "id": "n2nW60C-zDIF"
      },
      "outputs": [],
      "source": [
        "class StandardGaussian():\n",
        "\n",
        "  def __init__(self, d):\n",
        "    self.d = d\n",
        "\n",
        "  def grad_nlogp(self, x):\n",
        "    \"\"\"should return nlogp and gradient of nlogp\"\"\"\n",
        "    return value_grad(x)\n",
        "\n",
        "  def transform(self, x):\n",
        "    return x[:2]\n",
        "    #return x\n",
        "\n",
        "  def prior_draw(self, key):\n",
        "    \"\"\"Args: jax random key\n",
        "       Returns: one random sample from the prior\"\"\"\n",
        "\n",
        "    return jax.random.normal(key, shape = (self.d, )) * 4"
      ]
    },
    {
      "cell_type": "markdown",
      "metadata": {
        "id": "6yG6xmAtm8cP"
      },
      "source": [
        "`transform` is useful when the dimensionality is high and storing all of the samples becomes memory intesive. We are ususally only iterested in some lower dimensional marginal distribution. `transform` is used in those cases as a map to the lower dimensional space of interest. As an illustration, here we are only interested in the first two components $x_1$ and $x_2$. If not needed it can just be set to the identity (commented out line).\n",
        "\n",
        "`prior_draw` is not a required attribute. By default it is used to initialize the chain. If not defined, we should pass the initial condition to the `sample` function by hand."
      ]
    },
    {
      "cell_type": "markdown",
      "metadata": {
        "id": "SnS6vD6s8KUC"
      },
      "source": [
        "Let's sample from a $d = 1000$ Standard Gaussian target. We create a mchmc Sampler class by passing it the desired target distribution:"
      ]
    },
    {
      "cell_type": "code",
      "execution_count": 14,
      "metadata": {
        "id": "aMvFvS4Lz8Up"
      },
      "outputs": [],
      "source": [
        "target = StandardGaussian(d = 1000)\n",
        "sampler = Sampler(target, varEwanted = 5e-4)"
      ]
    },
    {
      "cell_type": "markdown",
      "metadata": {
        "id": "4o7hKrzToAIU"
      },
      "source": [
        "We used the default Langevin-like momentum decoherence mechanism (`generalized= True`) and the Minimal Norm integrator of the dynamics (`integrator= 'MN'`). MCHMC has two hyperparameters, the integration step-size $ϵ$ and the momentum decoherence scale $L$. They will be auto-tuned at the begining of the sampling. Tuning cosist of three stages:\n",
        "1. burn-in + tuning $\\epsilon$\n",
        "2. tuning $L$\n",
        "3. estimating the effective sample size and use it to improve $L$ tuning\n",
        "\n",
        "The defualt is rather conservative and each of these stages takes 10 % of the sampling time. You can control the fraction of the sampling time that these stages take by inserting for example\n",
        " `sampler.frac_tune1 = 0.05`\n",
        " before the sampling starts.\n",
        "\n",
        " **WARNING: sometimes the default energy error 0.005 (which is used to tune the stepsize) is not optimal, especially if you are not interested in all of the parameters but specifialcally in the hardest-to-sample parameters (as is the case for example in hierarchical Bayesian models). Try decreasing the energy error, say by a factor = 10 - 100 and accordingly increase the number of samples by factor^1/6 to see if the posteriors remain the same. On some other problems 0.005 is to conservative and you can improve the performance by increasing it.**"
      ]
    },
    {
      "cell_type": "markdown",
      "metadata": {
        "id": "Mhx15A2K8020"
      },
      "source": [
        "We can now run the sampler. Let's get 5000 samples in 3 independent chains:"
      ]
    },
    {
      "cell_type": "code",
      "execution_count": 16,
      "metadata": {
        "id": "sucJHLMi0Jfh"
      },
      "outputs": [],
      "source": [
        "samples = sampler.sample(5000, 3)"
      ]
    },
    {
     "name": "stdout",
     "output_type": "stream",
     "text": [
      "Collecting matplotlib\n",
      "  Obtaining dependency information for matplotlib from https://files.pythonhosted.org/packages/af/f3/fb27b3b902fc759bbca3f9d0336c48069c3022e57552c4b0095d997c7ea8/matplotlib-3.8.0-cp311-cp311-macosx_11_0_arm64.whl.metadata\n",
      "  Downloading matplotlib-3.8.0-cp311-cp311-macosx_11_0_arm64.whl.metadata (5.8 kB)\n",
      "Requirement already satisfied: contourpy>=1.0.1 in /opt/homebrew/Caskroom/miniconda/base/envs/mclmc/lib/python3.11/site-packages (from matplotlib) (1.1.1)\n",
      "Collecting cycler>=0.10 (from matplotlib)\n",
      "  Using cached cycler-0.11.0-py3-none-any.whl (6.4 kB)\n",
      "Collecting fonttools>=4.22.0 (from matplotlib)\n",
      "  Obtaining dependency information for fonttools>=4.22.0 from https://files.pythonhosted.org/packages/1f/80/c5ce42faa7dec3c22fe587e56e141c7416c19a13a96bd4972bf1b55cb494/fonttools-4.42.1-cp311-cp311-macosx_10_9_universal2.whl.metadata\n",
      "  Downloading fonttools-4.42.1-cp311-cp311-macosx_10_9_universal2.whl.metadata (150 kB)\n",
      "\u001b[2K     \u001b[38;2;114;156;31m━━━━━━━━━━━━━━━━━━━━━━━━━━━━━━━━━━━━━━━\u001b[0m \u001b[32m151.0/151.0 kB\u001b[0m \u001b[31m2.9 MB/s\u001b[0m eta \u001b[36m0:00:00\u001b[0m[31m2.7 MB/s\u001b[0m eta \u001b[36m0:00:01\u001b[0m\n",
      "\u001b[?25hCollecting kiwisolver>=1.0.1 (from matplotlib)\n",
      "  Obtaining dependency information for kiwisolver>=1.0.1 from https://files.pythonhosted.org/packages/4a/fe/23d7fa78f7c66086d196406beb1fb2eaf629dd7adc01c3453033303d17fa/kiwisolver-1.4.5-cp311-cp311-macosx_11_0_arm64.whl.metadata\n",
      "  Downloading kiwisolver-1.4.5-cp311-cp311-macosx_11_0_arm64.whl.metadata (6.4 kB)\n",
      "Requirement already satisfied: numpy<2,>=1.21 in /opt/homebrew/Caskroom/miniconda/base/envs/mclmc/lib/python3.11/site-packages (from matplotlib) (1.26.0)\n",
      "Requirement already satisfied: packaging>=20.0 in /opt/homebrew/Caskroom/miniconda/base/envs/mclmc/lib/python3.11/site-packages (from matplotlib) (23.1)\n",
      "Requirement already satisfied: pillow>=6.2.0 in /opt/homebrew/Caskroom/miniconda/base/envs/mclmc/lib/python3.11/site-packages (from matplotlib) (10.0.1)\n",
      "Collecting pyparsing>=2.3.1 (from matplotlib)\n",
      "  Obtaining dependency information for pyparsing>=2.3.1 from https://files.pythonhosted.org/packages/39/92/8486ede85fcc088f1b3dba4ce92dd29d126fd96b0008ea213167940a2475/pyparsing-3.1.1-py3-none-any.whl.metadata\n",
      "  Downloading pyparsing-3.1.1-py3-none-any.whl.metadata (5.1 kB)\n",
      "Requirement already satisfied: python-dateutil>=2.7 in /opt/homebrew/Caskroom/miniconda/base/envs/mclmc/lib/python3.11/site-packages (from matplotlib) (2.8.2)\n",
      "Requirement already satisfied: six>=1.5 in /opt/homebrew/Caskroom/miniconda/base/envs/mclmc/lib/python3.11/site-packages (from python-dateutil>=2.7->matplotlib) (1.16.0)\n",
      "Downloading matplotlib-3.8.0-cp311-cp311-macosx_11_0_arm64.whl (7.5 MB)\n",
      "\u001b[2K   \u001b[38;2;114;156;31m━━━━━━━━━━━━━━━━━━━━━━━━━━━━━━━━━━━━━━━━\u001b[0m \u001b[32m7.5/7.5 MB\u001b[0m \u001b[31m36.9 MB/s\u001b[0m eta \u001b[36m0:00:00\u001b[0mm eta \u001b[36m0:00:01\u001b[0m0:01\u001b[0m:01\u001b[0m\n",
      "\u001b[?25hDownloading fonttools-4.42.1-cp311-cp311-macosx_10_9_universal2.whl (2.7 MB)\n",
      "\u001b[2K   \u001b[38;2;114;156;31m━━━━━━━━━━━━━━━━━━━━━━━━━━━━━━━━━━━━━━━━\u001b[0m \u001b[32m2.7/2.7 MB\u001b[0m \u001b[31m47.7 MB/s\u001b[0m eta \u001b[36m0:00:00\u001b[0m MB/s\u001b[0m eta \u001b[36m0:00:01\u001b[0m\n",
      "\u001b[?25hDownloading kiwisolver-1.4.5-cp311-cp311-macosx_11_0_arm64.whl (66 kB)\n",
      "\u001b[2K   \u001b[38;2;114;156;31m━━━━━━━━━━━━━━━━━━━━━━━━━━━━━━━━━━━━━━━━\u001b[0m \u001b[32m66.2/66.2 kB\u001b[0m \u001b[31m8.3 MB/s\u001b[0m eta \u001b[36m0:00:00\u001b[0m\n",
      "\u001b[?25hDownloading pyparsing-3.1.1-py3-none-any.whl (103 kB)\n",
      "\u001b[2K   \u001b[38;2;114;156;31m━━━━━━━━━━━━━━━━━━━━━━━━━━━━━━━━━━━━━━━━\u001b[0m \u001b[32m103.1/103.1 kB\u001b[0m \u001b[31m11.6 MB/s\u001b[0m eta \u001b[36m0:00:00\u001b[0m\n",
      "\u001b[?25hInstalling collected packages: pyparsing, kiwisolver, fonttools, cycler, matplotlib\n",
      "Successfully installed cycler-0.11.0 fonttools-4.42.1 kiwisolver-1.4.5 matplotlib-3.8.0 pyparsing-3.1.1\n"
     ]
    }
   ],
   "source": [
    "import sys  \n",
    "sys.path.insert(0, '../../')\n",
    "\n",
    "import jax\n",
    "import jax.numpy as jnp\n",
    "import numpy as np\n",
    "import matplotlib.pyplot as plt\n",
    "\n",
    "from sampling.sampler import Sampler"
   ]
  },
  {
   "cell_type": "markdown",
   "metadata": {
    "id": "4Dd92Wan6Wl_"
   },
   "source": [
    "In this example we will sample from a standard Gaussian target. Let's define the negative log density:"
   ]
  },
  {
   "cell_type": "code",
   "execution_count": 4,
   "metadata": {
    "id": "ynRgtRKWzizg"
   },
   "outputs": [],
   "source": [
    "nlogp = lambda x: 0.5*jnp.sum(jnp.square(x))"
   ]
  },
  {
   "cell_type": "markdown",
   "metadata": {
    "id": "qE-l3rW-6kyh"
   },
   "source": [
    "and get the gradient with jax:"
   ]
  },
  {
   "cell_type": "code",
   "execution_count": 5,
   "metadata": {
    "id": "FxAwakKf6jy7"
   },
   "outputs": [],
   "source": [
    "value_grad = jax.value_and_grad(nlogp)"
   ]
  },
  {
   "cell_type": "markdown",
   "metadata": {
    "id": "NRcl3RZS6vIl"
   },
   "source": [
    "\n",
    "The target is a class with functions `nlogp`, `grad_nlogp` and `transform`. Some common targets are implemented in `benchmarks/benchmarks_mchmc.py`.\n",
    "Let's here define the standard Gaussian target:"
   ]
  },
  {
   "cell_type": "code",
   "execution_count": 6,
   "metadata": {
    "id": "n2nW60C-zDIF"
   },
   "outputs": [],
   "source": [
    "class StandardGaussian():\n",
    "\n",
    "  def __init__(self, d):\n",
    "    self.d = d\n",
    "\n",
    "  def grad_nlogp(self, x):\n",
    "    \"\"\"should return nlogp and gradient of nlogp\"\"\"\n",
    "    return value_grad(x)\n",
    "\n",
    "  def transform(self, x):\n",
    "    return x[:2]\n",
    "    #return x\n",
    "\n",
    "  def prior_draw(self, key):\n",
    "    \"\"\"Args: jax random key\n",
    "       Returns: one random sample from the prior\"\"\"\n",
    "\n",
    "    return jax.random.normal(key, shape = (self.d, ), dtype = 'float64') * 4"
   ]
  },
  {
   "cell_type": "markdown",
   "metadata": {
    "id": "6yG6xmAtm8cP"
   },
   "source": [
    "`transform` is useful when the dimensionality is high and storing all of the samples becomes memory intesive. We are ususally only iterested in some lower dimensional marginal distribution. `transform` is used in those cases as a map to the lower dimensional space of interest. As an illustration, here we are only interested in the first two components $x_1$ and $x_2$. If not needed it can just be set to the identity (commented out line).\n",
    "\n",
    "`prior_draw` is not a required attribute. By default it is used to initialize the chain. If not defined, we should pass the initial condition to the `sample` function by hand."
   ]
  },
  {
   "cell_type": "markdown",
   "metadata": {
    "id": "SnS6vD6s8KUC"
   },
   "source": [
    "Let's sample from a $d = 1000$ Standard Gaussian target. We create a mchmc Sampler class by passing it the desired target distribution:"
   ]
  },
  {
   "cell_type": "code",
   "execution_count": 7,
   "metadata": {
    "id": "aMvFvS4Lz8Up"
   },
   "outputs": [
    {
<<<<<<< HEAD
     "name": "stderr",
     "output_type": "stream",
     "text": [
      "WARNING: All log messages before absl::InitializeLog() is called are written to STDERR\n",
      "I0000 00:00:1695590647.501369       1 tfrt_cpu_pjrt_client.cc:349] TfrtCpuClient created.\n"
     ]
=======
      "cell_type": "code",
      "execution_count": 17,
      "metadata": {
        "colab": {
          "base_uri": "https://localhost:8080/"
        },
        "id": "yypd11zL5Cof",
        "outputId": "7a5cdb58-fdf0-4a35-df49-9a44fbf1bea1"
      },
      "outputs": [
        {
          "output_type": "stream",
          "name": "stdout",
          "text": [
            "(3, 5000, 2)\n"
          ]
        }
      ],
      "source": [
        "print(samples.shape)"
      ]
>>>>>>> master
    },
    {
     "ename": "NameError",
     "evalue": "name 'gna' is not defined",
     "output_type": "error",
     "traceback": [
      "\u001b[0;31m---------------------------------------------------------------------------\u001b[0m",
      "\u001b[0;31mNameError\u001b[0m                                 Traceback (most recent call last)",
      "Cell \u001b[0;32mIn[7], line 2\u001b[0m\n\u001b[1;32m      1\u001b[0m target \u001b[38;5;241m=\u001b[39m StandardGaussian(d \u001b[38;5;241m=\u001b[39m \u001b[38;5;241m1000\u001b[39m)\n\u001b[0;32m----> 2\u001b[0m sampler \u001b[38;5;241m=\u001b[39m Sampler(target, varEwanted \u001b[38;5;241m=\u001b[39m \u001b[38;5;241m5e-4\u001b[39m)\n",
      "File \u001b[0;32m~/MicroCanonicalHMC/notebooks/tutorials/../../sampling/sampler.py:55\u001b[0m, in \u001b[0;36mSampler.__init__\u001b[0;34m(self, Target, L, eps, integrator, varEwanted, diagonal_preconditioning, frac_tune1, frac_tune2, frac_tune3)\u001b[0m\n\u001b[1;32m     53\u001b[0m \u001b[38;5;66;03m### option of stochastic gradient ###\u001b[39;00m\n\u001b[1;32m     54\u001b[0m \u001b[38;5;28mself\u001b[39m\u001b[38;5;241m.\u001b[39msg\u001b[38;5;241m=\u001b[39m \u001b[38;5;28;01mFalse\u001b[39;00m\n\u001b[0;32m---> 55\u001b[0m \u001b[38;5;28mself\u001b[39m\u001b[38;5;241m.\u001b[39mdynamics \u001b[38;5;241m=\u001b[39m \u001b[38;5;28mself\u001b[39m\u001b[38;5;241m.\u001b[39mdynamics_generalized_gna \u001b[38;5;28;01mif\u001b[39;00m gna \u001b[38;5;28;01melse\u001b[39;00m \u001b[38;5;28mself\u001b[39m\u001b[38;5;241m.\u001b[39mdynamics_generalized\n\u001b[1;32m     57\u001b[0m \u001b[38;5;66;03m### preconditioning ###\u001b[39;00m\n\u001b[1;32m     58\u001b[0m \u001b[38;5;28mself\u001b[39m\u001b[38;5;241m.\u001b[39mdiagonal_preconditioning \u001b[38;5;241m=\u001b[39m diagonal_preconditioning\n",
      "\u001b[0;31mNameError\u001b[0m: name 'gna' is not defined"
     ]
    }
   ],
   "source": [
    "target = StandardGaussian(d = 1000)\n",
    "sampler = Sampler(target, varEwanted = 5e-4)"
   ]
  },
  {
   "cell_type": "markdown",
   "metadata": {
    "id": "4o7hKrzToAIU"
   },
   "source": [
    "We used the default Langevin-like momentum decoherence mechanism (`generalized= True`) and the Minimal Norm integrator of the dynamics (`integrator= 'MN'`). MCHMC has two hyperparameters, the integration step-size $ϵ$ and the momentum decoherence scale $L$. They will be auto-tuned at the begining of the sampling. Tuning cosist of three stages:\n",
    "1. burn-in + tuning $\\epsilon$\n",
    "2. tuning $L$\n",
    "3. estimating the effective sample size and use it to improve $L$ tuning\n",
    "\n",
    "The defualt is rather conservative and each of these stages takes 10 % of the sampling time. You can control the fraction of the sampling time that these stages take by inserting for example\n",
    " `sampler.frac_tune1 = 0.05`\n",
    " before the sampling starts.\n",
    "\n",
    " **WARNING: sometimes the default energy error 0.005 (which is used to tune the stepsize) is not optimal. Try decreasing it, say by a factor = 10 - 100 and accordingly increase the number of samples by factor^1/6 to see if the posteriors remain the same. On some other problems 0.005 is to conservative and you can improve the performance by increasing it.**"
   ]
  },
  {
   "cell_type": "markdown",
   "metadata": {
    "id": "Mhx15A2K8020"
   },
   "source": [
    "We can now run the sampler. Let's get 5000 samples in 3 independent chains:"
   ]
  },
  {
   "cell_type": "code",
   "execution_count": 10,
   "metadata": {
    "id": "sucJHLMi0Jfh"
   },
   "outputs": [],
   "source": [
    "samples = sampler.sample(5000, 3)"
   ]
  },
  {
   "cell_type": "markdown",
   "metadata": {
    "id": "IClcHBm29Oce"
   },
   "source": [
    "The result is of the shape (number of chains, number of samples, output size of transform):"
   ]
  },
  {
   "cell_type": "code",
   "execution_count": 11,
   "metadata": {
    "colab": {
     "base_uri": "https://localhost:8080/"
    },
    "id": "yypd11zL5Cof",
    "outputId": "d1093e20-4e6c-4ec1-d943-03167976ce01"
   },
   "outputs": [
    {
<<<<<<< HEAD
     "name": "stdout",
     "output_type": "stream",
     "text": [
      "(3, 5000, 2)\n"
     ]
=======
      "cell_type": "code",
      "execution_count": 18,
      "metadata": {
        "colab": {
          "base_uri": "https://localhost:8080/",
          "height": 455
        },
        "id": "FQWghKb41Yvy",
        "outputId": "b2035935-6e3b-422e-adb0-806be26b3c3f"
      },
      "outputs": [
        {
          "output_type": "display_data",
          "data": {
            "text/plain": [
              "<Figure size 640x480 with 1 Axes>"
            ],
            "image/png": "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\n"
          },
          "metadata": {}
        }
      ],
      "source": [
        "plt.hist(samples[0, :, 0], bins = 50, density = True, label = 'MCHMC')\n",
        "\n",
        "from scipy.stats import norm\n",
        "\n",
        "t = jnp.linspace(-4, 4, 100)\n",
        "plt.plot(t, norm.pdf(t), color = 'black', label = 'ground truth')\n",
        "\n",
        "plt.xlabel(r'$x_1$', fontsize = 15)\n",
        "plt.ylabel('density', fontsize = 15)\n",
        "plt.legend(fontsize = 13)\n",
        "plt.show()"
      ]
>>>>>>> master
    }
   ],
   "source": [
    "print(samples.shape)"
   ]
  },
  {
   "cell_type": "markdown",
   "metadata": {
    "id": "rYNoRRzd9old"
   },
   "source": [
    "Let's plot the one dimensional marginal distribution along the $x_1$ coordinate for the first chain:"
   ]
  },
  {
   "cell_type": "code",
   "execution_count": 12,
   "metadata": {
    "colab": {
<<<<<<< HEAD
     "base_uri": "https://localhost:8080/",
     "height": 455
=======
      "provenance": [],
      "include_colab_link": true
    },
    "kernelspec": {
      "display_name": "Python 3",
      "language": "python",
      "name": "python3"
>>>>>>> master
    },
    "id": "FQWghKb41Yvy",
    "outputId": "d8e9316d-5f37-4ad7-d44c-55818d06ae64"
   },
   "outputs": [
    {
     "data": {
      "image/png": "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",
      "text/plain": [
       "<Figure size 640x480 with 1 Axes>"
      ]
     },
     "metadata": {},
     "output_type": "display_data"
    }
   ],
   "source": [
    "plt.hist(samples[0, :, 0], bins = 50, density = True, label = 'MCHMC')\n",
    "\n",
    "from scipy.stats import norm\n",
    "\n",
    "t = jnp.linspace(-4, 4, 100)\n",
    "plt.plot(t, norm.pdf(t), color = 'black', label = 'ground truth')\n",
    "\n",
    "plt.xlabel(r'$x_1$', fontsize = 15)\n",
    "plt.ylabel('density', fontsize = 15)\n",
    "plt.legend(fontsize = 13)\n",
    "plt.show()"
   ]
  }
 ],
 "metadata": {
  "colab": {
   "authorship_tag": "ABX9TyNK51le231/TYVAdYnFNA86",
   "include_colab_link": true,
   "provenance": []
  },
  "kernelspec": {
   "display_name": "Python 3 (ipykernel)",
   "language": "python",
   "name": "python3"
  },
  "language_info": {
   "codemirror_mode": {
    "name": "ipython",
    "version": 3
   },
   "file_extension": ".py",
   "mimetype": "text/x-python",
   "name": "python",
   "nbconvert_exporter": "python",
   "pygments_lexer": "ipython3",
   "version": "3.11.5"
  },
<<<<<<< HEAD
  "vscode": {
   "interpreter": {
    "hash": "5c7b89af1651d0b8571dde13640ecdccf7d5a6204171d6ab33e7c296e100e08a"
   }
  }
 },
 "nbformat": 4,
 "nbformat_minor": 1
}
=======
  "nbformat": 4,
  "nbformat_minor": 0
}
>>>>>>> master
