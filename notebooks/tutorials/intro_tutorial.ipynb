{
  "cells": [
    {
      "cell_type": "markdown",
      "metadata": {
        "colab_type": "text",
        "id": "view-in-github"
      },
      "source": [
        "<a href=\"https://colab.research.google.com/github/JakobRobnik/MicroCanonicalHMC/blob/master/tutorials/intro_tutorial.ipynb\" target=\"_parent\"><img src=\"https://colab.research.google.com/assets/colab-badge.svg\" alt=\"Open In Colab\"/></a>"
      ]
    },
    {
      "cell_type": "markdown",
      "metadata": {
        "id": "qQc5Sh9v90k9"
      },
      "source": [
        "# **Getting started - MCHMC sampling from a Standard Gaussian target distribution**"
      ]
    },
    {
      "cell_type": "markdown",
      "metadata": {
        "id": "rEAjgH6b6MiR"
      },
      "source": [
        "We will be using jax, as it can automatically compute gradients."
      ]
    },
    {
      "cell_type": "code",
      "execution_count": 1,
      "metadata": {
        "id": "Rrzbg6xjz2gm"
      },
      "outputs": [],
      "source": [
        "import sys  \n",
        "sys.path.insert(0, '../../')\n",
        "\n",
        "import jax\n",
        "import jax.numpy as jnp\n",
        "import numpy as np\n",
        "import matplotlib.pyplot as plt\n",
        "\n",
        "from sampling.sampler import Sampler"
      ]
    },
    {
      "cell_type": "markdown",
      "metadata": {
        "id": "4Dd92Wan6Wl_"
      },
      "source": [
        "In this example we will sample from a standard Gaussian target. Let's define the negative log density:"
      ]
    },
    {
      "cell_type": "code",
      "execution_count": 6,
      "metadata": {
        "id": "ynRgtRKWzizg"
      },
      "outputs": [],
      "source": [
        "nlogp = lambda x: 0.5*jnp.sum(jnp.square(x))"
      ]
    },
    {
      "cell_type": "markdown",
      "metadata": {
        "id": "qE-l3rW-6kyh"
      },
      "source": [
        "and get the gradient with jax:"
      ]
    },
    {
      "cell_type": "code",
      "execution_count": 7,
      "metadata": {
        "id": "FxAwakKf6jy7"
      },
      "outputs": [],
      "source": [
        "value_grad = jax.value_and_grad(nlogp)"
      ]
    },
    {
      "cell_type": "markdown",
      "metadata": {
        "id": "NRcl3RZS6vIl"
      },
      "source": [
        "\n",
        "The target is a class with functions `nlogp`, `grad_nlogp` and `transform`. Some common targets are implemented in `benchmarks/benchmarks_mchmc.py`.\n",
        "Let's here define the standard Gaussian target:"
      ]
    },
    {
      "cell_type": "code",
      "execution_count": 8,
      "metadata": {
        "id": "n2nW60C-zDIF"
      },
      "outputs": [],
      "source": [
        "class StandardGaussian():\n",
        "\n",
        "  def __init__(self, d):\n",
        "    self.d = d\n",
        "\n",
        "  def grad_nlogp(self, x):\n",
        "    \"\"\"should return nlogp and gradient of nlogp\"\"\"\n",
        "    return value_grad(x)\n",
        "\n",
        "  def transform(self, x):\n",
        "    return x[:2]\n",
        "    #return x\n",
        "\n",
        "  def prior_draw(self, key):\n",
        "    \"\"\"Args: jax random key\n",
        "       Returns: one random sample from the prior\"\"\"\n",
        "\n",
        "    return jax.random.normal(key, shape = (self.d, ), dtype = 'float64') * 4"
      ]
    },
    {
      "cell_type": "markdown",
      "metadata": {
        "id": "6yG6xmAtm8cP"
      },
      "source": [
        "`transform` is useful when the dimensionality is high and storing all of the samples becomes memory intesive. We are ususally only iterested in some lower dimensional marginal distribution. `transform` is used in those cases as a map to the lower dimensional space of interest. As an illustration, here we are only interested in the first two components $x_1$ and $x_2$. If not needed it can just be set to the identity (commented out line).\n",
        "\n",
        "`prior_draw` is not a required attribute. By default it is used to initialize the chain. If not defined, we should pass the initial condition to the `sample` function by hand."
      ]
    },
    {
      "cell_type": "markdown",
      "metadata": {
        "id": "SnS6vD6s8KUC"
      },
      "source": [
        "Let's sample from a $d = 1000$ Standard Gaussian target. We create a mchmc Sampler class by passing it the desired target distribution:"
      ]
    },
    {
      "cell_type": "code",
      "execution_count": 9,
      "metadata": {
        "id": "aMvFvS4Lz8Up"
      },
      "outputs": [],
      "source": [
        "target = StandardGaussian(d = 1000)\n",
        "sampler = Sampler(target, varEwanted = 5e-4)"
      ]
    },
    {
      "cell_type": "markdown",
      "metadata": {
        "id": "4o7hKrzToAIU"
      },
      "source": [
        "We used the default Langevin-like momentum decoherence mechanism (`generalized= True`) and the Minimal Norm integrator of the dynamics (`integrator= 'MN'`). MCHMC has two hyperparameters, the integration step-size $ϵ$ and the momentum decoherence scale $L$. They will be auto-tuned at the begining of the sampling. Tuning cosist of three stages:\n",
        "1. burn-in + tuning $\\epsilon$\n",
        "2. tuning $L$\n",
        "3. estimating the effective sample size and use it to improve $L$ tuning\n",
        "\n",
        "The defualt is rather conservative and each of these stages takes 10 % of the sampling time. You can control the fraction of the sampling time that these stages take by inserting for example\n",
        " `sampler.frac_tune1 = 0.05`\n",
        " before the sampling starts.\n",
        "\n",
        " **WARNING: sometimes the default energy error 0.005 (which is used to tune the stepsize) is not optimal. Try decreasing it, say by a factor = 10 - 100 and accordingly increase the number of samples by factor^1/6 to see if the posteriors remain the same. On some other problems 0.005 is to conservative and you can improve the performance by increasing it.**"
      ]
    },
    {
      "cell_type": "markdown",
      "metadata": {
        "id": "Mhx15A2K8020"
      },
      "source": [
        "We can now run the sampler. Let's get 5000 samples in 3 independent chains:"
      ]
    },
    {
      "cell_type": "code",
      "execution_count": 10,
      "metadata": {
        "id": "sucJHLMi0Jfh"
      },
      "outputs": [],
      "source": [
        "samples = sampler.sample(5000, 3)"
      ]
    },
    {
      "cell_type": "markdown",
      "metadata": {
        "id": "IClcHBm29Oce"
      },
      "source": [
        "The result is of the shape (number of chains, number of samples, output size of transform):"
      ]
    },
    {
      "cell_type": "code",
      "execution_count": 11,
      "metadata": {
        "colab": {
          "base_uri": "https://localhost:8080/"
        },
        "id": "yypd11zL5Cof",
        "outputId": "d1093e20-4e6c-4ec1-d943-03167976ce01"
      },
      "outputs": [
        {
          "name": "stdout",
          "output_type": "stream",
          "text": [
            "(3, 5000, 2)\n"
          ]
        }
      ],
      "source": [
        "print(samples.shape)"
      ]
    },
    {
      "cell_type": "markdown",
      "metadata": {
        "id": "rYNoRRzd9old"
      },
      "source": [
        "Let's plot the one dimensional marginal distribution along the $x_1$ coordinate for the first chain:"
      ]
    },
    {
      "cell_type": "code",
      "execution_count": 12,
      "metadata": {
        "colab": {
          "base_uri": "https://localhost:8080/",
          "height": 455
        },
        "id": "FQWghKb41Yvy",
        "outputId": "d8e9316d-5f37-4ad7-d44c-55818d06ae64"
      },
      "outputs": [
        {
          "data": {
            "image/png": "[encoded data removed]",
            "text/plain": [
              "<Figure size 640x480 with 1 Axes>"
            ]
          },
          "metadata": {},
          "output_type": "display_data"
        }
      ],
      "source": [
        "plt.hist(samples[0, :, 0], bins = 50, density = True, label = 'MCHMC')\n",
        "\n",
        "from scipy.stats import norm\n",
        "\n",
        "t = jnp.linspace(-4, 4, 100)\n",
        "plt.plot(t, norm.pdf(t), color = 'black', label = 'ground truth')\n",
        "\n",
        "plt.xlabel(r'$x_1$', fontsize = 15)\n",
        "plt.ylabel('density', fontsize = 15)\n",
        "plt.legend(fontsize = 13)\n",
        "plt.show()"
      ]
    }
  ],
  "metadata": {
    "colab": {
      "authorship_tag": "ABX9TyNK51le231/TYVAdYnFNA86",
      "include_colab_link": true,
      "provenance": []
    },
    "kernelspec": {
      "display_name": "Python 3",
      "language": "python",
      "name": "python3"
    },
    "language_info": {
      "codemirror_mode": {
        "name": "ipython",
        "version": 3
      },
      "file_extension": ".py",
      "mimetype": "text/x-python",
      "name": "python",
      "nbconvert_exporter": "python",
      "pygments_lexer": "ipython3",
      "version": "3.11.3"
    },
    "vscode": {
      "interpreter": {
        "hash": "5c7b89af1651d0b8571dde13640ecdccf7d5a6204171d6ab33e7c296e100e08a"
      }
    }
  },
  "nbformat": 4,
  "nbformat_minor": 0
}
