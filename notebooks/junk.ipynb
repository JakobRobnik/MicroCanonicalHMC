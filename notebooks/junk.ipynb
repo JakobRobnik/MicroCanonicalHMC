{
 "cells": [
  {
   "cell_type": "code",
   "execution_count": 2,
   "metadata": {},
   "outputs": [],
   "source": [
    "import numpy as np\n",
    "import matplotlib.pyplot as plt"
   ]
  },
  {
   "cell_type": "code",
   "execution_count": 6,
   "metadata": {},
   "outputs": [
    {
     "name": "stdout",
     "output_type": "stream",
     "text": [
      "0.729864239468808 12.114137285547598\n"
     ]
    }
   ],
   "source": [
    "a, b = 3./4, 10./4.\n",
    "c= np.power(6., 2./3.) \n",
    "r1 = a *c / np.power(b, 4./3.)\n",
    "r2 = b *c / np.power(a, 4./3.)\n",
    "print(r1, r2)"
   ]
  },
  {
   "cell_type": "code",
   "execution_count": null,
   "metadata": {},
   "outputs": [],
   "source": [
    "a, b = 3./4, 10./4.\n",
    "c= np.power(6., 2./3.) \n",
    "r1 = np.power(b, 4./3.) / a\n",
    "r2 = np.power(a, 4./3.)  / b\n",
    "print(r1, r2)"
   ]
  },
  {
   "cell_type": "code",
   "execution_count": 40,
   "metadata": {},
   "outputs": [
    {
     "data": {
      "text/plain": [
       "0.006454972243679028"
      ]
     },
     "execution_count": 40,
     "metadata": {},
     "output_type": "execute_result"
    }
   ],
   "source": [
    "neff = 200\n",
    "0.5 * np.power(2./neff, 0.75) / np.sqrt(6.)"
   ]
  },
  {
   "cell_type": "code",
   "execution_count": 44,
   "metadata": {},
   "outputs": [
    {
     "data": {
      "text/plain": [
       "0.8908987181403393"
      ]
     },
     "execution_count": 44,
     "metadata": {},
     "output_type": "execute_result"
    }
   ],
   "source": [
    "np.power(2., -1./6.)"
   ]
  },
  {
   "cell_type": "code",
   "execution_count": 31,
   "metadata": {},
   "outputs": [
    {
     "data": {
      "text/plain": [
       "6.603854497789253"
      ]
     },
     "execution_count": 31,
     "metadata": {},
     "output_type": "execute_result"
    }
   ],
   "source": [
    "\n",
    "2* np.power(6., 2./3.) "
   ]
  },
  {
   "cell_type": "code",
   "execution_count": 18,
   "metadata": {},
   "outputs": [
    {
     "name": "stdout",
     "output_type": "stream",
     "text": [
      "0.5196712805812402\n"
     ]
    },
    {
     "data": {
      "image/png": "[encoded data removed]",
      "text/plain": [
       "<Figure size 640x480 with 1 Axes>"
      ]
     },
     "metadata": {},
     "output_type": "display_data"
    }
   ],
   "source": [
    "def h(kappa, n):\n",
    "    logk = 0.5 * n*  np.log(kappa) \n",
    "    return np.power(kappa, n * 0.5) * np.sinh(logk) / logk\n",
    "\n",
    "def R(kappa):\n",
    "    a, b, c = 9./4., -6./4., 1./4.\n",
    "    \n",
    "    hh = [h(kappa, i) for i in range(1, 5)]\n",
    "    \n",
    "    return (a * hh[2] + b * hh[0] * hh[1] + c * hh[0]**3) / np.power(a * hh[3] + b * hh[0] * hh[2] + c * hh[0]**4, 3./4.)\n",
    "\n",
    "kappa = np.logspace(0.01, 10, 100)\n",
    "print(R(1e10))\n",
    "plt.plot(kappa, R(kappa))\n",
    "plt.xscale(\"log\")\n",
    "plt.xlabel('kappa')\n",
    "plt.ylabel('R')\n",
    "plt.show()"
   ]
  },
  {
   "cell_type": "code",
   "execution_count": 27,
   "metadata": {},
   "outputs": [
    {
     "data": {
      "text/plain": [
       "0.5271272237240964"
      ]
     },
     "execution_count": 27,
     "metadata": {},
     "output_type": "execute_result"
    }
   ],
   "source": [
    "np.sqrt(4./3.) * np.power(10*np.log(10), -0.25)"
   ]
  },
  {
   "cell_type": "code",
   "execution_count": 30,
   "metadata": {},
   "outputs": [
    {
     "name": "stdout",
     "output_type": "stream",
     "text": [
      "0.497681267704458\n"
     ]
    }
   ],
   "source": [
    "print(R(1e12))\n"
   ]
  },
  {
   "cell_type": "code",
   "execution_count": null,
   "metadata": {},
   "outputs": [],
   "source": []
  }
 ],
 "metadata": {
  "kernelspec": {
   "display_name": "Python 3",
   "language": "python",
   "name": "python3"
  },
  "language_info": {
   "codemirror_mode": {
    "name": "ipython",
    "version": 3
   },
   "file_extension": ".py",
   "mimetype": "text/x-python",
   "name": "python",
   "nbconvert_exporter": "python",
   "pygments_lexer": "ipython3",
   "version": "3.9.16"
  },
  "orig_nbformat": 4
 },
 "nbformat": 4,
 "nbformat_minor": 2
}
