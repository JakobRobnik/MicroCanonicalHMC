{
 "cells": [
  {
   "cell_type": "code",
   "execution_count": 35,
   "metadata": {},
   "outputs": [
    {
     "name": "stdout",
     "output_type": "stream",
     "text": [
      "T: 792.3941650390625\n",
      "T: 630.202880859375\n",
      "T: 501.9044189453125\n",
      "T: 399.2867736816406\n",
      "T: 312.9793395996094\n",
      "T: 237.50889587402344\n",
      "T: 171.2333526611328\n",
      "T: 120.62891387939453\n",
      "T: 86.4601058959961\n",
      "T: 62.676361083984375\n",
      "T: 45.69123458862305\n",
      "T: 33.49421691894531\n",
      "T: 24.919424057006836\n",
      "T: 19.04027557373047\n",
      "T: 14.815227508544922\n",
      "T: 11.521739959716797\n",
      "T: 8.798320770263672\n",
      "T: 6.585391998291016\n",
      "T: 4.964160919189453\n",
      "T: 3.821366310119629\n",
      "T: 2.997537136077881\n",
      "T: 2.338393211364746\n",
      "T: 1.8115662336349487\n",
      "T: 1.433294653892517\n",
      "T: 1.1346603631973267\n",
      "T: 1.0\n",
      "[[-1.0116847e+00 -1.7553035e-02  4.8693377e-01 ... -1.7412001e+00\n",
      "   5.0347769e-01  6.1165594e-02]\n",
      " [-3.9931923e-01  9.7024775e-01  2.4949505e+00 ... -7.3303711e-01\n",
      "  -1.6457158e+00  1.4856802e+00]\n",
      " [ 1.0561962e+00  1.4732511e+00  1.8438959e+00 ... -1.3079011e+00\n",
      "  -8.2805663e-01 -7.8995615e-01]\n",
      " ...\n",
      " [-3.4237647e-01 -2.4359441e+00  5.3879017e-01 ... -2.6331550e-01\n",
      "  -6.4410758e-04 -4.5144773e-01]\n",
      " [ 1.3549638e-01 -5.5181581e-01 -8.6637658e-01 ...  6.4415979e-01\n",
      "   1.8199373e+00  4.1904089e-01]\n",
      " [-1.3750440e+00  1.7608647e+00  1.2475983e+00 ... -1.0746288e+00\n",
      "  -2.6297742e-01 -1.1835538e+00]]\n"
     ]
    }
   ],
   "source": [
    "from sampling.smc import Sampler\n",
    "import jax\n",
    "import jax.numpy as jnp\n",
    "\n",
    "kb = 1.38e-23\n",
    "\n",
    "temp_init = 1000.0 #* kb\n",
    "temp_final = 1.0 #* kb\n",
    "\n",
    "class StandardNormal():\n",
    "    \"\"\"Standard Normal distribution in d dimensions\"\"\"\n",
    "\n",
    "    def __init__(self, d):\n",
    "        self.d = d\n",
    "        self.grad_nlogp = jax.value_and_grad(self.nlogp)\n",
    "\n",
    "    def nlogp(self, x):\n",
    "        \"\"\"- log p of the target distribution\"\"\"\n",
    "        return 0.5 * jnp.sum(jnp.square(x), axis= -1)\n",
    "\n",
    "    def prior_draw(self, key):\n",
    "        return jax.random.normal(key, shape = (self.d, ), dtype = 'float64') * jnp.sqrt(temp_init) #start from the distribution at high temperature\n",
    "\n",
    "\n",
    "target = StandardNormal(d = 10)\n",
    "\n",
    "sampler = Sampler(target)\n",
    "\n",
    "x = sampler.sample(steps_at_each_temp = 1000, tune_steps= 100, num_chains= 1000, temp_init=temp_init, temp_final=temp_final, ess=0.8)\n",
    "\n",
    "print(x)"
   ]
  },
  {
   "cell_type": "code",
   "execution_count": 36,
   "metadata": {},
   "outputs": [
    {
     "data": {
      "image/png": "[encoded data removed]",
      "text/plain": [
       "<Figure size 640x480 with 1 Axes>"
      ]
     },
     "metadata": {},
     "output_type": "display_data"
    }
   ],
   "source": [
    "import matplotlib.pyplot as plt \n",
    "\n",
    "plt.scatter(x[:,0], x[:,1], s=1);"
   ]
  },
  {
   "cell_type": "code",
   "execution_count": 37,
   "metadata": {},
   "outputs": [
    {
     "data": {
      "text/plain": [
       "Array([1.0309705 , 0.9962417 , 0.97341913, 1.0280023 , 1.0024923 ,\n",
       "       0.9671759 , 0.99605405, 1.0076613 , 1.0228103 , 0.997725  ],      dtype=float32)"
      ]
     },
     "execution_count": 37,
     "metadata": {},
     "output_type": "execute_result"
    }
   ],
   "source": [
    "jnp.std(x, axis=0)"
   ]
  },
  {
   "cell_type": "code",
   "execution_count": 38,
   "metadata": {},
   "outputs": [
    {
     "data": {
      "text/plain": [
       "Array([1.0629001 , 0.99249744, 0.94754475, 1.0567886 , 1.0049908 ,\n",
       "       0.9354292 , 0.9921237 , 1.0153813 , 1.0461409 , 0.9954552 ],      dtype=float32)"
      ]
     },
     "execution_count": 38,
     "metadata": {},
     "output_type": "execute_result"
    }
   ],
   "source": [
    "jnp.var(x, axis=0)"
   ]
  },
  {
   "cell_type": "code",
   "execution_count": null,
   "metadata": {},
   "outputs": [],
   "source": []
  }
 ],
 "metadata": {
  "kernelspec": {
   "display_name": "jax-env",
   "language": "python",
   "name": "python3"
  },
  "language_info": {
   "codemirror_mode": {
    "name": "ipython",
    "version": 3
   },
   "file_extension": ".py",
   "mimetype": "text/x-python",
   "name": "python",
   "nbconvert_exporter": "python",
   "pygments_lexer": "ipython3",
   "version": "3.10.11"
  },
  "orig_nbformat": 4
 },
 "nbformat": 4,
 "nbformat_minor": 2
}
