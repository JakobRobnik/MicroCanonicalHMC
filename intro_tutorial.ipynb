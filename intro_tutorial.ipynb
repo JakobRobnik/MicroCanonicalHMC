{
  "nbformat": 4,
  "nbformat_minor": 0,
  "metadata": {
    "colab": {
      "provenance": [],
      "authorship_tag": "ABX9TyPpGH21a4KnNfiajUbcMngY",
      "include_colab_link": true
    },
    "kernelspec": {
      "name": "python3",
      "display_name": "Python 3"
    },
    "language_info": {
      "name": "python"
    }
  },
  "cells": [
    {
      "cell_type": "markdown",
      "metadata": {
        "id": "view-in-github",
        "colab_type": "text"
      },
      "source": [
        "<a href=\"https://colab.research.google.com/github/JakobRobnik/MicroCanonicalHMC/blob/master/intro_tutorial.ipynb\" target=\"_parent\"><img src=\"https://colab.research.google.com/assets/colab-badge.svg\" alt=\"Open In Colab\"/></a>"
      ]
    },
    {
      "cell_type": "markdown",
      "source": [
        "# **Getting started - MCHMC sampling from a Standard Gaussian target distribution**"
      ],
      "metadata": {
        "id": "qQc5Sh9v90k9"
      }
    },
    {
      "cell_type": "markdown",
      "source": [
        "First, let's import the MCHMC code."
      ],
      "metadata": {
        "id": "KzZfXb7m6EJ-"
      }
    },
    {
      "cell_type": "code",
      "execution_count": 1,
      "metadata": {
        "id": "alLR1QrHy0ah",
        "colab": {
          "base_uri": "https://localhost:8080/"
        },
        "outputId": "4cd30fda-35a0-4c9b-f74e-60936a222f63"
      },
      "outputs": [
        {
          "output_type": "stream",
          "name": "stdout",
          "text": [
            "Cloning into 'MicroCanonicalHMC'...\n",
            "remote: Enumerating objects: 611, done.\u001b[K\n",
            "remote: Counting objects:   0% (1/151)\u001b[K\rremote: Counting objects:   1% (2/151)\u001b[K\rremote: Counting objects:   2% (4/151)\u001b[K\rremote: Counting objects:   3% (5/151)\u001b[K\rremote: Counting objects:   4% (7/151)\u001b[K\rremote: Counting objects:   5% (8/151)\u001b[K\rremote: Counting objects:   6% (10/151)\u001b[K\rremote: Counting objects:   7% (11/151)\u001b[K\rremote: Counting objects:   8% (13/151)\u001b[K\rremote: Counting objects:   9% (14/151)\u001b[K\rremote: Counting objects:  10% (16/151)\u001b[K\rremote: Counting objects:  11% (17/151)\u001b[K\rremote: Counting objects:  12% (19/151)\u001b[K\rremote: Counting objects:  13% (20/151)\u001b[K\rremote: Counting objects:  14% (22/151)\u001b[K\rremote: Counting objects:  15% (23/151)\u001b[K\rremote: Counting objects:  16% (25/151)\u001b[K\rremote: Counting objects:  17% (26/151)\u001b[K\rremote: Counting objects:  18% (28/151)\u001b[K\rremote: Counting objects:  19% (29/151)\u001b[K\rremote: Counting objects:  20% (31/151)\u001b[K\rremote: Counting objects:  21% (32/151)\u001b[K\rremote: Counting objects:  22% (34/151)\u001b[K\rremote: Counting objects:  23% (35/151)\u001b[K\rremote: Counting objects:  24% (37/151)\u001b[K\rremote: Counting objects:  25% (38/151)\u001b[K\rremote: Counting objects:  26% (40/151)\u001b[K\rremote: Counting objects:  27% (41/151)\u001b[K\rremote: Counting objects:  28% (43/151)\u001b[K\rremote: Counting objects:  29% (44/151)\u001b[K\rremote: Counting objects:  30% (46/151)\u001b[K\rremote: Counting objects:  31% (47/151)\u001b[K\rremote: Counting objects:  32% (49/151)\u001b[K\rremote: Counting objects:  33% (50/151)\u001b[K\rremote: Counting objects:  34% (52/151)\u001b[K\rremote: Counting objects:  35% (53/151)\u001b[K\rremote: Counting objects:  36% (55/151)\u001b[K\rremote: Counting objects:  37% (56/151)\u001b[K\rremote: Counting objects:  38% (58/151)\u001b[K\rremote: Counting objects:  39% (59/151)\u001b[K\rremote: Counting objects:  40% (61/151)\u001b[K\rremote: Counting objects:  41% (62/151)\u001b[K\rremote: Counting objects:  42% (64/151)\u001b[K\rremote: Counting objects:  43% (65/151)\u001b[K\rremote: Counting objects:  44% (67/151)\u001b[K\rremote: Counting objects:  45% (68/151)\u001b[K\rremote: Counting objects:  46% (70/151)\u001b[K\rremote: Counting objects:  47% (71/151)\u001b[K\rremote: Counting objects:  48% (73/151)\u001b[K\rremote: Counting objects:  49% (74/151)\u001b[K\rremote: Counting objects:  50% (76/151)\u001b[K\rremote: Counting objects:  51% (78/151)\u001b[K\rremote: Counting objects:  52% (79/151)\u001b[K\rremote: Counting objects:  53% (81/151)\u001b[K\rremote: Counting objects:  54% (82/151)\u001b[K\rremote: Counting objects:  55% (84/151)\u001b[K\rremote: Counting objects:  56% (85/151)\u001b[K\rremote: Counting objects:  57% (87/151)\u001b[K\rremote: Counting objects:  58% (88/151)\u001b[K\rremote: Counting objects:  59% (90/151)\u001b[K\rremote: Counting objects:  60% (91/151)\u001b[K\rremote: Counting objects:  61% (93/151)\u001b[K\rremote: Counting objects:  62% (94/151)\u001b[K\rremote: Counting objects:  63% (96/151)\u001b[K\rremote: Counting objects:  64% (97/151)\u001b[K\rremote: Counting objects:  65% (99/151)\u001b[K\rremote: Counting objects:  66% (100/151)\u001b[K\rremote: Counting objects:  67% (102/151)\u001b[K\rremote: Counting objects:  68% (103/151)\u001b[K\rremote: Counting objects:  69% (105/151)\u001b[K\rremote: Counting objects:  70% (106/151)\u001b[K\rremote: Counting objects:  71% (108/151)\u001b[K\rremote: Counting objects:  72% (109/151)\u001b[K\rremote: Counting objects:  73% (111/151)\u001b[K\rremote: Counting objects:  74% (112/151)\u001b[K\rremote: Counting objects:  75% (114/151)\u001b[K\rremote: Counting objects:  76% (115/151)\u001b[K\rremote: Counting objects:  77% (117/151)\u001b[K\rremote: Counting objects:  78% (118/151)\u001b[K\rremote: Counting objects:  79% (120/151)\u001b[K\rremote: Counting objects:  80% (121/151)\u001b[K\rremote: Counting objects:  81% (123/151)\u001b[K\rremote: Counting objects:  82% (124/151)\u001b[K\rremote: Counting objects:  83% (126/151)\u001b[K\rremote: Counting objects:  84% (127/151)\u001b[K\rremote: Counting objects:  85% (129/151)\u001b[K\rremote: Counting objects:  86% (130/151)\u001b[K\rremote: Counting objects:  87% (132/151)\u001b[K\rremote: Counting objects:  88% (133/151)\u001b[K\rremote: Counting objects:  89% (135/151)\u001b[K\rremote: Counting objects:  90% (136/151)\u001b[K\rremote: Counting objects:  91% (138/151)\u001b[K\rremote: Counting objects:  92% (139/151)\u001b[K\rremote: Counting objects:  93% (141/151)\u001b[K\rremote: Counting objects:  94% (142/151)\u001b[K\rremote: Counting objects:  95% (144/151)\u001b[K\rremote: Counting objects:  96% (145/151)\u001b[K\rremote: Counting objects:  97% (147/151)\u001b[K\rremote: Counting objects:  98% (148/151)\u001b[K\rremote: Counting objects:  99% (150/151)\u001b[K\rremote: Counting objects: 100% (151/151)\u001b[K\rremote: Counting objects: 100% (151/151), done.\u001b[K\n",
            "remote: Compressing objects: 100% (103/103), done.\u001b[K\n",
            "remote: Total 611 (delta 93), reused 87 (delta 47), pack-reused 460\u001b[K\n",
            "Receiving objects: 100% (611/611), 858.96 KiB | 19.09 MiB/s, done.\n",
            "Resolving deltas: 100% (388/388), done.\n"
          ]
        }
      ],
      "source": [
        "!git clone https://github.com/JakobRobnik/MicroCanonicalHMC.git"
      ]
    },
    {
      "cell_type": "markdown",
      "source": [
        "We will be using jax, as it can automatically compute gradients."
      ],
      "metadata": {
        "id": "rEAjgH6b6MiR"
      }
    },
    {
      "cell_type": "code",
      "source": [
        "import jax\n",
        "import jax.numpy as jnp\n",
        "import numpy as np\n",
        "import matplotlib.pyplot as plt\n",
        "\n",
        "from MicroCanonicalHMC.sampling.sampler import Sampler"
      ],
      "metadata": {
        "id": "Rrzbg6xjz2gm"
      },
      "execution_count": 8,
      "outputs": []
    },
    {
      "cell_type": "markdown",
      "source": [
        "In this example we will sample from a standard Gaussian target. Let's define the negative log density:"
      ],
      "metadata": {
        "id": "4Dd92Wan6Wl_"
      }
    },
    {
      "cell_type": "code",
      "source": [
        "nlogp = lambda x: 0.5*jnp.sum(jnp.square(x))"
      ],
      "metadata": {
        "id": "ynRgtRKWzizg"
      },
      "execution_count": 3,
      "outputs": []
    },
    {
      "cell_type": "markdown",
      "source": [
        "and get the gradient with jax:"
      ],
      "metadata": {
        "id": "qE-l3rW-6kyh"
      }
    },
    {
      "cell_type": "code",
      "source": [
        "grad_nlogp = jax.grad(nlogp)"
      ],
      "metadata": {
        "id": "FxAwakKf6jy7"
      },
      "execution_count": 4,
      "outputs": []
    },
    {
      "cell_type": "markdown",
      "source": [
        "\n",
        "The target is a class with functions `nlogp`, `grad_nlogp` and `transform`. Some common targets are implemented in `targets.py`.\n",
        "Let's here define the standard Gaussian target:"
      ],
      "metadata": {
        "id": "NRcl3RZS6vIl"
      }
    },
    {
      "cell_type": "code",
      "source": [
        "class StandardGaussian():\n",
        "  \n",
        "  def __init__(self, d):\n",
        "    self.d = d\n",
        "  \n",
        "  def nlogp(self, x):\n",
        "     return nlogp(x)\n",
        "\n",
        "  def grad_nlogp(self, x):\n",
        "     return grad_nlogp(x)\n",
        "\n",
        "  def transform(self, x):\n",
        "    return x[:2] \n",
        "    #return x\n",
        "\n",
        "  def prior_draw(self, key):\n",
        "    \"\"\"Args: jax random key\n",
        "       Returns: one random sample from the prior\"\"\"\n",
        "\n",
        "    return jax.random.normal(key, shape = (self.d, ), dtype = 'float64') * 4"
      ],
      "metadata": {
        "id": "n2nW60C-zDIF"
      },
      "execution_count": 5,
      "outputs": []
    },
    {
      "cell_type": "markdown",
      "source": [
        "`transform` is useful when the dimensionality is high and storing all of the samples becomes memory intesive. We are ususally only iterested in some lower dimensional marginal distribution. `transform` is used in those cases as a map to the lower dimensional space of interest. As an illustration, here we are only interested in the first two components $x_1$ and $x_2$. If not needed it can just be set to the identity (commented out line).\n",
        "\n",
        "`prior_draw` is not a required attribute. By default it is used to initialize the chain. If not defined, we should pass the initial condition to the `sample` function by hand."
      ],
      "metadata": {
        "id": "6yG6xmAtm8cP"
      }
    },
    {
      "cell_type": "markdown",
      "source": [
        "Let's sample from a $d = 1000$ Standard Gaussian target. We create a mchmc Sampler class by passing it the desired target distribution:"
      ],
      "metadata": {
        "id": "SnS6vD6s8KUC"
      }
    },
    {
      "cell_type": "code",
      "source": [
        "sampler = Sampler(StandardGaussian(d = 1000))"
      ],
      "metadata": {
        "id": "aMvFvS4Lz8Up"
      },
      "execution_count": 9,
      "outputs": []
    },
    {
      "cell_type": "markdown",
      "source": [
        "We used the default Langevin-like momentum decoherence mechanism (`generalized= True`) and the Minimal Norm integrator of the dynamics (`integrator= 'MN'`)."
      ],
      "metadata": {
        "id": "4o7hKrzToAIU"
      }
    },
    {
      "cell_type": "markdown",
      "source": [
        "MCHMC has two hyperparameters, the integration step-size $ϵ$ and the momentum decoherence scale $L$. Let's use a short prerun to tune them:"
      ],
      "metadata": {
        "id": "P-ymgo8FoCgP"
      }
    },
    {
      "cell_type": "code",
      "source": [
        "sampler.tune_hyperparameters()"
      ],
      "metadata": {
        "id": "wSRigZWYoSe2"
      },
      "execution_count": null,
      "outputs": []
    },
    {
      "cell_type": "markdown",
      "source": [
        "Sampler now has the hyperparameter attributes:"
      ],
      "metadata": {
        "id": "azbjWCe8p-vh"
      }
    },
    {
      "cell_type": "code",
      "source": [
        "print('eps: {0}, L: {1}'.format(sampler.eps, sampler.L))"
      ],
      "metadata": {
        "colab": {
          "base_uri": "https://localhost:8080/"
        },
        "id": "_tLQdcIWpoSw",
        "outputId": "33768c14-9940-4fcd-f0a0-8e052fe1373a"
      },
      "execution_count": 11,
      "outputs": [
        {
          "output_type": "stream",
          "name": "stdout",
          "text": [
            "eps: 51.562861810543794, L: 17.772669402631696\n"
          ]
        }
      ]
    },
    {
      "cell_type": "markdown",
      "source": [
        "We can now run the sampler. Let's get 5000 samples."
      ],
      "metadata": {
        "id": "Mhx15A2K8020"
      }
    },
    {
      "cell_type": "code",
      "source": [
        "samples, weights = sampler.sample(5000)"
      ],
      "metadata": {
        "id": "sucJHLMi0Jfh"
      },
      "execution_count": 12,
      "outputs": []
    },
    {
      "cell_type": "markdown",
      "source": [
        "The sampler returns the samples and the associated weights."
      ],
      "metadata": {
        "id": "IClcHBm29Oce"
      }
    },
    {
      "cell_type": "code",
      "source": [
        "print(jnp.shape(samples))\n",
        "print(jnp.shape(weights))"
      ],
      "metadata": {
        "colab": {
          "base_uri": "https://localhost:8080/"
        },
        "id": "yypd11zL5Cof",
        "outputId": "e2dca322-58f9-4873-b10c-4392c8c4222f"
      },
      "execution_count": 13,
      "outputs": [
        {
          "output_type": "stream",
          "name": "stdout",
          "text": [
            "(5000, 2)\n",
            "(5000,)\n"
          ]
        }
      ]
    },
    {
      "cell_type": "markdown",
      "source": [
        "Let's plot the one dimensional marginal distribution along the $x_1$ coordinate."
      ],
      "metadata": {
        "id": "rYNoRRzd9old"
      }
    },
    {
      "cell_type": "code",
      "source": [
        "plt.hist(samples[:, 0], bins = 50, weights = weights, density = True, label = 'MCHMC')\n",
        "\n",
        "from scipy.stats import norm\n",
        "\n",
        "t = jnp.linspace(-4, 4, 100)\n",
        "plt.plot(t, norm.pdf(t), color = 'black', label = 'ground truth')\n",
        "\n",
        "plt.xlabel(r'$x_1$', fontsize = 15)\n",
        "plt.ylabel('density', fontsize = 15)\n",
        "plt.legend(fontsize = 13)\n",
        "plt.show()"
      ],
      "metadata": {
        "colab": {
          "base_uri": "https://localhost:8080/",
          "height": 285
        },
        "id": "FQWghKb41Yvy",
        "outputId": "e4c78fc9-2559-4b2e-dd56-82a596220aa3"
      },
      "execution_count": 14,
      "outputs": [
        {
          "output_type": "display_data",
          "data": {
            "text/plain": [
              "<Figure size 432x288 with 1 Axes>"
            ],
            "image/png": "[encoded data removed]"
          },
          "metadata": {
            "needs_background": "light"
          }
        }
      ]
    },
    {
      "cell_type": "markdown",
      "source": [
        "Alternatively, we can avoid the weights for ploting purposes and resample according to the weights:"
      ],
      "metadata": {
        "id": "b3S6fR5h5QvC"
      }
    },
    {
      "cell_type": "code",
      "source": [
        "x1 = np.random.choice(samples[:, 0], 50000, p= weights / np.sum(weights))"
      ],
      "metadata": {
        "id": "8SXFy-jK5Eye"
      },
      "execution_count": 15,
      "outputs": []
    },
    {
      "cell_type": "code",
      "source": [
        "plt.hist(x1, bins = 50, density = True, label = 'MCHMC')\n",
        "\n",
        "plt.plot(t, norm.pdf(t), color = 'black', label = 'ground truth')\n",
        "\n",
        "plt.xlabel(r'$x_1$', fontsize = 15)\n",
        "plt.ylabel('density', fontsize = 15)\n",
        "plt.legend(fontsize = 13)\n",
        "plt.show()"
      ],
      "metadata": {
        "colab": {
          "base_uri": "https://localhost:8080/",
          "height": 285
        },
        "id": "EXZ28x7I5Lms",
        "outputId": "96442149-aba1-4aa6-f6b0-9cff57982133"
      },
      "execution_count": 16,
      "outputs": [
        {
          "output_type": "display_data",
          "data": {
            "text/plain": [
              "<Figure size 432x288 with 1 Axes>"
            ],
            "image/png": "[encoded data removed]"
          },
          "metadata": {
            "needs_background": "light"
          }
        }
      ]
    }
  ]
}