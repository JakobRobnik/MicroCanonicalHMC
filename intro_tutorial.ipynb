{
  "nbformat": 4,
  "nbformat_minor": 0,
  "metadata": {
    "colab": {
      "provenance": [],
      "authorship_tag": "ABX9TyM5HwM+Ud8Rds7qPVMJyjbG",
      "include_colab_link": true
    },
    "kernelspec": {
      "name": "python3",
      "display_name": "Python 3"
    },
    "language_info": {
      "name": "python"
    }
  },
  "cells": [
    {
      "cell_type": "markdown",
      "metadata": {
        "id": "view-in-github",
        "colab_type": "text"
      },
      "source": [
        "<a href=\"https://colab.research.google.com/github/JakobRobnik/MicroCanonicalHMC/blob/master/intro_tutorial.ipynb\" target=\"_parent\"><img src=\"https://colab.research.google.com/assets/colab-badge.svg\" alt=\"Open In Colab\"/></a>"
      ]
    },
    {
      "cell_type": "markdown",
      "source": [
        "# **Getting started - MCHMC sampling from a Standard Gaussian target distribution**"
      ],
      "metadata": {
        "id": "qQc5Sh9v90k9"
      }
    },
    {
      "cell_type": "markdown",
      "source": [
        "## Setup"
      ],
      "metadata": {
        "id": "cBq4O6YgLXOy"
      }
    },
    {
      "cell_type": "markdown",
      "source": [
        "First, let's import the MCHMC code."
      ],
      "metadata": {
        "id": "KzZfXb7m6EJ-"
      }
    },
    {
      "cell_type": "code",
      "execution_count": 1,
      "metadata": {
        "id": "alLR1QrHy0ah",
        "colab": {
          "base_uri": "https://localhost:8080/"
        },
        "outputId": "2fd08a71-0588-4138-a390-9631116fc377"
      },
      "outputs": [
        {
          "output_type": "stream",
          "name": "stdout",
          "text": [
            "Cloning into 'MicroCanonicalHMC'...\n",
            "remote: Enumerating objects: 469, done.\u001b[K\n",
            "remote: Counting objects: 100% (257/257), done.\u001b[K\n",
            "remote: Compressing objects: 100% (195/195), done.\u001b[K\n",
            "remote: Total 469 (delta 161), reused 118 (delta 57), pack-reused 212\u001b[K\n",
            "Receiving objects: 100% (469/469), 710.20 KiB | 10.44 MiB/s, done.\n",
            "Resolving deltas: 100% (288/288), done.\n"
          ]
        }
      ],
      "source": [
        "!git clone https://github.com/JakobRobnik/MicroCanonicalHMC.git"
      ]
    },
    {
      "cell_type": "markdown",
      "source": [
        "We will be using jax, as it can automatically compute gradients."
      ],
      "metadata": {
        "id": "rEAjgH6b6MiR"
      }
    },
    {
      "cell_type": "code",
      "source": [
        "import jax\n",
        "import jax.numpy as jnp\n",
        "import numpy as np\n",
        "import matplotlib.pyplot as plt\n",
        "\n",
        "from MicroCanonicalHMC import mchmc"
      ],
      "metadata": {
        "id": "Rrzbg6xjz2gm"
      },
      "execution_count": 3,
      "outputs": []
    },
    {
      "cell_type": "markdown",
      "source": [
        "In this example we will sample from a standard Gaussian target. Let's define the negative log density:"
      ],
      "metadata": {
        "id": "4Dd92Wan6Wl_"
      }
    },
    {
      "cell_type": "code",
      "source": [
        "nlogp = lambda x: 0.5*jnp.sum(jnp.square(x))"
      ],
      "metadata": {
        "id": "ynRgtRKWzizg"
      },
      "execution_count": 4,
      "outputs": []
    },
    {
      "cell_type": "markdown",
      "source": [
        "and get the gradient with jax:"
      ],
      "metadata": {
        "id": "qE-l3rW-6kyh"
      }
    },
    {
      "cell_type": "code",
      "source": [
        "grad_nlogp = jax.grad(nlogp)"
      ],
      "metadata": {
        "id": "FxAwakKf6jy7"
      },
      "execution_count": 5,
      "outputs": []
    },
    {
      "cell_type": "markdown",
      "source": [
        "\n",
        "The target is a class with functions `nlogp`, `grad_nlogp` and `transform`. Some common targets are implemented in `targets.py`.\n",
        "Let's here define the standard Gaussian target:"
      ],
      "metadata": {
        "id": "NRcl3RZS6vIl"
      }
    },
    {
      "cell_type": "code",
      "source": [
        "class StandardGaussian():\n",
        "  \n",
        "  def __init__(self, d):\n",
        "    self.d = d\n",
        "  \n",
        "  def nlogp(self, x):\n",
        "     return nlogp(x)\n",
        "\n",
        "  def grad_nlogp(self, x):\n",
        "     return grad_nlogp(x)\n",
        "\n",
        "  def transform(self, x):\n",
        "    return jnp.array([x[0], jnp.sum(jnp.square(x))])\n",
        "\n",
        "  def prior_draw(self, key):\n",
        "    \"\"\"Args: jax random key\n",
        "       Returns: one random sample from the prior (this is used for initializing the chain in parallel mode)\"\"\"\n",
        "\n",
        "    return jax.random.normal(key, shape = (self.d, ), dtype = 'float64') * 4"
      ],
      "metadata": {
        "id": "n2nW60C-zDIF"
      },
      "execution_count": 6,
      "outputs": []
    },
    {
      "cell_type": "markdown",
      "source": [
        "`transform` is useful when the dimensionality is high and storing all of the samples becomes memory intesive. We are ususally only iterested in some lower dimensional marginal distribution. `transform` is used in those cases as a map to the lower dimensional space of interest. As an illustration we will here only store $x_1$ and $\\sum_{i=1}^d x_i^2$. If not needed it can just be set to the identity.\n",
        "\n",
        "`prior_draw` must be defined if we want to run parallel chains. It is used to initialize each chain by drawing a random sample from the prior."
      ],
      "metadata": {
        "id": "6yG6xmAtm8cP"
      }
    },
    {
      "cell_type": "markdown",
      "source": [
        "##Sequential Sampling"
      ],
      "metadata": {
        "id": "7jskA6ykLewl"
      }
    },
    {
      "cell_type": "markdown",
      "source": [
        "Let's sample from a $d = 100$ Standard Gaussian target. We create a mchmc Sampler class by passing it the desired target distribution:"
      ],
      "metadata": {
        "id": "SnS6vD6s8KUC"
      }
    },
    {
      "cell_type": "code",
      "source": [
        "d= 100\n",
        "sampler = mchmc.Sampler(StandardGaussian(d))"
      ],
      "metadata": {
        "id": "aMvFvS4Lz8Up"
      },
      "execution_count": 7,
      "outputs": []
    },
    {
      "cell_type": "markdown",
      "source": [
        "We used the default gradual momentum decoherence mechanism (`generalized= True`) and the Minimal Norm integrator of the dynamics (`integrator= 'MN'`)."
      ],
      "metadata": {
        "id": "4o7hKrzToAIU"
      }
    },
    {
      "cell_type": "markdown",
      "source": [
        "MCHMC has two hyperparameters, the integration step-size $ϵ$ and the momentum decoherence scale $L$. Let's use a short prerun to tune them:"
      ],
      "metadata": {
        "id": "P-ymgo8FoCgP"
      }
    },
    {
      "cell_type": "code",
      "source": [
        "sampler.tune_hyperparameters()"
      ],
      "metadata": {
        "colab": {
          "base_uri": "https://localhost:8080/"
        },
        "id": "wSRigZWYoSe2",
        "outputId": "6c163610-cb50-4628-8c7b-e5e012e89df1"
      },
      "execution_count": 8,
      "outputs": [
        {
          "output_type": "stream",
          "name": "stderr",
          "text": [
            "WARNING:jax._src.lib.xla_bridge:No GPU/TPU found, falling back to CPU. (Set TF_CPP_MIN_LOG_LEVEL=0 and rerun for more info.)\n"
          ]
        },
        {
          "output_type": "stream",
          "name": "stdout",
          "text": [
            "1.0009018928928382 3.814697265625e-05 1.0009018928928382 16.190861620062105\n",
            "0.9851612963854789 1.6953841937730858 0.9851612963854789 12.434716724258008\n",
            "0.9910508057363797 0.8418083752729034 0.9910508057363797 13.552807659492156\n",
            "0.9894332425865123 0.9999599389681902 0.9894332425865123 13.553079137378328\n",
            "0.9894326431658678 1.000049163266545 0.9894326431658678 13.552745992841064\n",
            "-------------\n"
          ]
        }
      ]
    },
    {
      "cell_type": "markdown",
      "source": [
        "We can now run the sampler. Let's get 5000 samples."
      ],
      "metadata": {
        "id": "Mhx15A2K8020"
      }
    },
    {
      "cell_type": "code",
      "source": [
        "samples, weights = sampler.sample(5000)"
      ],
      "metadata": {
        "id": "sucJHLMi0Jfh"
      },
      "execution_count": 9,
      "outputs": []
    },
    {
      "cell_type": "markdown",
      "source": [
        "The sampler returns the samples and the associated weights."
      ],
      "metadata": {
        "id": "IClcHBm29Oce"
      }
    },
    {
      "cell_type": "code",
      "source": [
        "print(jnp.shape(samples))\n",
        "print(jnp.shape(weights))"
      ],
      "metadata": {
        "colab": {
          "base_uri": "https://localhost:8080/"
        },
        "id": "yypd11zL5Cof",
        "outputId": "45a8941d-f754-4688-9b5f-0878e7efa58a"
      },
      "execution_count": 10,
      "outputs": [
        {
          "output_type": "stream",
          "name": "stdout",
          "text": [
            "(5000, 2)\n",
            "(5000,)\n"
          ]
        }
      ]
    },
    {
      "cell_type": "markdown",
      "source": [
        "Let's plot the one dimensional marginal distribution along the $x_1$ coordinate."
      ],
      "metadata": {
        "id": "rYNoRRzd9old"
      }
    },
    {
      "cell_type": "code",
      "source": [
        "plt.hist(samples[:, 0], bins = 50, weights = weights, density = True, label = 'MCHMC')\n",
        "\n",
        "from scipy.stats import norm\n",
        "\n",
        "t = jnp.linspace(-4, 4, 100)\n",
        "plt.plot(t, norm.pdf(t), color = 'black', label = 'ground truth')\n",
        "\n",
        "plt.xlabel(r'$x_1$', fontsize = 15)\n",
        "plt.ylabel('density', fontsize = 15)\n",
        "plt.legend(fontsize = 13)\n",
        "plt.show()"
      ],
      "metadata": {
        "colab": {
          "base_uri": "https://localhost:8080/",
          "height": 285
        },
        "id": "FQWghKb41Yvy",
        "outputId": "0bd5db00-cfc0-474a-ae53-bfe61ce8ea90"
      },
      "execution_count": 13,
      "outputs": [
        {
          "output_type": "display_data",
          "data": {
            "text/plain": [
              "<Figure size 432x288 with 1 Axes>"
            ],
            "image/png": "[encoded data removed]"
          },
          "metadata": {
            "needs_background": "light"
          }
        }
      ]
    },
    {
      "cell_type": "markdown",
      "source": [
        "Alternatively, we can avoid the weights for ploting purposes and resample according to the weights:"
      ],
      "metadata": {
        "id": "b3S6fR5h5QvC"
      }
    },
    {
      "cell_type": "code",
      "source": [
        "x1 = np.random.choice(samples[:, 0], 50000, p= weights / np.sum(weights))"
      ],
      "metadata": {
        "id": "8SXFy-jK5Eye"
      },
      "execution_count": 14,
      "outputs": []
    },
    {
      "cell_type": "code",
      "source": [
        "plt.hist(x1, bins = 50, density = True, label = 'MCHMC')\n",
        "\n",
        "plt.plot(t, norm.pdf(t), color = 'black', label = 'ground truth')\n",
        "\n",
        "plt.xlabel(r'$x_1$', fontsize = 15)\n",
        "plt.ylabel('density', fontsize = 15)\n",
        "plt.legend(fontsize = 13)\n",
        "plt.show()"
      ],
      "metadata": {
        "colab": {
          "base_uri": "https://localhost:8080/",
          "height": 285
        },
        "id": "EXZ28x7I5Lms",
        "outputId": "7f0d2bc7-6688-4e75-b2e7-9618a8d127ed"
      },
      "execution_count": 15,
      "outputs": [
        {
          "output_type": "display_data",
          "data": {
            "text/plain": [
              "<Figure size 432x288 with 1 Axes>"
            ],
            "image/png": "[encoded data removed]"
          },
          "metadata": {
            "needs_background": "light"
          }
        }
      ]
    },
    {
      "cell_type": "markdown",
      "source": [
        "##Parallel sampling"
      ],
      "metadata": {
        "id": "NTYwLVchLoiu"
      }
    },
    {
      "cell_type": "markdown",
      "source": [
        "Instead of runing one long chain we can run multiple shorter chains. Our target must now have `prior_draw` defined as this is used for initializing the chains. We will run 500 chains for 200 steps:"
      ],
      "metadata": {
        "id": "Q3bWb9ANMRC2"
      }
    },
    {
      "cell_type": "code",
      "source": [
        "samples, weights = sampler.parallel_sample(500, 200)"
      ],
      "metadata": {
        "id": "hF8o98uADvol"
      },
      "execution_count": 16,
      "outputs": []
    },
    {
      "cell_type": "code",
      "source": [
        "print(np.shape(samples))\n",
        "print(np.shape(weights))"
      ],
      "metadata": {
        "colab": {
          "base_uri": "https://localhost:8080/"
        },
        "id": "ecofHgZsF-9o",
        "outputId": "050fd665-0201-4f04-f2e2-7d538ae1011d"
      },
      "execution_count": 17,
      "outputs": [
        {
          "output_type": "stream",
          "name": "stdout",
          "text": [
            "(500, 200, 2)\n",
            "(500, 200)\n"
          ]
        }
      ]
    },
    {
      "cell_type": "markdown",
      "source": [
        "Let's assign each chain as a whole an equal weight, by normalizing the sum of all weights in each chain:"
      ],
      "metadata": {
        "id": "u2es--QhPRYB"
      }
    },
    {
      "cell_type": "code",
      "source": [
        "weights = (weights.T / np.average(weights, axis = 1)).T"
      ],
      "metadata": {
        "id": "LgOqqF2TJEPu"
      },
      "execution_count": 18,
      "outputs": []
    },
    {
      "cell_type": "markdown",
      "source": [
        "The samples from all chains are now combined in a single array with `np.concatenate`. The marginal posterior looks good:"
      ],
      "metadata": {
        "id": "-LpYkAeJPhGA"
      }
    },
    {
      "cell_type": "code",
      "source": [
        "plt.hist(np.concatenate(samples[:, :, 0]), bins = 50, weights = np.concatenate(weights), density = True, label = 'MCHMC')\n",
        "\n",
        "t = jnp.linspace(-4, 4, 100)\n",
        "plt.plot(t, norm.pdf(t), color = 'black', label = 'ground truth')\n",
        "\n",
        "plt.xlabel(r'$x_1$', fontsize = 15)\n",
        "plt.ylabel('density', fontsize = 15)\n",
        "plt.legend(fontsize = 13)\n",
        "plt.xlim(-5, 5)\n",
        "plt.ylim(0, 0.45)\n",
        "plt.show()"
      ],
      "metadata": {
        "colab": {
          "base_uri": "https://localhost:8080/",
          "height": 289
        },
        "id": "aQUk8iLhGtzn",
        "outputId": "8142e605-a588-4f37-e14d-fd68a9b1cd61"
      },
      "execution_count": 19,
      "outputs": [
        {
          "output_type": "display_data",
          "data": {
            "text/plain": [
              "<Figure size 432x288 with 1 Axes>"
            ],
            "image/png": "[encoded data removed]"
          },
          "metadata": {
            "needs_background": "light"
          }
        }
      ]
    }
  ]
}