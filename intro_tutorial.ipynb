{
  "nbformat": 4,
  "nbformat_minor": 0,
  "metadata": {
    "colab": {
      "provenance": [],
      "authorship_tag": "ABX9TyMVUbewB882zN8LGKbwRmeT",
      "include_colab_link": true
    },
    "kernelspec": {
      "name": "python3",
      "display_name": "Python 3"
    },
    "language_info": {
      "name": "python"
    }
  },
  "cells": [
    {
      "cell_type": "markdown",
      "metadata": {
        "id": "view-in-github",
        "colab_type": "text"
      },
      "source": [
        "<a href=\"https://colab.research.google.com/github/JakobRobnik/MicroCanonicalHMC/blob/master/intro_tutorial.ipynb\" target=\"_parent\"><img src=\"https://colab.research.google.com/assets/colab-badge.svg\" alt=\"Open In Colab\"/></a>"
      ]
    },
    {
      "cell_type": "markdown",
      "source": [
        "# **Getting started - MCHMC sampling from a Standard Gaussian target distribution**"
      ],
      "metadata": {
        "id": "qQc5Sh9v90k9"
      }
    },
    {
      "cell_type": "markdown",
      "source": [
        "## Setup"
      ],
      "metadata": {
        "id": "cBq4O6YgLXOy"
      }
    },
    {
      "cell_type": "markdown",
      "source": [
        "First, let's import the MCHMC code."
      ],
      "metadata": {
        "id": "KzZfXb7m6EJ-"
      }
    },
    {
      "cell_type": "code",
      "execution_count": 1,
      "metadata": {
        "id": "alLR1QrHy0ah",
        "colab": {
          "base_uri": "https://localhost:8080/"
        },
        "outputId": "89b812f8-e495-4588-c11e-54fa39dc4733"
      },
      "outputs": [
        {
          "output_type": "stream",
          "name": "stdout",
          "text": [
            "Cloning into 'MicroCanonicalHMC'...\n",
            "remote: Enumerating objects: 602, done.\u001b[K\n",
            "remote: Counting objects:   0% (1/142)\u001b[K\rremote: Counting objects:   1% (2/142)\u001b[K\rremote: Counting objects:   2% (3/142)\u001b[K\rremote: Counting objects:   3% (5/142)\u001b[K\rremote: Counting objects:   4% (6/142)\u001b[K\rremote: Counting objects:   5% (8/142)\u001b[K\rremote: Counting objects:   6% (9/142)\u001b[K\rremote: Counting objects:   7% (10/142)\u001b[K\rremote: Counting objects:   8% (12/142)\u001b[K\rremote: Counting objects:   9% (13/142)\u001b[K\rremote: Counting objects:  10% (15/142)\u001b[K\rremote: Counting objects:  11% (16/142)\u001b[K\rremote: Counting objects:  12% (18/142)\u001b[K\rremote: Counting objects:  13% (19/142)\u001b[K\rremote: Counting objects:  14% (20/142)\u001b[K\rremote: Counting objects:  15% (22/142)\u001b[K\rremote: Counting objects:  16% (23/142)\u001b[K\rremote: Counting objects:  17% (25/142)\u001b[K\rremote: Counting objects:  18% (26/142)\u001b[K\rremote: Counting objects:  19% (27/142)\u001b[K\rremote: Counting objects:  20% (29/142)\u001b[K\rremote: Counting objects:  21% (30/142)\u001b[K\rremote: Counting objects:  22% (32/142)\u001b[K\rremote: Counting objects:  23% (33/142)\u001b[K\rremote: Counting objects:  24% (35/142)\u001b[K\rremote: Counting objects:  25% (36/142)\u001b[K\rremote: Counting objects:  26% (37/142)\u001b[K\rremote: Counting objects:  27% (39/142)\u001b[K\rremote: Counting objects:  28% (40/142)\u001b[K\rremote: Counting objects:  29% (42/142)\u001b[K\rremote: Counting objects:  30% (43/142)\u001b[K\rremote: Counting objects:  31% (45/142)\u001b[K\rremote: Counting objects:  32% (46/142)\u001b[K\rremote: Counting objects:  33% (47/142)\u001b[K\rremote: Counting objects:  34% (49/142)\u001b[K\rremote: Counting objects:  35% (50/142)\u001b[K\rremote: Counting objects:  36% (52/142)\u001b[K\rremote: Counting objects:  37% (53/142)\u001b[K\rremote: Counting objects:  38% (54/142)\u001b[K\rremote: Counting objects:  39% (56/142)\u001b[K\rremote: Counting objects:  40% (57/142)\u001b[K\rremote: Counting objects:  41% (59/142)\u001b[K\rremote: Counting objects:  42% (60/142)\u001b[K\rremote: Counting objects:  43% (62/142)\u001b[K\rremote: Counting objects:  44% (63/142)\u001b[K\rremote: Counting objects:  45% (64/142)\u001b[K\rremote: Counting objects:  46% (66/142)\u001b[K\rremote: Counting objects:  47% (67/142)\u001b[K\rremote: Counting objects:  48% (69/142)\u001b[K\rremote: Counting objects:  49% (70/142)\u001b[K\rremote: Counting objects:  50% (71/142)\u001b[K\rremote: Counting objects:  51% (73/142)\u001b[K\rremote: Counting objects:  52% (74/142)\u001b[K\rremote: Counting objects:  53% (76/142)\u001b[K\rremote: Counting objects:  54% (77/142)\u001b[K\rremote: Counting objects:  55% (79/142)\u001b[K\rremote: Counting objects:  56% (80/142)\u001b[K\rremote: Counting objects:  57% (81/142)\u001b[K\rremote: Counting objects:  58% (83/142)\u001b[K\rremote: Counting objects:  59% (84/142)\u001b[K\rremote: Counting objects:  60% (86/142)\u001b[K\rremote: Counting objects:  61% (87/142)\u001b[K\rremote: Counting objects:  62% (89/142)\u001b[K\rremote: Counting objects:  63% (90/142)\u001b[K\rremote: Counting objects:  64% (91/142)\u001b[K\rremote: Counting objects:  65% (93/142)\u001b[K\rremote: Counting objects:  66% (94/142)\u001b[K\rremote: Counting objects:  67% (96/142)\u001b[K\rremote: Counting objects:  68% (97/142)\u001b[K\rremote: Counting objects:  69% (98/142)\u001b[K\rremote: Counting objects:  70% (100/142)\u001b[K\rremote: Counting objects:  71% (101/142)\u001b[K\rremote: Counting objects:  72% (103/142)\u001b[K\rremote: Counting objects:  73% (104/142)\u001b[K\rremote: Counting objects:  74% (106/142)\u001b[K\rremote: Counting objects:  75% (107/142)\u001b[K\rremote: Counting objects:  76% (108/142)\u001b[K\rremote: Counting objects:  77% (110/142)\u001b[K\rremote: Counting objects:  78% (111/142)\u001b[K\rremote: Counting objects:  79% (113/142)\u001b[K\rremote: Counting objects:  80% (114/142)\u001b[K\rremote: Counting objects:  81% (116/142)\u001b[K\rremote: Counting objects:  82% (117/142)\u001b[K\rremote: Counting objects:  83% (118/142)\u001b[K\rremote: Counting objects:  84% (120/142)\u001b[K\rremote: Counting objects:  85% (121/142)\u001b[K\rremote: Counting objects:  86% (123/142)\u001b[K\rremote: Counting objects:  87% (124/142)\u001b[K\rremote: Counting objects:  88% (125/142)\u001b[K\rremote: Counting objects:  89% (127/142)\u001b[K\rremote: Counting objects:  90% (128/142)\u001b[K\rremote: Counting objects:  91% (130/142)\u001b[K\rremote: Counting objects:  92% (131/142)\u001b[K\rremote: Counting objects:  93% (133/142)\u001b[K\rremote: Counting objects:  94% (134/142)\u001b[K\rremote: Counting objects:  95% (135/142)\u001b[K\rremote: Counting objects:  96% (137/142)\u001b[K\rremote: Counting objects:  97% (138/142)\u001b[K\rremote: Counting objects:  98% (140/142)\u001b[K\rremote: Counting objects:  99% (141/142)\u001b[K\rremote: Counting objects: 100% (142/142)\u001b[K\rremote: Counting objects: 100% (142/142), done.\u001b[K\n",
            "remote: Compressing objects: 100% (98/98), done.\u001b[K\n",
            "remote: Total 602 (delta 88), reused 80 (delta 43), pack-reused 460\u001b[K\n",
            "Receiving objects: 100% (602/602), 835.40 KiB | 14.16 MiB/s, done.\n",
            "Resolving deltas: 100% (383/383), done.\n"
          ]
        }
      ],
      "source": [
        "!rm -r MicroCanonicalHMC\n",
        "!git clone https://github.com/JakobRobnik/MicroCanonicalHMC.git"
      ]
    },
    {
      "cell_type": "markdown",
      "source": [
        "We will be using jax, as it can automatically compute gradients."
      ],
      "metadata": {
        "id": "rEAjgH6b6MiR"
      }
    },
    {
      "cell_type": "code",
      "source": [
        "import jax\n",
        "import jax.numpy as jnp\n",
        "import numpy as np\n",
        "import matplotlib.pyplot as plt\n",
        "\n",
        "from MicroCanonicalHMC.MCHMC.mchmc import Sampler"
      ],
      "metadata": {
        "id": "Rrzbg6xjz2gm"
      },
      "execution_count": 2,
      "outputs": []
    },
    {
      "cell_type": "markdown",
      "source": [
        "In this example we will sample from a standard Gaussian target. Let's define the negative log density:"
      ],
      "metadata": {
        "id": "4Dd92Wan6Wl_"
      }
    },
    {
      "cell_type": "code",
      "source": [
        "nlogp = lambda x: 0.5*jnp.sum(jnp.square(x))"
      ],
      "metadata": {
        "id": "ynRgtRKWzizg"
      },
      "execution_count": 3,
      "outputs": []
    },
    {
      "cell_type": "markdown",
      "source": [
        "and get the gradient with jax:"
      ],
      "metadata": {
        "id": "qE-l3rW-6kyh"
      }
    },
    {
      "cell_type": "code",
      "source": [
        "grad_nlogp = jax.grad(nlogp)"
      ],
      "metadata": {
        "id": "FxAwakKf6jy7"
      },
      "execution_count": 4,
      "outputs": []
    },
    {
      "cell_type": "markdown",
      "source": [
        "\n",
        "The target is a class with functions `nlogp`, `grad_nlogp` and `transform`. Some common targets are implemented in `targets.py`.\n",
        "Let's here define the standard Gaussian target:"
      ],
      "metadata": {
        "id": "NRcl3RZS6vIl"
      }
    },
    {
      "cell_type": "code",
      "source": [
        "class StandardGaussian():\n",
        "  \n",
        "  def __init__(self, d):\n",
        "    self.d = d\n",
        "  \n",
        "  def nlogp(self, x):\n",
        "     return nlogp(x)\n",
        "\n",
        "  def grad_nlogp(self, x):\n",
        "     return grad_nlogp(x)\n",
        "\n",
        "  def transform(self, x):\n",
        "    return x[:2] \n",
        "    #return x\n",
        "\n",
        "  def prior_draw(self, key):\n",
        "    \"\"\"Args: jax random key\n",
        "       Returns: one random sample from the prior\"\"\"\n",
        "\n",
        "    return jax.random.normal(key, shape = (self.d, ), dtype = 'float64') * 4"
      ],
      "metadata": {
        "id": "n2nW60C-zDIF"
      },
      "execution_count": 5,
      "outputs": []
    },
    {
      "cell_type": "markdown",
      "source": [
        "`transform` is useful when the dimensionality is high and storing all of the samples becomes memory intesive. We are ususally only iterested in some lower dimensional marginal distribution. `transform` is used in those cases as a map to the lower dimensional space of interest. As an illustration, here we are only interested in the first two components $x_1$ and $x_2$. If not needed it can just be set to the identity (commented out line).\n",
        "\n",
        "`prior_draw` is not a required attribute. By default it is used to initialize the chain. If not defined, we should pass the initial condition to the `sample` function by hand."
      ],
      "metadata": {
        "id": "6yG6xmAtm8cP"
      }
    },
    {
      "cell_type": "markdown",
      "source": [
        "Let's sample from a $d = 1000$ Standard Gaussian target. We create a mchmc Sampler class by passing it the desired target distribution:"
      ],
      "metadata": {
        "id": "SnS6vD6s8KUC"
      }
    },
    {
      "cell_type": "code",
      "source": [
        "sampler = Sampler(StandardGaussian(d = 1000))"
      ],
      "metadata": {
        "id": "aMvFvS4Lz8Up"
      },
      "execution_count": 6,
      "outputs": []
    },
    {
      "cell_type": "markdown",
      "source": [
        "We used the default Langevin-like momentum decoherence mechanism (`generalized= True`) and the Minimal Norm integrator of the dynamics (`integrator= 'MN'`)."
      ],
      "metadata": {
        "id": "4o7hKrzToAIU"
      }
    },
    {
      "cell_type": "markdown",
      "source": [
        "MCHMC has two hyperparameters, the integration step-size $ϵ$ and the momentum decoherence scale $L$. Let's use a short prerun to tune them:"
      ],
      "metadata": {
        "id": "P-ymgo8FoCgP"
      }
    },
    {
      "cell_type": "code",
      "source": [
        "sampler.tune_hyperparameters()"
      ],
      "metadata": {
        "id": "wSRigZWYoSe2",
        "colab": {
          "base_uri": "https://localhost:8080/"
        },
        "outputId": "5b7d3d80-736c-4ef6-ac11-cf38254ac149"
      },
      "execution_count": 7,
      "outputs": [
        {
          "output_type": "stream",
          "name": "stderr",
          "text": [
            "WARNING:jax._src.lib.xla_bridge:No GPU/TPU found, falling back to CPU. (Set TF_CPP_MIN_LOG_LEVEL=0 and rerun for more info.)\n"
          ]
        }
      ]
    },
    {
      "cell_type": "markdown",
      "source": [
        "Sampler now has the hyperparameter attributes:"
      ],
      "metadata": {
        "id": "azbjWCe8p-vh"
      }
    },
    {
      "cell_type": "code",
      "source": [
        "print('eps: {0}, L: {1}'.format(sampler.eps, sampler.L))"
      ],
      "metadata": {
        "colab": {
          "base_uri": "https://localhost:8080/"
        },
        "id": "_tLQdcIWpoSw",
        "outputId": "8ba8229d-678c-482b-c9c9-32a359bbd88c"
      },
      "execution_count": 8,
      "outputs": [
        {
          "output_type": "stream",
          "name": "stdout",
          "text": [
            "eps: 51.562861810543794, L: 17.772669402631696\n"
          ]
        }
      ]
    },
    {
      "cell_type": "markdown",
      "source": [
        "We can now run the sampler. Let's get 5000 samples."
      ],
      "metadata": {
        "id": "Mhx15A2K8020"
      }
    },
    {
      "cell_type": "code",
      "source": [
        "samples, weights = sampler.sample(5000)"
      ],
      "metadata": {
        "id": "sucJHLMi0Jfh"
      },
      "execution_count": 9,
      "outputs": []
    },
    {
      "cell_type": "markdown",
      "source": [
        "The sampler returns the samples and the associated weights."
      ],
      "metadata": {
        "id": "IClcHBm29Oce"
      }
    },
    {
      "cell_type": "code",
      "source": [
        "print(jnp.shape(samples))\n",
        "print(jnp.shape(weights))"
      ],
      "metadata": {
        "colab": {
          "base_uri": "https://localhost:8080/"
        },
        "id": "yypd11zL5Cof",
        "outputId": "a9831729-7c80-4b20-adf7-bd2408ad1143"
      },
      "execution_count": 10,
      "outputs": [
        {
          "output_type": "stream",
          "name": "stdout",
          "text": [
            "(5000, 2)\n",
            "(5000,)\n"
          ]
        }
      ]
    },
    {
      "cell_type": "markdown",
      "source": [
        "Let's plot the one dimensional marginal distribution along the $x_1$ coordinate."
      ],
      "metadata": {
        "id": "rYNoRRzd9old"
      }
    },
    {
      "cell_type": "code",
      "source": [
        "plt.hist(samples[:, 0], bins = 50, weights = weights, density = True, label = 'MCHMC')\n",
        "\n",
        "from scipy.stats import norm\n",
        "\n",
        "t = jnp.linspace(-4, 4, 100)\n",
        "plt.plot(t, norm.pdf(t), color = 'black', label = 'ground truth')\n",
        "\n",
        "plt.xlabel(r'$x_1$', fontsize = 15)\n",
        "plt.ylabel('density', fontsize = 15)\n",
        "plt.legend(fontsize = 13)\n",
        "plt.show()"
      ],
      "metadata": {
        "colab": {
          "base_uri": "https://localhost:8080/",
          "height": 285
        },
        "id": "FQWghKb41Yvy",
        "outputId": "b6345f77-c8cb-4b75-f66c-85606768f5aa"
      },
      "execution_count": 11,
      "outputs": [
        {
          "output_type": "display_data",
          "data": {
            "text/plain": [
              "<Figure size 432x288 with 1 Axes>"
            ],
            "image/png": "[encoded data removed]"
          },
          "metadata": {
            "needs_background": "light"
          }
        }
      ]
    },
    {
      "cell_type": "markdown",
      "source": [
        "Alternatively, we can avoid the weights for ploting purposes and resample according to the weights:"
      ],
      "metadata": {
        "id": "b3S6fR5h5QvC"
      }
    },
    {
      "cell_type": "code",
      "source": [
        "x1 = np.random.choice(samples[:, 0], 50000, p= weights / np.sum(weights))"
      ],
      "metadata": {
        "id": "8SXFy-jK5Eye"
      },
      "execution_count": 12,
      "outputs": []
    },
    {
      "cell_type": "code",
      "source": [
        "plt.hist(x1, bins = 50, density = True, label = 'MCHMC')\n",
        "\n",
        "plt.plot(t, norm.pdf(t), color = 'black', label = 'ground truth')\n",
        "\n",
        "plt.xlabel(r'$x_1$', fontsize = 15)\n",
        "plt.ylabel('density', fontsize = 15)\n",
        "plt.legend(fontsize = 13)\n",
        "plt.show()"
      ],
      "metadata": {
        "colab": {
          "base_uri": "https://localhost:8080/",
          "height": 285
        },
        "id": "EXZ28x7I5Lms",
        "outputId": "46cac590-166d-481e-b588-c36db7a390cb"
      },
      "execution_count": 13,
      "outputs": [
        {
          "output_type": "display_data",
          "data": {
            "text/plain": [
              "<Figure size 432x288 with 1 Axes>"
            ],
            "image/png": "[encoded data removed]"
          },
          "metadata": {
            "needs_background": "light"
          }
        }
      ]
    }
  ]
}