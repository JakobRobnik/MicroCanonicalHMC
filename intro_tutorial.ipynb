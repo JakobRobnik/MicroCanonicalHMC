{
  "nbformat": 4,
  "nbformat_minor": 0,
  "metadata": {
    "colab": {
      "provenance": [],
      "authorship_tag": "ABX9TyNosUHDKkJWtcgARfmf3xNs",
      "include_colab_link": true
    },
    "kernelspec": {
      "name": "python3",
      "display_name": "Python 3"
    },
    "language_info": {
      "name": "python"
    }
  },
  "cells": [
    {
      "cell_type": "markdown",
      "metadata": {
        "id": "view-in-github",
        "colab_type": "text"
      },
      "source": [
        "<a href=\"https://colab.research.google.com/github/JakobRobnik/MicroCanonicalHMC/blob/master/intro_tutorial.ipynb\" target=\"_parent\"><img src=\"https://colab.research.google.com/assets/colab-badge.svg\" alt=\"Open In Colab\"/></a>"
      ]
    },
    {
      "cell_type": "markdown",
      "source": [
        "# **Getting started - MCHMC sampling from a Standard Gaussian target distribution**"
      ],
      "metadata": {
        "id": "qQc5Sh9v90k9"
      }
    },
    {
      "cell_type": "markdown",
      "source": [
        "## Setup"
      ],
      "metadata": {
        "id": "cBq4O6YgLXOy"
      }
    },
    {
      "cell_type": "markdown",
      "source": [
        "First, let's import the MCHMC code."
      ],
      "metadata": {
        "id": "KzZfXb7m6EJ-"
      }
    },
    {
      "cell_type": "code",
      "execution_count": 1,
      "metadata": {
        "id": "alLR1QrHy0ah",
        "colab": {
          "base_uri": "https://localhost:8080/"
        },
        "outputId": "a09d97ad-710a-4ed2-a6ec-6f3e1dd31c0c"
      },
      "outputs": [
        {
          "output_type": "stream",
          "name": "stdout",
          "text": [
            "Cloning into 'MicroCanonicalHMC'...\n",
            "remote: Enumerating objects: 562, done.\u001b[K\n",
            "remote: Counting objects: 100% (102/102), done.\u001b[K\n",
            "remote: Compressing objects: 100% (68/68), done.\u001b[K\n",
            "remote: Total 562 (delta 65), reused 60 (delta 34), pack-reused 460\u001b[K\n",
            "Receiving objects: 100% (562/562), 794.03 KiB | 9.34 MiB/s, done.\n",
            "Resolving deltas: 100% (360/360), done.\n"
          ]
        }
      ],
      "source": [
        "!git clone https://github.com/JakobRobnik/MicroCanonicalHMC.git"
      ]
    },
    {
      "cell_type": "markdown",
      "source": [
        "We will be using jax, as it can automatically compute gradients."
      ],
      "metadata": {
        "id": "rEAjgH6b6MiR"
      }
    },
    {
      "cell_type": "code",
      "source": [
        "import jax\n",
        "import jax.numpy as jnp\n",
        "import numpy as np\n",
        "import matplotlib.pyplot as plt\n",
        "\n",
        "from MicroCanonicalHMC.mchmc import Sampler"
      ],
      "metadata": {
        "id": "Rrzbg6xjz2gm"
      },
      "execution_count": 2,
      "outputs": []
    },
    {
      "cell_type": "markdown",
      "source": [
        "In this example we will sample from a standard Gaussian target. Let's define the negative log density:"
      ],
      "metadata": {
        "id": "4Dd92Wan6Wl_"
      }
    },
    {
      "cell_type": "code",
      "source": [
        "nlogp = lambda x: 0.5*jnp.sum(jnp.square(x))"
      ],
      "metadata": {
        "id": "ynRgtRKWzizg"
      },
      "execution_count": 3,
      "outputs": []
    },
    {
      "cell_type": "markdown",
      "source": [
        "and get the gradient with jax:"
      ],
      "metadata": {
        "id": "qE-l3rW-6kyh"
      }
    },
    {
      "cell_type": "code",
      "source": [
        "grad_nlogp = jax.grad(nlogp)"
      ],
      "metadata": {
        "id": "FxAwakKf6jy7"
      },
      "execution_count": 4,
      "outputs": []
    },
    {
      "cell_type": "markdown",
      "source": [
        "\n",
        "The target is a class with functions `nlogp`, `grad_nlogp` and `transform`. Some common targets are implemented in `targets.py`.\n",
        "Let's here define the standard Gaussian target:"
      ],
      "metadata": {
        "id": "NRcl3RZS6vIl"
      }
    },
    {
      "cell_type": "code",
      "source": [
        "class StandardGaussian():\n",
        "  \n",
        "  def __init__(self, d):\n",
        "    self.d = d\n",
        "  \n",
        "  def nlogp(self, x):\n",
        "     return nlogp(x)\n",
        "\n",
        "  def grad_nlogp(self, x):\n",
        "     return grad_nlogp(x)\n",
        "\n",
        "  def transform(self, x):\n",
        "    return x[:2] \n",
        "    #return x\n",
        "\n",
        "  def prior_draw(self, key):\n",
        "    \"\"\"Args: jax random key\n",
        "       Returns: one random sample from the prior\"\"\"\n",
        "\n",
        "    return jax.random.normal(key, shape = (self.d, ), dtype = 'float64') * 4"
      ],
      "metadata": {
        "id": "n2nW60C-zDIF"
      },
      "execution_count": 16,
      "outputs": []
    },
    {
      "cell_type": "markdown",
      "source": [
        "`transform` is useful when the dimensionality is high and storing all of the samples becomes memory intesive. We are ususally only iterested in some lower dimensional marginal distribution. `transform` is used in those cases as a map to the lower dimensional space of interest. As an illustration, here we are only interested in the first two components $x_1$ and $x_2$. If not needed it can just be set to the identity (commented out line).\n",
        "\n",
        "`prior_draw` is not a required attribute. By default it is used to initialize the chain. If not defined, we should pass the initial condition to the `sample` function by hand."
      ],
      "metadata": {
        "id": "6yG6xmAtm8cP"
      }
    },
    {
      "cell_type": "markdown",
      "source": [
        "Let's sample from a $d = 1000$ Standard Gaussian target. We create a mchmc Sampler class by passing it the desired target distribution:"
      ],
      "metadata": {
        "id": "SnS6vD6s8KUC"
      }
    },
    {
      "cell_type": "code",
      "source": [
        "MCHMC = Sampler(StandardGaussian(d = 1000))"
      ],
      "metadata": {
        "id": "aMvFvS4Lz8Up"
      },
      "execution_count": 24,
      "outputs": []
    },
    {
      "cell_type": "markdown",
      "source": [
        "We used the default Langevin-like momentum decoherence mechanism (`generalized= True`) and the Minimal Norm integrator of the dynamics (`integrator= 'MN'`)."
      ],
      "metadata": {
        "id": "4o7hKrzToAIU"
      }
    },
    {
      "cell_type": "markdown",
      "source": [
        "MCHMC has two hyperparameters, the integration step-size $ϵ$ and the momentum decoherence scale $L$. Let's use a short prerun to tune them:"
      ],
      "metadata": {
        "id": "P-ymgo8FoCgP"
      }
    },
    {
      "cell_type": "code",
      "source": [
        "MCHMC.tune_hyperparameters()"
      ],
      "metadata": {
        "id": "wSRigZWYoSe2"
      },
      "execution_count": 25,
      "outputs": []
    },
    {
      "cell_type": "markdown",
      "source": [
        "Sampler now has the hyperparameter attributes:"
      ],
      "metadata": {
        "id": "azbjWCe8p-vh"
      }
    },
    {
      "cell_type": "code",
      "source": [
        "print('eps: {0}, L: {1}'.format(MCHMC.eps, MCHMC.L))"
      ],
      "metadata": {
        "colab": {
          "base_uri": "https://localhost:8080/"
        },
        "id": "_tLQdcIWpoSw",
        "outputId": "09678c92-6d41-4e87-cfeb-720d05e15879"
      },
      "execution_count": 26,
      "outputs": [
        {
          "output_type": "stream",
          "name": "stdout",
          "text": [
            "eps: 51.562861810543794, L: 17.772669402631696\n"
          ]
        }
      ]
    },
    {
      "cell_type": "markdown",
      "source": [
        "We can now run the sampler. Let's get 5000 samples."
      ],
      "metadata": {
        "id": "Mhx15A2K8020"
      }
    },
    {
      "cell_type": "code",
      "source": [
        "samples, weights = MCHMC.sample(5000)"
      ],
      "metadata": {
        "id": "sucJHLMi0Jfh"
      },
      "execution_count": 28,
      "outputs": []
    },
    {
      "cell_type": "markdown",
      "source": [
        "The sampler returns the samples and the associated weights."
      ],
      "metadata": {
        "id": "IClcHBm29Oce"
      }
    },
    {
      "cell_type": "code",
      "source": [
        "print(jnp.shape(samples))\n",
        "print(jnp.shape(weights))"
      ],
      "metadata": {
        "colab": {
          "base_uri": "https://localhost:8080/"
        },
        "id": "yypd11zL5Cof",
        "outputId": "8c61a452-3846-4a24-88c1-789ee69f1a99"
      },
      "execution_count": 29,
      "outputs": [
        {
          "output_type": "stream",
          "name": "stdout",
          "text": [
            "(5000, 2)\n",
            "(5000,)\n"
          ]
        }
      ]
    },
    {
      "cell_type": "markdown",
      "source": [
        "Let's plot the one dimensional marginal distribution along the $x_1$ coordinate."
      ],
      "metadata": {
        "id": "rYNoRRzd9old"
      }
    },
    {
      "cell_type": "code",
      "source": [
        "plt.hist(samples[:, 0], bins = 50, weights = weights, density = True, label = 'MCHMC')\n",
        "\n",
        "from scipy.stats import norm\n",
        "\n",
        "t = jnp.linspace(-4, 4, 100)\n",
        "plt.plot(t, norm.pdf(t), color = 'black', label = 'ground truth')\n",
        "\n",
        "plt.xlabel(r'$x_1$', fontsize = 15)\n",
        "plt.ylabel('density', fontsize = 15)\n",
        "plt.legend(fontsize = 13)\n",
        "plt.show()"
      ],
      "metadata": {
        "colab": {
          "base_uri": "https://localhost:8080/",
          "height": 285
        },
        "id": "FQWghKb41Yvy",
        "outputId": "8575678d-95f7-4cbe-edc1-6ab0d4ab4154"
      },
      "execution_count": 30,
      "outputs": [
        {
          "output_type": "display_data",
          "data": {
            "text/plain": [
              "<Figure size 432x288 with 1 Axes>"
            ],
            "image/png": "[encoded data removed]"
          },
          "metadata": {
            "needs_background": "light"
          }
        }
      ]
    },
    {
      "cell_type": "markdown",
      "source": [
        "Alternatively, we can avoid the weights for ploting purposes and resample according to the weights:"
      ],
      "metadata": {
        "id": "b3S6fR5h5QvC"
      }
    },
    {
      "cell_type": "code",
      "source": [
        "x1 = np.random.choice(samples[:, 0], 50000, p= weights / np.sum(weights))"
      ],
      "metadata": {
        "id": "8SXFy-jK5Eye"
      },
      "execution_count": 31,
      "outputs": []
    },
    {
      "cell_type": "code",
      "source": [
        "plt.hist(x1, bins = 50, density = True, label = 'MCHMC')\n",
        "\n",
        "plt.plot(t, norm.pdf(t), color = 'black', label = 'ground truth')\n",
        "\n",
        "plt.xlabel(r'$x_1$', fontsize = 15)\n",
        "plt.ylabel('density', fontsize = 15)\n",
        "plt.legend(fontsize = 13)\n",
        "plt.show()"
      ],
      "metadata": {
        "colab": {
          "base_uri": "https://localhost:8080/",
          "height": 285
        },
        "id": "EXZ28x7I5Lms",
        "outputId": "71942bb4-6871-4bfd-c9ac-d9b6d3ed2cda"
      },
      "execution_count": 32,
      "outputs": [
        {
          "output_type": "display_data",
          "data": {
            "text/plain": [
              "<Figure size 432x288 with 1 Axes>"
            ],
            "image/png": "[encoded data removed]"
          },
          "metadata": {
            "needs_background": "light"
          }
        }
      ]
    }
  ]
}