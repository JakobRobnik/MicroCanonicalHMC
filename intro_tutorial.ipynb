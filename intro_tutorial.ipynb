{
  "nbformat": 4,
  "nbformat_minor": 0,
  "metadata": {
    "colab": {
      "provenance": [],
      "authorship_tag": "ABX9TyMdU/JSrQjsq5S/u8R5U8Zw",
      "include_colab_link": true
    },
    "kernelspec": {
      "name": "python3",
      "display_name": "Python 3"
    },
    "language_info": {
      "name": "python"
    }
  },
  "cells": [
    {
      "cell_type": "markdown",
      "metadata": {
        "id": "view-in-github",
        "colab_type": "text"
      },
      "source": [
        "<a href=\"https://colab.research.google.com/github/JakobRobnik/MicroCanonicalHMC/blob/master/intro_tutorial.ipynb\" target=\"_parent\"><img src=\"https://colab.research.google.com/assets/colab-badge.svg\" alt=\"Open In Colab\"/></a>"
      ]
    },
    {
      "cell_type": "markdown",
      "source": [
        "# **Getting started - MCHMC sampling from a Standard Gaussian target distribution**"
      ],
      "metadata": {
        "id": "qQc5Sh9v90k9"
      }
    },
    {
      "cell_type": "markdown",
      "source": [
        "First, let's import the MCHMC code."
      ],
      "metadata": {
        "id": "KzZfXb7m6EJ-"
      }
    },
    {
      "cell_type": "code",
      "execution_count": null,
      "metadata": {
        "id": "alLR1QrHy0ah"
      },
      "outputs": [],
      "source": [
        "!git clone https://github.com/JakobRobnik/MicroCanonicalHMC.git"
      ]
    },
    {
      "cell_type": "markdown",
      "source": [
        "We will be using jax, as it can automatically compute gradients."
      ],
      "metadata": {
        "id": "rEAjgH6b6MiR"
      }
    },
    {
      "cell_type": "code",
      "source": [
        "import jax\n",
        "import jax.numpy as jnp\n",
        "import numpy as np\n",
        "import matplotlib.pyplot as plt\n",
        "\n",
        "from MicroCanonicalHMC.sampling.sampler import Sampler"
      ],
      "metadata": {
        "id": "Rrzbg6xjz2gm"
      },
      "execution_count": 3,
      "outputs": []
    },
    {
      "cell_type": "markdown",
      "source": [
        "In this example we will sample from a standard Gaussian target. Let's define the negative log density:"
      ],
      "metadata": {
        "id": "4Dd92Wan6Wl_"
      }
    },
    {
      "cell_type": "code",
      "source": [
        "nlogp = lambda x: 0.5*jnp.sum(jnp.square(x))"
      ],
      "metadata": {
        "id": "ynRgtRKWzizg"
      },
      "execution_count": 4,
      "outputs": []
    },
    {
      "cell_type": "markdown",
      "source": [
        "and get the gradient with jax:"
      ],
      "metadata": {
        "id": "qE-l3rW-6kyh"
      }
    },
    {
      "cell_type": "code",
      "source": [
        "value_grad = jax.value_and_grad(nlogp)"
      ],
      "metadata": {
        "id": "FxAwakKf6jy7"
      },
      "execution_count": 5,
      "outputs": []
    },
    {
      "cell_type": "markdown",
      "source": [
        "\n",
        "The target is a class with functions `nlogp`, `grad_nlogp` and `transform`. Some common targets are implemented in `targets.py`.\n",
        "Let's here define the standard Gaussian target:"
      ],
      "metadata": {
        "id": "NRcl3RZS6vIl"
      }
    },
    {
      "cell_type": "code",
      "source": [
        "class StandardGaussian():\n",
        "  \n",
        "  def __init__(self, d):\n",
        "    self.d = d\n",
        "\n",
        "  def grad_nlogp(self, x):\n",
        "    \"\"\"should return nlogp and gradient of nlogp\"\"\"\n",
        "    return value_grad(x)\n",
        "\n",
        "  def transform(self, x):\n",
        "    return x[:2] \n",
        "    #return x\n",
        "\n",
        "  def prior_draw(self, key):\n",
        "    \"\"\"Args: jax random key\n",
        "       Returns: one random sample from the prior\"\"\"\n",
        "\n",
        "    return jax.random.normal(key, shape = (self.d, ), dtype = 'float64') * 4"
      ],
      "metadata": {
        "id": "n2nW60C-zDIF"
      },
      "execution_count": 6,
      "outputs": []
    },
    {
      "cell_type": "markdown",
      "source": [
        "`transform` is useful when the dimensionality is high and storing all of the samples becomes memory intesive. We are ususally only iterested in some lower dimensional marginal distribution. `transform` is used in those cases as a map to the lower dimensional space of interest. As an illustration, here we are only interested in the first two components $x_1$ and $x_2$. If not needed it can just be set to the identity (commented out line).\n",
        "\n",
        "`prior_draw` is not a required attribute. By default it is used to initialize the chain. If not defined, we should pass the initial condition to the `sample` function by hand."
      ],
      "metadata": {
        "id": "6yG6xmAtm8cP"
      }
    },
    {
      "cell_type": "markdown",
      "source": [
        "Let's sample from a $d = 1000$ Standard Gaussian target. We create a mchmc Sampler class by passing it the desired target distribution:"
      ],
      "metadata": {
        "id": "SnS6vD6s8KUC"
      }
    },
    {
      "cell_type": "code",
      "source": [
        "target = StandardGaussian(d = 1000)\n",
        "sampler = Sampler(target)"
      ],
      "metadata": {
        "id": "aMvFvS4Lz8Up"
      },
      "execution_count": null,
      "outputs": []
    },
    {
      "cell_type": "markdown",
      "source": [
        "We used the default Langevin-like momentum decoherence mechanism (`generalized= True`) and the Minimal Norm integrator of the dynamics (`integrator= 'MN'`)."
      ],
      "metadata": {
        "id": "4o7hKrzToAIU"
      }
    },
    {
      "cell_type": "markdown",
      "source": [
        "MCHMC has two hyperparameters, the integration step-size $ϵ$ and the momentum decoherence scale $L$. Let's use a short prerun to tune them:"
      ],
      "metadata": {
        "id": "P-ymgo8FoCgP"
      }
    },
    {
      "cell_type": "code",
      "source": [
        "sampler.tune_hyperparameters()"
      ],
      "metadata": {
        "id": "wSRigZWYoSe2"
      },
      "execution_count": 8,
      "outputs": []
    },
    {
      "cell_type": "markdown",
      "source": [
        "The hyperparameters L and $\\epsilon$ have now been set:"
      ],
      "metadata": {
        "id": "azbjWCe8p-vh"
      }
    },
    {
      "cell_type": "code",
      "source": [
        "print('eps: {0}, L: {1}'.format(sampler.eps, sampler.L))"
      ],
      "metadata": {
        "colab": {
          "base_uri": "https://localhost:8080/"
        },
        "id": "_tLQdcIWpoSw",
        "outputId": "c3c4c172-cb9a-41c7-c37f-67492ed10904"
      },
      "execution_count": 9,
      "outputs": [
        {
          "output_type": "stream",
          "name": "stdout",
          "text": [
            "eps: 46.05583450779579, L: 21.964663757839833\n"
          ]
        }
      ]
    },
    {
      "cell_type": "markdown",
      "source": [
        "We can now run the sampler. Let's get 5000 samples."
      ],
      "metadata": {
        "id": "Mhx15A2K8020"
      }
    },
    {
      "cell_type": "code",
      "source": [
        "samples = sampler.sample(5000, remove_burn_in = True)"
      ],
      "metadata": {
        "id": "sucJHLMi0Jfh"
      },
      "execution_count": 11,
      "outputs": []
    },
    {
      "cell_type": "markdown",
      "source": [
        "Some initial samples are removed as part of the burn in. The result is of the shape (num_samples - number of removed samples, len(Target.transform)):"
      ],
      "metadata": {
        "id": "IClcHBm29Oce"
      }
    },
    {
      "cell_type": "code",
      "source": [
        "print(samples.shape)"
      ],
      "metadata": {
        "colab": {
          "base_uri": "https://localhost:8080/"
        },
        "id": "yypd11zL5Cof",
        "outputId": "04f31169-d55a-4648-f396-12bbd392dadd"
      },
      "execution_count": 12,
      "outputs": [
        {
          "output_type": "stream",
          "name": "stdout",
          "text": [
            "(4996, 2)\n"
          ]
        }
      ]
    },
    {
      "cell_type": "markdown",
      "source": [
        "Let's plot the one dimensional marginal distribution along the $x_1$ coordinate."
      ],
      "metadata": {
        "id": "rYNoRRzd9old"
      }
    },
    {
      "cell_type": "code",
      "source": [
        "plt.hist(samples[:, 0], bins = 50, density = True, label = 'MCHMC')\n",
        "\n",
        "from scipy.stats import norm\n",
        "\n",
        "t = jnp.linspace(-4, 4, 100)\n",
        "plt.plot(t, norm.pdf(t), color = 'black', label = 'ground truth')\n",
        "\n",
        "plt.xlabel(r'$x_1$', fontsize = 15)\n",
        "plt.ylabel('density', fontsize = 15)\n",
        "plt.legend(fontsize = 13)\n",
        "plt.show()"
      ],
      "metadata": {
        "colab": {
          "base_uri": "https://localhost:8080/",
          "height": 285
        },
        "id": "FQWghKb41Yvy",
        "outputId": "2c190563-a2b0-476f-bb4f-e9a01da52943"
      },
      "execution_count": 13,
      "outputs": [
        {
          "output_type": "display_data",
          "data": {
            "text/plain": [
              "<Figure size 432x288 with 1 Axes>"
            ],
            "image/png": "[encoded data removed]"
          },
          "metadata": {
            "needs_background": "light"
          }
        }
      ]
    }
  ]
}