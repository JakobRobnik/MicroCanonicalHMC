{
 "cells": [
  {
   "cell_type": "code",
   "execution_count": 1,
   "metadata": {},
   "outputs": [],
   "source": [
    "import sys\n",
    "\n",
    "sys.path.append(\"../\")\n",
    "sys.path.append(\"../../blackjax\")\n",
    "\n",
    "\n",
    "\n",
    "from benchmarks.inference_models import Brownian\n",
    "from benchmarks.sampling_algorithms import adjusted_mclmc, adjusted_mclmc_tuning, nuts\n",
    "from blackjax.diagnostics import effective_sample_size\n",
    "from collections import defaultdict\n",
    "from functools import partial\n",
    "import math\n",
    "import operator\n",
    "import os\n",
    "import pprint\n",
    "from statistics import mean, median\n",
    "import jax\n",
    "import jax.numpy as jnp\n",
    "import pandas as pd\n",
    "import scipy\n",
    "from jax.flatten_util import ravel_pytree\n",
    "from benchmarks.benchmark import benchmark\n",
    "from benchmarks.sampling_algorithms import unadjusted_mclmc\n",
    "from benchmarks.inference_models import Gaussian, Brownian, GermanCredit\n",
    "from matplotlib import pyplot as plt\n",
    "import seaborn as sns\n",
    "import pandas as pd\n",
    "import seaborn as sns\n",
    "from blackjax.adaptation.mclmc_adaptation import MCLMCAdaptationState\n",
    "import blackjax \n"
   ]
  },
  {
   "cell_type": "code",
   "execution_count": 2,
   "metadata": {},
   "outputs": [],
   "source": [
    "os.environ[\"XLA_FLAGS\"] = \"--xla_force_host_platform_device_count=\" + str(128)\n",
    "num_cores = jax.local_device_count()"
   ]
  },
  {
   "cell_type": "code",
   "execution_count": 3,
   "metadata": {},
   "outputs": [],
   "source": [
    "def run_mclmc(logdensity_fn, num_steps, initial_position, key, transform, desired_energy_variance= 5e-4):\n",
    "    init_key, tune_key, run_key = jax.random.split(key, 3)\n",
    "\n",
    "    # create an initial state for the sampler\n",
    "    initial_state = blackjax.mcmc.mclmc.init(\n",
    "        position=initial_position, logdensity_fn=logdensity_fn, rng_key=init_key\n",
    "    )\n",
    "\n",
    "    # build the kernel\n",
    "    kernel = lambda sqrt_diag_cov : blackjax.mcmc.mclmc.build_kernel(\n",
    "        logdensity_fn=logdensity_fn,\n",
    "        integrator=blackjax.mcmc.integrators.isokinetic_mclachlan,\n",
    "        sqrt_diag_cov=sqrt_diag_cov,\n",
    "    )\n",
    "\n",
    "    # find values for L and step_size\n",
    "    (\n",
    "        blackjax_state_after_tuning,\n",
    "        blackjax_mclmc_sampler_params,\n",
    "    ) = blackjax.mclmc_find_L_and_step_size(\n",
    "        mclmc_kernel=kernel,\n",
    "        num_steps=num_steps,\n",
    "        state=initial_state,\n",
    "        rng_key=tune_key,\n",
    "        diagonal_preconditioning=False,\n",
    "        desired_energy_var=desired_energy_variance\n",
    "    )\n",
    "\n",
    "    # use the quick wrapper to build a new kernel with the tuned parameters\n",
    "    sampling_alg = blackjax.mclmc(\n",
    "        logdensity_fn,\n",
    "        L=blackjax_mclmc_sampler_params.L,\n",
    "        step_size=blackjax_mclmc_sampler_params.step_size,\n",
    "\n",
    "    )\n",
    "\n",
    "    jax.debug.print(\"L eps {x}\", x=(blackjax_mclmc_sampler_params.L,blackjax_mclmc_sampler_params.step_size))\n",
    "\n",
    "    # run the sampler\n",
    "    _, samples = blackjax.util.run_inference_algorithm(\n",
    "        rng_key=run_key,\n",
    "        initial_state=blackjax_state_after_tuning,\n",
    "        inference_algorithm=sampling_alg,\n",
    "        num_steps=num_steps,\n",
    "        transform=transform,\n",
    "        progress_bar=False,\n",
    "    )\n",
    "\n",
    "    return samples, blackjax_state_after_tuning, blackjax_mclmc_sampler_params, run_key\n",
    "\n",
    "from blackjax.mcmc.integrators import (\n",
    "\n",
    "    isokinetic_velocity_verlet,\n",
    "    isokinetic_yoshida,\n",
    "    isokinetic_omelyan,\n",
    ")\n",
    "from blackjax.util import run_inference_algorithm\n",
    "from blackjax.mcmc.adjusted_mclmc import rescale\n",
    "\n",
    "def run_adjusted_mclmc(logdensity_fn, num_steps, initial_position, key, transform):\n",
    "    init_key, tune_key, run_key = jax.random.split(key, 3)\n",
    "\n",
    "\n",
    "    # num_steps_per_traj = L / step_size\n",
    "\n",
    "    integration_steps_fn = lambda avg_num_integration_steps: lambda k: jnp.ceil(\n",
    "            jax.random.uniform(k) * rescale(avg_num_integration_steps))\n",
    "\n",
    "    kernel = lambda rng_key, state, avg_num_integration_steps, step_size, sqrt_diag_cov: blackjax.mcmc.adjusted_mclmc.build_kernel(\n",
    "        integrator=isokinetic_velocity_verlet,\n",
    "        integration_steps_fn=integration_steps_fn(avg_num_integration_steps),\n",
    "        sqrt_diag_cov=sqrt_diag_cov,\n",
    "        )(\n",
    "            rng_key=rng_key,\n",
    "            state=state,\n",
    "            step_size=step_size,\n",
    "            logdensity_fn=logdensity_fn,\n",
    "            L_proposal_factor=jnp.inf,\n",
    "        )\n",
    "\n",
    "\n",
    "    target_acc_rate = 0.65\n",
    "\n",
    "\n",
    "\n",
    "    initial_state = blackjax.mcmc.adjusted_mclmc.init(\n",
    "        position=initial_position,\n",
    "        logdensity_fn=logdensity_fn,\n",
    "        random_generator_arg=init_key,\n",
    "    )\n",
    "\n",
    "    \n",
    "\n",
    "    \n",
    "\n",
    "    logdensity_grad_fn = jax.grad(logdensity_fn)\n",
    "\n",
    "    (\n",
    "        blackjax_state_after_tuning,\n",
    "        blackjax_mclmc_sampler_params,\n",
    "        \n",
    "    ) = blackjax.adjusted_mclmc_find_L_and_step_size(\n",
    "        mclmc_kernel=kernel,\n",
    "        num_steps=num_steps,\n",
    "        state=initial_state,\n",
    "        rng_key=tune_key,\n",
    "        target=target_acc_rate,\n",
    "        frac_tune1=0.1,\n",
    "        frac_tune2=0.1,\n",
    "        frac_tune3=0.1,\n",
    "        diagonal_preconditioning=False,\n",
    "        params=None,\n",
    "        max='max',\n",
    "        num_windows=1,\n",
    "        tuning_factor=1.3,\n",
    "        logdensity_grad_fn=logdensity_grad_fn,\n",
    "    )\n",
    "\n",
    "    #  TODO correct this\n",
    "    L=25\n",
    "    step_size=20\n",
    "    \n",
    "\n",
    "    num_steps_per_traj = L / step_size\n",
    "    integration_steps_fn = lambda k: jnp.ceil(jax.random.uniform(k) * rescale(num_steps_per_traj))\n",
    "    \n",
    "    alg = blackjax.adjusted_mclmc(\n",
    "        logdensity_fn=logdensity_fn,\n",
    "        step_size=step_size,\n",
    "        integration_steps_fn=integration_steps_fn,\n",
    "        integrator= isokinetic_velocity_verlet,\n",
    "        sqrt_diag_cov=1.0,\n",
    "        L_proposal_factor=jnp.inf,\n",
    "    )\n",
    "\n",
    "    return run_inference_algorithm(\n",
    "        rng_key=run_key,\n",
    "        initial_state=blackjax_state_after_tuning,\n",
    "        inference_algorithm=alg,\n",
    "        num_steps=num_steps,\n",
    "        transform=transform,\n",
    "        progress_bar=False,\n",
    "    )[1]\n",
    "\n"
   ]
  },
  {
   "cell_type": "code",
   "execution_count": 81,
   "metadata": {},
   "outputs": [
    {
     "name": "stdout",
     "output_type": "stream",
     "text": [
      "L eps (Array(5.175614, dtype=float32), Array(0.33974722, dtype=float32))\n"
     ]
    }
   ],
   "source": [
    "model = Brownian()\n",
    "# model = Gaussian(10)\n",
    "num_steps = 10000\n",
    "num_chains = 1\n",
    "\n",
    "init_key, run_key, resample_key = jax.random.split(jax.random.PRNGKey(2), 3)\n",
    "run_keys = jax.random.split(run_key, num_chains)\n",
    "init_keys = jax.random.split(init_key, num_chains)\n",
    "positions = jax.pmap(model.sample_init)(init_keys)\n",
    "\n",
    "(unadjusted_samples, energy_change), _, _, _ = jax.pmap(lambda k, p: \n",
    "run_mclmc(\n",
    "    logdensity_fn=model.logdensity_fn, \n",
    "    num_steps=num_steps, \n",
    "    initial_position=p, \n",
    "    key=k,\n",
    "    transform=lambda x, info: (model.transform(x.position), info.energy_change),\n",
    "))(run_keys, positions)\n",
    "\n"
   ]
  },
  {
   "cell_type": "code",
   "execution_count": 82,
   "metadata": {},
   "outputs": [
    {
     "data": {
      "text/plain": [
       "<Axes: >"
      ]
     },
     "execution_count": 82,
     "metadata": {},
     "output_type": "execute_result"
    },
    {
     "data": {
      "image/png": "[encoded data removed]",
      "text/plain": [
       "<Figure size 640x480 with 1 Axes>"
      ]
     },
     "metadata": {},
     "output_type": "display_data"
    }
   ],
   "source": [
    "energy_change = jnp.clip(energy_change, min=-5, max=5)\n",
    "# plt.hist(energy_change[0], bins=100, density=True)\n",
    "# plt.show()\n",
    "sns.lineplot(energy_change[0])\n",
    "# energy_change"
   ]
  },
  {
   "cell_type": "code",
   "execution_count": 87,
   "metadata": {},
   "outputs": [],
   "source": [
    "from benchmarks.metrics import calculate_ess, cumulative_avg\n",
    "from benchmarks.sampling_algorithms import calls_per_integrator_step\n",
    "import numpy as np\n",
    "\n",
    "def cumulative_avg_with_weights(samples,weights):\n",
    "    print(weights.shape)\n",
    "    return jnp.cumsum(samples*weights, axis=0) / jnp.expand_dims((weights),1)\n",
    "\n",
    "def ess_calculation(samples, energy_change):\n",
    "\n",
    "    weights = jnp.expand_dims(jnp.exp(-jnp.cumsum(energy_change)),1)\n",
    "\n",
    "    ## batch approach\n",
    "    # indices = jax.pmap(lambda k, e: jax.random.categorical(key=k, logits=-jnp.cumsum(e), shape=(num_steps,)))(keys, energy_change)\n",
    "    # resamples = np.zeros_like(unadjusted_samples)\n",
    "    # for i in range(indices.shape[0]):\n",
    "    #     resamples[i] = samples[i, indices[i], :]\n",
    "\n",
    "    indices = jax.random.categorical(key=resample_key, logits=-jnp.cumsum(energy_change), shape=(num_steps,))\n",
    "    jax.debug.print(\"indices, {x}\", x=indices)\n",
    "    print(indices.shape)\n",
    "    resamples = samples[0][indices]\n",
    "    # print(resamples.shape)\n",
    "\n",
    "\n",
    "    def get_ess(samples, label, weights=None):\n",
    "\n",
    "        # bias = jax.pmap(lambda s: (((cumulative_avg( s**2) - model.E_x2)**2)/model.Var_x2))(samples)\n",
    "        \n",
    "        if weights is not None:\n",
    "            bias = (((cumulative_avg_with_weights(samples**2, weights) - model.E_x2)**2)/model.Var_x2)\n",
    "        else:\n",
    "            bias = (((cumulative_avg(samples**2) - model.E_x2)**2)/model.Var_x2)\n",
    "        # print((jax.pmap(lambda s: (((cumulative_avg( s**2) - model.E_x2))**2))(samples)/model.Var_x2).mean(axis=[0,-1]))\n",
    "        meanbias = jnp.mean(bias, axis=-1) # mean over dimensions\n",
    "        # meanbias = jnp.mean(meanbias, axis=0) # mean over chains\n",
    "        jax.debug.print(\"meanbias {x}\", x=meanbias)\n",
    "\n",
    "        sns.lineplot(meanbias[500:], label=label)\n",
    "\n",
    "        grad_evals_per_step = calls_per_integrator_step('mclachlan')\n",
    "        ess, _, _ = calculate_ess(meanbias, grad_evals_per_step=grad_evals_per_step, num_tuning_steps=0)\n",
    "        return ess\n",
    "\n",
    "    ess = get_ess(samples[0], \"unweighted\")\n",
    "    ess_weighted = get_ess(samples[0], \"weighted\", weights=weights)\n",
    "    ess_resampled = get_ess(resamples, \"resampled\")\n",
    "    plt.show()\n",
    "    return ess, ess_resampled, ess_weighted, samples, resamples, weights\n"
   ]
  },
  {
   "cell_type": "code",
   "execution_count": 88,
   "metadata": {},
   "outputs": [
    {
     "name": "stdout",
     "output_type": "stream",
     "text": [
      "indices, [118  94 120 ... 200  46 389]\n",
      "(10000,)\n",
      "meanbias [0.3914457  0.342578   0.25764298 ... 0.00178005 0.00177933 0.00177744]\n",
      "(10000, 1)\n"
     ]
    }
   ],
   "source": [
    "ess, ess_resampled, ess_weighted,  samples, resamples, weights = ess_calculation(samples=unadjusted_samples, energy_change=energy_change)\n",
    "(ess, ess_resampled, ess_weighted)"
   ]
  },
  {
   "cell_type": "code",
   "execution_count": 43,
   "metadata": {},
   "outputs": [
    {
     "data": {
      "text/plain": [
       "Array([[0.9163643 ],\n",
       "       [0.91194946],\n",
       "       [0.9624393 ],\n",
       "       ...,\n",
       "       [0.        ],\n",
       "       [0.        ],\n",
       "       [0.        ]], dtype=float32)"
      ]
     },
     "execution_count": 43,
     "metadata": {},
     "output_type": "execute_result"
    }
   ],
   "source": [
    " "
   ]
  },
  {
   "cell_type": "code",
   "execution_count": 22,
   "metadata": {},
   "outputs": [
    {
     "data": {
      "image/png": "[encoded data removed]",
      "text/plain": [
       "<Figure size 640x480 with 1 Axes>"
      ]
     },
     "metadata": {},
     "output_type": "display_data"
    },
    {
     "data": {
      "text/plain": [
       "(1, 10)"
      ]
     },
     "execution_count": 22,
     "metadata": {},
     "output_type": "execute_result"
    }
   ],
   "source": [
    "plt.hist(samples[0,:,0], bins=100, density=True, alpha=0.5, label=\"unweighted\")\n",
    "plt.hist(resamples[:,0], bins=100, density=True, label='resampled', alpha=0.5)\n",
    "plt.hist(samples[0,:,0], bins=100, density=True, alpha=0.5, weights=weights[:,0], label=\"weighted\")\n",
    "x = jnp.linspace(-5, 5, 100)\n",
    "sns.lineplot(x=x, y=jax.scipy.stats.norm.pdf(x, loc=0, scale=1), color='black')\n",
    "plt.show()\n",
    "\n",
    "samples[:,0].shape\n",
    "\n"
   ]
  },
  {
   "cell_type": "code",
   "execution_count": null,
   "metadata": {},
   "outputs": [],
   "source": []
  }
 ],
 "metadata": {
  "kernelspec": {
   "display_name": "mclmc",
   "language": "python",
   "name": "python3"
  },
  "language_info": {
   "codemirror_mode": {
    "name": "ipython",
    "version": 3
   },
   "file_extension": ".py",
   "mimetype": "text/x-python",
   "name": "python",
   "nbconvert_exporter": "python",
   "pygments_lexer": "ipython3",
   "version": "3.11.5"
  }
 },
 "nbformat": 4,
 "nbformat_minor": 2
}
