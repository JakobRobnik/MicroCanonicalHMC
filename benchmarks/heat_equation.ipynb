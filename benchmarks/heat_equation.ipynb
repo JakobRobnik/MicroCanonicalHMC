{
 "cells": [
  {
   "cell_type": "code",
   "execution_count": 1,
   "id": "18ac169a",
   "metadata": {
    "tags": []
   },
   "outputs": [
    {
     "ename": "ModuleNotFoundError",
     "evalue": "No module named 'numpyro'",
     "output_type": "error",
     "traceback": [
      "\u001b[0;31m---------------------------------------------------------------------------\u001b[0m",
      "\u001b[0;31mModuleNotFoundError\u001b[0m                       Traceback (most recent call last)",
      "\u001b[1;32m/global/homes/r/reubenh/MicroCanonicalHMC/benchmarks/heat_equation.ipynb Cell 1\u001b[0m line \u001b[0;36m7\n\u001b[1;32m      <a href='vscode-notebook-cell://ssh-remote%2Bperlmutter-p1.nersc.gov/global/homes/r/reubenh/MicroCanonicalHMC/benchmarks/heat_equation.ipynb#W0sdnNjb2RlLXJlbW90ZQ%3D%3D?line=4'>5</a>\u001b[0m \u001b[39mimport\u001b[39;00m \u001b[39mjax\u001b[39;00m\n\u001b[1;32m      <a href='vscode-notebook-cell://ssh-remote%2Bperlmutter-p1.nersc.gov/global/homes/r/reubenh/MicroCanonicalHMC/benchmarks/heat_equation.ipynb#W0sdnNjb2RlLXJlbW90ZQ%3D%3D?line=5'>6</a>\u001b[0m \u001b[39mimport\u001b[39;00m \u001b[39mjax\u001b[39;00m\u001b[39m.\u001b[39;00m\u001b[39mnumpy\u001b[39;00m \u001b[39mas\u001b[39;00m \u001b[39mjnp\u001b[39;00m\n\u001b[0;32m----> <a href='vscode-notebook-cell://ssh-remote%2Bperlmutter-p1.nersc.gov/global/homes/r/reubenh/MicroCanonicalHMC/benchmarks/heat_equation.ipynb#W0sdnNjb2RlLXJlbW90ZQ%3D%3D?line=6'>7</a>\u001b[0m \u001b[39mimport\u001b[39;00m \u001b[39mnumpyro\u001b[39;00m\n\u001b[1;32m      <a href='vscode-notebook-cell://ssh-remote%2Bperlmutter-p1.nersc.gov/global/homes/r/reubenh/MicroCanonicalHMC/benchmarks/heat_equation.ipynb#W0sdnNjb2RlLXJlbW90ZQ%3D%3D?line=7'>8</a>\u001b[0m \u001b[39mfrom\u001b[39;00m \u001b[39mnumpyro\u001b[39;00m \u001b[39mimport\u001b[39;00m handlers\n\u001b[1;32m      <a href='vscode-notebook-cell://ssh-remote%2Bperlmutter-p1.nersc.gov/global/homes/r/reubenh/MicroCanonicalHMC/benchmarks/heat_equation.ipynb#W0sdnNjb2RlLXJlbW90ZQ%3D%3D?line=8'>9</a>\u001b[0m \u001b[39mimport\u001b[39;00m \u001b[39mnumpyro\u001b[39;00m\u001b[39m.\u001b[39;00m\u001b[39mdistributions\u001b[39;00m \u001b[39mas\u001b[39;00m \u001b[39mdist\u001b[39;00m\n",
      "\u001b[0;31mModuleNotFoundError\u001b[0m: No module named 'numpyro'"
     ]
    }
   ],
   "source": [
    "import os\n",
    "\n",
    "import time\n",
    "\n",
    "import jax\n",
    "import jax.numpy as jnp\n",
    "import numpyro\n",
    "from numpyro import handlers\n",
    "import numpyro.distributions as dist\n",
    "from numpyro.infer import MCMC, NUTS, init_to_value\n",
    "\n",
    "import numpy as np\n",
    "from scipy.linalg import eigh\n",
    "\n",
    "import pickle\n",
    "\n",
    "import matplotlib.pyplot as plt\n",
    "import seaborn as sns\n",
    "import equinox\n",
    "\n",
    "import pandas as pd\n",
    "\n",
    "from jax import config\n",
    "config.update(\"jax_enable_x64\", False)"
   ]
  },
  {
   "cell_type": "code",
   "execution_count": 2,
   "id": "1bd27187-e6ab-4456-9390-2e6535d0a2b6",
   "metadata": {
    "tags": []
   },
   "outputs": [
    {
     "data": {
      "text/plain": [
       "[cuda(id=0), cuda(id=1), cuda(id=2), cuda(id=3)]"
      ]
     },
     "execution_count": 2,
     "metadata": {},
     "output_type": "execute_result"
    }
   ],
   "source": [
    "jax.devices()"
   ]
  },
  {
   "cell_type": "markdown",
   "id": "851bd31c-892e-4373-ab3a-651a522d314c",
   "metadata": {},
   "source": [
    "Heat equation is solved using the FDM method. Code for solving the heat equation has been adapted from: https://github.com/inductiva/blog_code_snippets"
   ]
  },
  {
   "cell_type": "code",
   "execution_count": 3,
   "id": "6fbc48e9",
   "metadata": {
    "tags": []
   },
   "outputs": [],
   "source": [
    "def compute_dimension_delta(dimension_range, dimension_num_points):\n",
    "    \"\"\"Computes the interval between points for a given dimension.\n",
    "\n",
    "    Args:\n",
    "        dimension_range: domain extension in the dimension considered\n",
    "        dimension_num_points: number of points used in the regular\n",
    "        discretization of the dimension considered\n",
    "\n",
    "    Returns:\n",
    "        Interval between points in the provided dimension\n",
    "    \"\"\"\n",
    "\n",
    "    delta = dimension_range / (dimension_num_points - 1)\n",
    "    return delta"
   ]
  },
  {
   "cell_type": "code",
   "execution_count": 4,
   "id": "cb90979e",
   "metadata": {
    "tags": []
   },
   "outputs": [],
   "source": [
    "def compute_fdm_stability_constants(diff_coef, delta_t, delta_x, delta_y):\n",
    "    \"\"\"Computes FDM stability constants for the chosen sampling\n",
    "\n",
    "    Args:\n",
    "        diff_coef: diffusion coefficient of the heat PDE\n",
    "        delta_t: interval between timesteps considered\n",
    "        delta_x: interval between spatial points along the x-axis\n",
    "        delta_y: interval between spatial points along the y-axis\n",
    "\n",
    "    Returns:\n",
    "        Stability constants of the instance provided if it is stable. Otherwise,\n",
    "        raises an Exception.\n",
    "    \"\"\"\n",
    "\n",
    "    alpha = diff_coef * delta_t / delta_x ** 2\n",
    "    beta = diff_coef * delta_t / delta_y ** 2\n",
    "\n",
    "    return alpha, beta"
   ]
  },
  {
   "cell_type": "code",
   "execution_count": 5,
   "id": "fdcc79cb",
   "metadata": {
    "tags": []
   },
   "outputs": [],
   "source": [
    "def fdm_is_unstable(alpha, beta):\n",
    "    \"\"\"Checks if the FDM stability condition is not verified.\n",
    "\n",
    "    The stability of this method is guaranteed if alpha + beta <= 0.5\n",
    "    (see analysis for the 2D Heat PDE:\n",
    "    https://www.uni-muenster.de/imperia/md/content/physik_tp/lectures/ws2016-2017/num_methods_i/heat.pdf\n",
    "    - pages 11/12)\n",
    "\n",
    "    Args:\n",
    "        alpha: fdm stability constant referent to the x-axis\n",
    "        beta: fdm stability constant referent to the y-axis\n",
    "\n",
    "    Returns:\n",
    "        Boolean that answers if the FDM stability condition is not verified for\n",
    "        the FDM stability constants provided\n",
    "    \"\"\"\n",
    "\n",
    "    return alpha + beta > .5"
   ]
  },
  {
   "cell_type": "code",
   "execution_count": 6,
   "id": "3749eec4",
   "metadata": {
    "tags": []
   },
   "outputs": [],
   "source": [
    "def initialize_plate(num_x_points, num_y_points):\n",
    "    \"\"\"Initializes the plate where we'll observe heat diffusion\n",
    "\n",
    "    Args:\n",
    "        num_x_points: Number of points to be considered in the x-axis\n",
    "        num_y_points: Number of points to be considered in the y-axis\n",
    "\n",
    "    Returns:\n",
    "        Matrix with shape (num_x_points, num_y_points)\n",
    "    \"\"\"\n",
    "\n",
    "    return np.empty((num_x_points, num_y_points))"
   ]
  },
  {
   "cell_type": "code",
   "execution_count": 7,
   "id": "76e869db",
   "metadata": {
    "tags": []
   },
   "outputs": [],
   "source": [
    "def set_initial_conditions(u, initial_temp):\n",
    "    \"\"\"Sets the initial condition in the whole plate\n",
    "\n",
    "    Args:\n",
    "        u: Plate where we are going to impose the initial condition\n",
    "        initial_temp: Temperature of the initial points (imposed by the initial\n",
    "        condition)\n",
    "\n",
    "    Returns:\n",
    "        Matrix filled with the initial points temperature in every point\n",
    "    \"\"\"\n",
    "\n",
    "    #u.fill(initial_temp)\n",
    "    u = jax.random.normal(jax.random.PRNGKey(0), u.shape)\n",
    "    u = np.asarray(u)\n",
    "    \n",
    "    return np.copy(u)"
   ]
  },
  {
   "cell_type": "code",
   "execution_count": 8,
   "id": "8a701905",
   "metadata": {
    "tags": []
   },
   "outputs": [],
   "source": [
    "def set_canonical_boundary_conditions(u, hot_temp, cold_temp):\n",
    "    \"\"\"Sets the canonical boundary conditions for the setting considered\n",
    "\n",
    "    Args:\n",
    "        u: Plate where we are going to impose the boundary conditions\n",
    "        hot_temp: Temperature of the hot edge of the plate\n",
    "        cold_temp: Temperature of the cold edges of the plate\n",
    "\n",
    "    Returns:\n",
    "        Matrix filled with the boundary conditions imposed\n",
    "    \"\"\"\n",
    "\n",
    "    u = u.at[:, 0].set(cold_temp)\n",
    "    u = u.at[0, :].set(cold_temp)\n",
    "    u = u.at[:, -1].set(cold_temp)\n",
    "    u = u.at[-1, :].set(hot_temp)\n",
    "\n",
    "    return u"
   ]
  },
  {
   "cell_type": "code",
   "execution_count": 9,
   "id": "4740f878",
   "metadata": {
    "tags": []
   },
   "outputs": [],
   "source": [
    "@jax.jit\n",
    "def fdm_advance_time_jax(u, alpha, beta):\n",
    "    \"\"\"Advances the simulation by one timestep, via FDM using JAX\n",
    "\n",
    "    Args:\n",
    "        u: grid state at instant i\n",
    "        alpha: fdm stability constant referent to the x-axis\n",
    "        beta: fdm stability constant referent to the y-axis\n",
    "\n",
    "    Returns:\n",
    "        Grid state at instant i+1\n",
    "    \"\"\"\n",
    "\n",
    "    # Vectorized FDM\n",
    "    next_u = jnp.array(u)\n",
    "\n",
    "    # compute u(y,x) for the next instant t_{i+1}, using FDM\n",
    "    vectorized_forward_step = alpha * (jnp.roll(u, 1, axis=0) +\n",
    "                                        jnp.roll(u, -1, axis=0)) + \\\n",
    "                                beta * (jnp.roll(u, 1, axis=1) +\n",
    "                                        jnp.roll(u, -1, axis=1)) + \\\n",
    "                                (1 - 2 * alpha - 2 * beta) * u\n",
    "    next_u = next_u.at[1:-1, 1:-1].set(vectorized_forward_step[1:-1, 1:-1])\n",
    "\n",
    "    return next_u"
   ]
  },
  {
   "cell_type": "markdown",
   "id": "d34c1435",
   "metadata": {},
   "source": [
    "# Karhunen-Loeve fun"
   ]
  },
  {
   "cell_type": "code",
   "execution_count": 10,
   "id": "a63110a4",
   "metadata": {
    "tags": []
   },
   "outputs": [],
   "source": [
    "# Diffusion coefficient of the heat PDE.\n",
    "diff_coef = 0.5\n",
    "# Plate_length. Side length of the considered plate.\n",
    "plate_length = 10.0\n",
    "# Duration of the simulation \n",
    "t_final = 1.0\n",
    "# Temperature of the hot edge of the plate.\n",
    "hot_edge_temp = 0.\n",
    "# Temperature of the cold edge of the plate.\n",
    "cold_edge_temp = 0.\n",
    "# Number of timeframes\n",
    "num_timeframes = 1000\n",
    "# Number x and y points in FDM.\n",
    "n_quad = 64\n",
    "# Pooling size\n",
    "n_pool = 8\n",
    "# Pooling stride\n",
    "stride = 8"
   ]
  },
  {
   "cell_type": "code",
   "execution_count": 11,
   "id": "9ac66aec",
   "metadata": {
    "tags": []
   },
   "outputs": [],
   "source": [
    "def distance_matrix(x, y):\n",
    "    return jnp.sqrt(jnp.sum(jnp.abs(x[:, jnp.newaxis, :] - y[jnp.newaxis, :, :]) ** 2, axis=-1))\n",
    "\n",
    "\n",
    "class SquaredExponential:\n",
    "    def __init__(self, coords, mkl, lamb):\n",
    "        \"\"\"\n",
    "        This class sets up a random process\n",
    "        on a grid and generates\n",
    "        a realisation of the process, given\n",
    "        parameters or a random vector.\n",
    "        \"\"\"\n",
    "\n",
    "        # Internalise the grid and set number of vertices.\n",
    "        self.coords = coords\n",
    "        self.n_points = self.coords.shape[0]\n",
    "        self.eigenvalues = None\n",
    "        self.eigenvectors = None\n",
    "        self.parameters = None\n",
    "        self.random_field = None\n",
    "\n",
    "        # Set some random field parameters.\n",
    "        self.mkl = mkl\n",
    "        self.lamb = lamb\n",
    "\n",
    "        self.assemble_covariance_matrix()\n",
    "\n",
    "    def assemble_covariance_matrix(self):\n",
    "        \"\"\"\n",
    "        Create a snazzy distance-matrix for rapid\n",
    "        computation of the covariance matrix.\n",
    "        \"\"\"\n",
    "        dist = distance_matrix(self.coords, self.coords)\n",
    "\n",
    "        # Compute the covariance between all\n",
    "        # points in the space.\n",
    "        self.cov = jnp.exp(-0.5 * dist**2 / self.lamb**2)\n",
    "\n",
    "    def plot_covariance_matrix(self):\n",
    "        \"\"\"\n",
    "        Plot the covariance matrix.\n",
    "        \"\"\"\n",
    "        plt.figure(figsize=(10, 8))\n",
    "        plt.imshow(self.cov, cmap=\"binary\")\n",
    "        plt.colorbar()\n",
    "        plt.show()\n",
    "\n",
    "    def compute_eigenpairs(self):\n",
    "        \"\"\"\n",
    "        Find eigenvalues and eigenvectors using Arnoldi iteration.\n",
    "        \"\"\"\n",
    "        eigvals, eigvecs = eigh(self.cov, eigvals=(self.n_points - self.mkl, self.n_points - 1))\n",
    "\n",
    "        order = jnp.flip(jnp.argsort(eigvals))\n",
    "        self.eigenvalues = jnp.asarray(eigvals[order])\n",
    "        self.eigenvectors = jnp.asarray(eigvecs[:, order])\n",
    "\n",
    "    def generate(self, parameters=None, key=None):\n",
    "        \"\"\"\n",
    "        Generate a random field, see\n",
    "        Scarth, C., Adhikari, S., Cabral, P. H.,\n",
    "        Silva, G. H. C., & Prado, A. P. do. (2019).\n",
    "        Random field simulation over curved surfaces:\n",
    "        Applications to computational structural mechanics.\n",
    "        Computer Methods in Applied Mechanics and Engineering,\n",
    "        345, 283–301. https://doi.org/10.1016/j.cma.2018.10.026\n",
    "        \"\"\"\n",
    "\n",
    "        if parameters is None:\n",
    "            if key is None:\n",
    "                key = jax.random.PRNGKey(0)\n",
    "            self.parameters = jax.random.normal(key, shape=(self.mkl,))\n",
    "        else:\n",
    "            self.parameters = jnp.array(parameters).flatten()\n",
    "\n",
    "        self.random_field = jnp.linalg.multi_dot(\n",
    "            (self.eigenvectors, jnp.sqrt(jnp.diag(self.eigenvalues)), self.parameters)\n",
    "        )\n",
    "\n",
    "    def plot(self, lognormal=True):\n",
    "        \"\"\"\n",
    "        Plot the random field.\n",
    "        \"\"\"\n",
    "\n",
    "        if lognormal:\n",
    "            random_field = self.random_field\n",
    "            contour_levels = jnp.linspace(min(random_field), max(random_field), 20)\n",
    "        else:\n",
    "            random_field = jnp.exp(self.random_field)\n",
    "            contour_levels = jnp.linspace(min(random_field), max(random_field), 20)\n",
    "\n",
    "        plt.figure(figsize=(12, 10))\n",
    "        plt.tricontourf(\n",
    "            self.coords[:, 0],\n",
    "            self.coords[:, 1],\n",
    "            random_field,\n",
    "            levels=contour_levels,\n",
    "            cmap=\"plasma\",\n",
    "        )\n",
    "        plt.colorbar()\n",
    "        plt.show()\n",
    "\n",
    "\n",
    "class Matern52(SquaredExponential):\n",
    "    def assemble_covariance_matrix(self):\n",
    "        \"\"\"\n",
    "        This class inherits from RandomProcess and creates a Matern 5/2 covariance matrix.\n",
    "        \"\"\"\n",
    "\n",
    "        # Compute scaled distances.\n",
    "        dist = jnp.sqrt(5.0) * distance_matrix(self.coords, self.coords) / self.lamb\n",
    "\n",
    "        # Set up Matern 5/2 covariance matrix.\n",
    "        self.cov = (1 + dist + dist**2 / 3) * jnp.exp(-dist)"
   ]
  },
  {
   "cell_type": "code",
   "execution_count": 12,
   "id": "a9d291d4",
   "metadata": {
    "tags": []
   },
   "outputs": [
    {
     "data": {
      "text/plain": [
       "<PjitFunction of <function heat_solver at 0x7f6897001ea0>>"
      ]
     },
     "execution_count": 12,
     "metadata": {},
     "output_type": "execute_result"
    }
   ],
   "source": [
    "def heat_body_fn(i, val):\n",
    "    u, alpha, beta = val\n",
    "    u = fdm_advance_time_jax(u, alpha, beta)\n",
    "    return (u, alpha, beta)\n",
    "\n",
    "def heat_solver(u, alpha, beta, delta_t, num_timeframes):\n",
    "    \"\"\"Runs the numerical simulation throughout time\n",
    "\n",
    "    Args:\n",
    "        u: initial state of the grid where the fdm is going to run\n",
    "        alpha: fdm stability constant referent to the x-axis\n",
    "        beta: fdm stability constant referent to the y-axis\n",
    "        delta_t: time interval between fdm iterations\n",
    "        num_timeframes: number of fdm iterations\n",
    "    Returns:\n",
    "        Final temperature field.\n",
    "    \"\"\"\n",
    "    u = jax.lax.fori_loop(0, num_timeframes, heat_body_fn, (u, alpha, beta))[0]\n",
    "    return u\n",
    "\n",
    "jax.jit(heat_solver, static_argnums=(4,))"
   ]
  },
  {
   "cell_type": "code",
   "execution_count": 13,
   "id": "e838f3c6",
   "metadata": {
    "tags": []
   },
   "outputs": [],
   "source": [
    "class Heat:\n",
    "    \"\"\"\n",
    "    Class for heat equation inverse problem involving initial temperature field and diffusivity.\n",
    "    \"\"\"\n",
    "\n",
    "    def __init__(self, \n",
    "                 u_function: callable, \n",
    "                 diff_coef: float, \n",
    "                 n_quad: int, \n",
    "                 n_pool: int, \n",
    "                 stride: int,\n",
    "                 num_timeframes: int = num_timeframes,\n",
    "                 plate_length: float = plate_length,\n",
    "                 hot_edge_temp: float = hot_edge_temp,\n",
    "                 cold_edge_temp: float = cold_edge_temp,\n",
    "                 t_final: float = t_final\n",
    "                 ):\n",
    "\n",
    "        # Set the function describing the distribution of subsurface density.\n",
    "        self.u_function = u_function\n",
    "\n",
    "        # Diffusivity constant for heat equation.\n",
    "        self.diff_coef = diff_coef\n",
    "\n",
    "        # Set the quadrature degree along one dimension.\n",
    "        self.n_quad = n_quad\n",
    "        \n",
    "        # Set the quadrature points.\n",
    "        x = jnp.linspace(0, 1, self.n_quad + 1)\n",
    "        self.tx = (x[1:] + x[:-1]) / 2\n",
    "        y = jnp.linspace(0, 1, self.n_quad + 1)\n",
    "        self.ty = (y[1:] + y[:-1]) / 2\n",
    "        TX, TY = jnp.meshgrid(self.tx, self.ty)\n",
    "\n",
    "        # Size of pooling kernel along one axis.\n",
    "        self.n_pool = n_pool\n",
    "        \n",
    "        # Stride of the pooling kernel.\n",
    "        self.stride = stride\n",
    "        \n",
    "        # Stride of pooling kernel.\n",
    "        self.pool = equinox.nn.AvgPool2d(kernel_size=(self.n_pool, self.n_pool), stride=self.stride)\n",
    "        \n",
    "        # Solver parameters\n",
    "        self.num_timeframes = num_timeframes\n",
    "        self.plate_length = plate_length\n",
    "        self.hot_edge_temp = hot_edge_temp\n",
    "        self.cold_edge_temp = cold_edge_temp\n",
    "        self.t_final = t_final\n",
    "\n",
    "        # Evaluate the initial temperature field.\n",
    "        self.u_initial = self.u_function(TX, TY)\n",
    "        \n",
    "        # Compute spatial grid spacings, time step and relevant problem variables\n",
    "        self.delta_t = compute_dimension_delta(self.t_final, self.num_timeframes)\n",
    "        self.delta_x = compute_dimension_delta(self.plate_length, self.n_quad)\n",
    "        self.delta_y = compute_dimension_delta(self.plate_length, self.n_quad)\n",
    "\n",
    "        # Check and compute FDM stability constants for the instance provided\n",
    "        self.alpha, self.beta = compute_fdm_stability_constants(self.diff_coef, \n",
    "                                                                self.delta_t, \n",
    "                                                                self.delta_x, \n",
    "                                                                self.delta_y)\n",
    "\n",
    "        if fdm_is_unstable(self.alpha, self.beta):\n",
    "            raise Exception(\n",
    "                f\"Stability not guaranteed (alpha + beta > 0.5): alpha = {self.alpha},\"\n",
    "                f\"beta = {self.beta}\")\n",
    "        print(f\"Stability guaranteed: alpha = {self.alpha}; beta = {self.beta}\")\n",
    "\n",
    "        # Set canonical boundary conditions.\n",
    "        self.u_initial = set_canonical_boundary_conditions(self.u_initial,\n",
    "                                                           self.hot_edge_temp,\n",
    "                                                           self.cold_edge_temp)\n",
    "\n",
    "        # Compute the temperature field at t_final\n",
    "        self.u_final = heat_solver(self.u_initial, self.alpha, self.beta, self.delta_t, self.num_timeframes)\n",
    "        \n",
    "        # Generate noiseless signal\n",
    "        self.g = self.pool(self.u_final[None, :, :])[0, :, :]\n",
    "\n",
    "    def plot_model(self):\n",
    "\n",
    "        # Plot the density and the signal.\n",
    "        fig, axes = plt.subplots(1, 2, figsize=(16, 6))\n",
    "        axes[0].set_title(\"Initial temperature field\")\n",
    "        f = axes[0].imshow(\n",
    "            self.u_initial,\n",
    "            extent=(0, 1, 0, 1),\n",
    "            origin=\"lower\",\n",
    "            cmap=\"icefire\",\n",
    "        )\n",
    "        fig.colorbar(f, ax=axes[0])\n",
    "        axes[1].set_title(\"Signal temperature field\")\n",
    "        g = axes[1].imshow(\n",
    "            self.g,\n",
    "            extent=(0, 1, 0, 1),\n",
    "            origin=\"lower\",\n",
    "            cmap=\"icefire\"\n",
    "        )\n",
    "        fig.colorbar(g, ax=axes[1])\n",
    "        plt.show()\n",
    "\n",
    "    def plot_kernel(self):\n",
    "\n",
    "        # Plot the kernel.\n",
    "        plt.figure(figsize=(8, 6))\n",
    "        plt.imshow(self.K, cmap=\"plasma\")\n",
    "        plt.colorbar()\n",
    "        plt.show()"
   ]
  },
  {
   "cell_type": "code",
   "execution_count": 14,
   "id": "a6e3b3fb",
   "metadata": {
    "tags": []
   },
   "outputs": [
    {
     "name": "stderr",
     "output_type": "stream",
     "text": [
      "/tmp/ipykernel_116077/191944427.py:52: DeprecationWarning: Keyword argument 'eigvals' is deprecated in favour of 'subset_by_index' keyword instead and will be removed in SciPy 1.12.0.\n",
      "  eigvals, eigvecs = eigh(self.cov, eigvals=(self.n_points - self.mkl, self.n_points - 1))\n"
     ]
    }
   ],
   "source": [
    "x = jnp.linspace(0, 1, n_quad + 1)\n",
    "tx = (x[1:] + x[:-1]) / 2\n",
    "y = jnp.linspace(0, 1, n_quad + 1)\n",
    "ty = (y[1:] + y[:-1]) / 2\n",
    "TX, TY = jnp.meshgrid(tx, ty)\n",
    "T_coords = jnp.c_[TX.ravel(), TY.ravel(), np.zeros(n_quad ** 2)]\n",
    "\n",
    "kxx = SquaredExponential(T_coords, 200, 0.1)\n",
    "kxx.compute_eigenpairs()"
   ]
  },
  {
   "cell_type": "code",
   "execution_count": 15,
   "id": "3548c5fb",
   "metadata": {
    "tags": []
   },
   "outputs": [],
   "source": [
    "theta = jax.random.normal(jax.random.PRNGKey(1929), shape=(200,))\n",
    "#kxx.generate(theta)\n",
    "\n",
    "@jax.jit\n",
    "def jit_gen(theta, eigenvalues, eigenvectors):\n",
    "    parameters = jnp.array(theta).flatten()\n",
    "    random_field = jnp.linalg.multi_dot((eigenvectors, jnp.sqrt(jnp.diag(eigenvalues)), parameters))\n",
    "    return random_field\n",
    "\n",
    "#kxx.jit_gen(theta)\n",
    "\n",
    "def random_init_field(TX, TY):\n",
    "    field = jit_gen(theta, kxx.eigenvalues, kxx.eigenvectors)\n",
    "    return field.reshape((n_quad, n_quad))"
   ]
  },
  {
   "cell_type": "code",
   "execution_count": 16,
   "id": "ff20a561",
   "metadata": {
    "tags": []
   },
   "outputs": [],
   "source": [
    "def f(TX, TY):\n",
    "    f = np.exp(-((TX - 0.5) ** 2 + (TY - 0.5) ** 2) / 0.05)\n",
    "    f = f / f.max()\n",
    "    return f"
   ]
  },
  {
   "cell_type": "code",
   "execution_count": 17,
   "id": "455f3143",
   "metadata": {
    "tags": []
   },
   "outputs": [
    {
     "name": "stdout",
     "output_type": "stream",
     "text": [
      "Stability guaranteed: alpha = 0.019864864864864867; beta = 0.019864864864864867\n"
     ]
    }
   ],
   "source": [
    "model_true = Heat(random_init_field, diff_coef, n_quad, n_pool, stride)\n",
    "x1 = model_true.g"
   ]
  },
  {
   "cell_type": "code",
   "execution_count": 18,
   "id": "7bb03b9c",
   "metadata": {
    "tags": []
   },
   "outputs": [
    {
     "data": {
      "image/png": "[encoded data removed]",
      "text/plain": [
       "<Figure size 1600x600 with 4 Axes>"
      ]
     },
     "metadata": {},
     "output_type": "display_data"
    }
   ],
   "source": [
    "model_true.plot_model()"
   ]
  },
  {
   "cell_type": "code",
   "execution_count": 19,
   "id": "5294a1e2",
   "metadata": {
    "tags": []
   },
   "outputs": [],
   "source": [
    "class Heat_Forward(Heat):\n",
    "    \"\"\"\n",
    "    Forward model class for the heat equation\n",
    "    \"\"\"\n",
    "\n",
    "    def __init__(self,\n",
    "                 n_quad: int, \n",
    "                 n_pool: int, \n",
    "                 stride: int,\n",
    "                 num_timeframes: int = num_timeframes,\n",
    "                 plate_length: float = plate_length,\n",
    "                 hot_edge_temp: float = hot_edge_temp,\n",
    "                 cold_edge_temp: float = cold_edge_temp,\n",
    "                 t_final: float = t_final\n",
    "                ):\n",
    "        \n",
    "        # Set the quadrature degree along one dimension.\n",
    "        self.n_quad = n_quad\n",
    "        \n",
    "        # Set the quadrature points.\n",
    "        x = jnp.linspace(0, 1, self.n_quad + 1)\n",
    "        self.tx = (x[1:] + x[:-1]) / 2\n",
    "        y = jnp.linspace(0, 1, self.n_quad + 1)\n",
    "        self.ty = (y[1:] + y[:-1]) / 2\n",
    "        TX, TY = jnp.meshgrid(self.tx, self.ty)\n",
    "        self.T_coords = jnp.c_[TX.ravel(), TY.ravel(), np.zeros(self.n_quad ** 2)]\n",
    "\n",
    "        # Size of pooling kernel along one axis.\n",
    "        self.n_pool = n_pool\n",
    "        \n",
    "        # Stride of the pooling kernel.\n",
    "        self.stride = stride\n",
    "        \n",
    "        # Stride of pooling kernel.\n",
    "        self.pool = equinox.nn.AvgPool2d(kernel_size=(self.n_pool, self.n_pool), stride=self.stride)\n",
    "        \n",
    "        # Solver parameters\n",
    "        self.num_timeframes = num_timeframes\n",
    "        self.plate_length = plate_length\n",
    "        self.hot_edge_temp = hot_edge_temp\n",
    "        self.cold_edge_temp = cold_edge_temp\n",
    "        self.t_final = t_final\n",
    "        \n",
    "        # Compute spatial grid spacings, time step and relevant problem variables\n",
    "        self.delta_t = compute_dimension_delta(self.t_final, self.num_timeframes)\n",
    "        self.delta_x = compute_dimension_delta(self.plate_length, self.n_quad)\n",
    "        self.delta_y = compute_dimension_delta(self.plate_length, self.n_quad)\n",
    "\n",
    "    def set_random_process(self, random_process, lamb, mkl):\n",
    "\n",
    "        # Set the number of KL modes.\n",
    "        self.mkl = mkl\n",
    "\n",
    "        # Initialise a random process on the quadrature points.\n",
    "        # and compute the eigenpairs of the covariance matrix,\n",
    "        self.random_process = random_process(self.T_coords, self.mkl, lamb)\n",
    "        self.random_process.compute_eigenpairs()\n",
    "\n",
    "    def solve(self, diff_coeff, mean, stdev, theta):\n",
    "\n",
    "        # Internalise the Random Field parameters\n",
    "        self.parameters = theta\n",
    "\n",
    "        # Create a realisation of the random process, given the parameters.\n",
    "        #self.random_process.generate(self.parameters)\n",
    "        random_field = jit_gen(self.parameters, self.random_process.eigenvalues, self.random_process.eigenvectors)\n",
    "\n",
    "        # Set the density.\n",
    "        self.u_initial = mean + stdev * random_field\n",
    "        self.u_initial = self.u_initial.reshape(self.n_quad, self.n_quad)\n",
    "        \n",
    "        # Check and compute FDM stability constants for the instance provided\n",
    "        self.alpha, self.beta = compute_fdm_stability_constants(diff_coef, \n",
    "                                                                self.delta_t, \n",
    "                                                                self.delta_x, \n",
    "                                                                self.delta_y)\n",
    "        \n",
    "        # Compute the temperature field at t_final\n",
    "        self.u_final = heat_solver(self.u_initial, self.alpha, self.beta, self.delta_t, self.num_timeframes)\n",
    "        \n",
    "        # Generate noiseless signal\n",
    "        self.g = self.pool(self.u_final[None, :, :])[0, :, :]\n",
    "\n",
    "    def get_data(self):\n",
    "\n",
    "        # Get the data vector.\n",
    "        return self.g.ravel()"
   ]
  },
  {
   "cell_type": "code",
   "execution_count": 20,
   "id": "866e4e48",
   "metadata": {
    "tags": []
   },
   "outputs": [
    {
     "data": {
      "image/png": "[encoded data removed]",
      "text/plain": [
       "<Figure size 2400x600 with 6 Axes>"
      ]
     },
     "metadata": {},
     "output_type": "display_data"
    }
   ],
   "source": [
    "# Add noise to the data.\n",
    "# Leave like this so we have the same data!\n",
    "n_data = 8\n",
    "noise_level = 0.2\n",
    "\n",
    "noise = jax.random.normal(jax.random.PRNGKey(100), shape=(n_data ** 2,)) * noise_level\n",
    "obs_cov = noise_level ** 2 * jnp.eye(n_data ** 2)\n",
    "\n",
    "data = model_true.g.ravel() + noise\n",
    "\n",
    "# Plot the density and the signal.\n",
    "fig, axes = plt.subplots(1, 3, figsize=(24, 6))\n",
    "\n",
    "axes[0].set_title(\"Noiseless Signal\")\n",
    "g = axes[0].imshow(model_true.g,\n",
    "                   extent=(0, 1, 0, 1),\n",
    "                   origin=\"lower\",\n",
    "                   cmap=\"icefire\")\n",
    "fig.colorbar(g, ax=axes[0])\n",
    "\n",
    "axes[1].set_title(\"Noisy Signal\")\n",
    "d = axes[1].imshow(data.reshape(n_data, n_data), \n",
    "                   extent=(0, 1, 0, 1), \n",
    "                   origin=\"lower\", \n",
    "                   cmap=\"icefire\")\n",
    "fig.colorbar(d, ax=axes[1])\n",
    "\n",
    "axes[2].set_title(r\"$u(x, t_f)$\")\n",
    "f = axes[2].imshow(model_true.u_final, \n",
    "                   extent=(0, 1, 0, 1), \n",
    "                   origin=\"lower\", \n",
    "                   cmap=\"icefire\")\n",
    "fig.colorbar(f, ax=axes[2])\n",
    "plt.show()"
   ]
  },
  {
   "cell_type": "code",
   "execution_count": 21,
   "id": "ee2681a0",
   "metadata": {
    "tags": []
   },
   "outputs": [
    {
     "name": "stderr",
     "output_type": "stream",
     "text": [
      "/tmp/ipykernel_116077/191944427.py:52: DeprecationWarning: Keyword argument 'eigvals' is deprecated in favour of 'subset_by_index' keyword instead and will be removed in SciPy 1.12.0.\n",
      "  eigvals, eigvecs = eigh(self.cov, eigvals=(self.n_points - self.mkl, self.n_points - 1))\n"
     ]
    }
   ],
   "source": [
    "lamb = 0.1\n",
    "mkl = 100\n",
    "\n",
    "hsolver = Heat_Forward(n_quad=64, n_pool=8, stride=8)\n",
    "hsolver.set_random_process(SquaredExponential, lamb, mkl)\n",
    "\n",
    "@jax.jit\n",
    "def hsolve(diff_coeff, mean, stdev, theta, solver=hsolver):\n",
    "    solver.solve(diff_coeff, mean, stdev, theta)\n",
    "    return solver.get_data()"
   ]
  },
  {
   "cell_type": "code",
   "execution_count": 22,
   "id": "0e776efc-9efa-42cc-9284-61e81a0e7cdf",
   "metadata": {
    "tags": []
   },
   "outputs": [],
   "source": [
    "np.savetxt('./true_initial_temperature_field_jupyter.txt', model_true.u_initial)\n",
    "np.savetxt('./model_data_jupyter.txt', data)"
   ]
  },
  {
   "cell_type": "markdown",
   "id": "521d8d28",
   "metadata": {},
   "source": [
    "# Numpyro model"
   ]
  },
  {
   "cell_type": "code",
   "execution_count": 23,
   "id": "9db3e61b",
   "metadata": {
    "tags": []
   },
   "outputs": [],
   "source": [
    "def numpyro_heat_model(data, obs_cov):\n",
    "    diff_coeff = numpyro.sample('diff_coeff', dist.HalfNormal(0.5))\n",
    "    mu = numpyro.sample('mu', dist.Normal(0.0, 0.1))\n",
    "    stdev = numpyro.sample('stdev', dist.HalfNormal(1.0))\n",
    "    theta = numpyro.sample('theta', dist.Normal(jnp.zeros(mkl), jnp.ones(mkl)))\n",
    "    obs_sim = hsolve(diff_coeff, mu, stdev, theta)\n",
    "    llk = numpyro.sample('llk', dist.Normal(obs_sim, noise_level), obs=data)"
   ]
  },
  {
   "cell_type": "code",
   "execution_count": null,
   "id": "0bcc8a5b",
   "metadata": {
    "tags": []
   },
   "outputs": [],
   "source": [
    "def run_inference(model, num_warmup, num_samples, num_chains, rng_key, data, cov):\n",
    "    init_strategy = init_to_value(\n",
    "            values={\"diff_coeff\": 0.5, \n",
    "                    \"mu\": 0.0, \n",
    "                    \"stdev\": 1.0})\n",
    "    kernel = NUTS(model, max_tree_depth=7, init_strategy=init_strategy)\n",
    "    mcmc = MCMC(\n",
    "        kernel,\n",
    "        num_warmup=num_warmup,\n",
    "        num_samples=num_samples,\n",
    "        num_chains=num_chains,\n",
    "        progress_bar=True,\n",
    "        chain_method='vectorized',\n",
    "    )\n",
    "    mcmc.run(rng_key, data, cov)\n",
    "    mcmc.print_summary()\n",
    "    return mcmc, mcmc.get_samples()"
   ]
  },
  {
   "cell_type": "code",
   "execution_count": null,
   "id": "85d9678d",
   "metadata": {
    "tags": []
   },
   "outputs": [],
   "source": [
    "mcmc, samples = run_inference(numpyro_heat_model, 4000, 1000, 4, jax.random.PRNGKey(0), data, obs_cov)"
   ]
  },
  {
   "cell_type": "code",
   "execution_count": null,
   "id": "46eda2a1-8e94-4e57-acd0-ead83bbc280c",
   "metadata": {},
   "outputs": [],
   "source": []
  }
 ],
 "metadata": {
  "kernelspec": {
   "display_name": "jax2024",
   "language": "python",
   "name": "env"
  },
  "language_info": {
   "codemirror_mode": {
    "name": "ipython",
    "version": 3
   },
   "file_extension": ".py",
   "mimetype": "text/x-python",
   "name": "python",
   "nbconvert_exporter": "python",
   "pygments_lexer": "ipython3",
   "version": "3.11.9"
  }
 },
 "nbformat": 4,
 "nbformat_minor": 5
}
