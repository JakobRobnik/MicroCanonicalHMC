{
 "cells": [
  {
   "cell_type": "code",
   "execution_count": 1,
   "metadata": {},
   "outputs": [
    {
     "name": "stderr",
     "output_type": "stream",
     "text": [
      "An NVIDIA GPU may be present on this machine, but a CUDA-enabled jaxlib is not installed. Falling back to cpu.\n",
      "/global/u1/r/reubenh/MicroCanonicalHMC/benchmarks/.././benchmarks/lattice.py:35: UserWarning: ground truth for e_x2_100_1.0 not found\n",
      "  warnings.warn(f\"ground truth for e_x2_{self.L}_{self.lam} not found\")\n"
     ]
    },
    {
     "name": "stdout",
     "output_type": "stream",
     "text": [
      "./benchmarks/ground_truth/Phi4/e_x2_100_1.0.pkl\n"
     ]
    },
    {
     "ename": "AttributeError",
     "evalue": "'Phi4' object has no attribute 'E_x2'",
     "output_type": "error",
     "traceback": [
      "\u001b[0;31m---------------------------------------------------------------------------\u001b[0m",
      "\u001b[0;31mAttributeError\u001b[0m                            Traceback (most recent call last)",
      "\u001b[1;32m/global/homes/r/reubenh/MicroCanonicalHMC/benchmarks/example.ipynb Cell 1\u001b[0m line \u001b[0;36m5\n\u001b[1;32m     <a href='vscode-notebook-cell://ssh-remote%2Bperlmutter-p1.nersc.gov/global/homes/r/reubenh/MicroCanonicalHMC/benchmarks/example.ipynb#W0sdnNjb2RlLXJlbW90ZQ%3D%3D?line=49'>50</a>\u001b[0m n \u001b[39m=\u001b[39m \u001b[39m10000\u001b[39m\n\u001b[1;32m     <a href='vscode-notebook-cell://ssh-remote%2Bperlmutter-p1.nersc.gov/global/homes/r/reubenh/MicroCanonicalHMC/benchmarks/example.ipynb#W0sdnNjb2RlLXJlbW90ZQ%3D%3D?line=50'>51</a>\u001b[0m num_chains \u001b[39m=\u001b[39m \u001b[39m4\u001b[39m\n\u001b[0;32m---> <a href='vscode-notebook-cell://ssh-remote%2Bperlmutter-p1.nersc.gov/global/homes/r/reubenh/MicroCanonicalHMC/benchmarks/example.ipynb#W0sdnNjb2RlLXJlbW90ZQ%3D%3D?line=52'>53</a>\u001b[0m \u001b[39mprint\u001b[39m(Phi4(\u001b[39m100\u001b[39;49m,\u001b[39m1.0\u001b[39;49m)\u001b[39m.\u001b[39;49mE_x2 )\n\u001b[1;32m     <a href='vscode-notebook-cell://ssh-remote%2Bperlmutter-p1.nersc.gov/global/homes/r/reubenh/MicroCanonicalHMC/benchmarks/example.ipynb#W0sdnNjb2RlLXJlbW90ZQ%3D%3D?line=53'>54</a>\u001b[0m \u001b[39m# raise Exception\u001b[39;00m\n\u001b[1;32m     <a href='vscode-notebook-cell://ssh-remote%2Bperlmutter-p1.nersc.gov/global/homes/r/reubenh/MicroCanonicalHMC/benchmarks/example.ipynb#W0sdnNjb2RlLXJlbW90ZQ%3D%3D?line=55'>56</a>\u001b[0m tic \u001b[39m=\u001b[39m time\u001b[39m.\u001b[39mtime()\n",
      "\u001b[0;31mAttributeError\u001b[0m: 'Phi4' object has no attribute 'E_x2'"
     ]
    }
   ],
   "source": [
    "import itertools\n",
    "import sys\n",
    "import time\n",
    "\n",
    "sys.path.append(\".././\")\n",
    "# sys.path.append(\".././benchmarks\")\n",
    "sys.path.append(\"../../blackjax\")\n",
    "import os\n",
    "\n",
    "import jax\n",
    "import jax.numpy as jnp\n",
    "import blackjax\n",
    "\n",
    "os.environ[\"XLA_FLAGS\"] = \"--xla_force_host_platform_device_count=\" + str(128)\n",
    "num_cores = jax.local_device_count()\n",
    "\n",
    "from metrics import benchmark\n",
    "from benchmarks.lattice import Phi4\n",
    "from benchmarks.sampling_algorithms import (\n",
    "\n",
    "    adjusted_hmc,\n",
    "    adjusted_mclmc,\n",
    "    adjusted_mclmc_no_tuning,\n",
    "    adjusted_mclmc_tuning,\n",
    "    nuts,\n",
    "    unadjusted_mclmc,\n",
    "    unadjusted_mclmc_no_tuning,\n",
    "    unadjusted_mclmc_tuning,\n",
    "    unadjusted_underdamped_langevin,\n",
    "    unadjusted_underdamped_langevin_no_tuning,\n",
    ")\n",
    "from benchmarks.inference_models import (\n",
    "    Banana,\n",
    "    Brownian,\n",
    "    Funnel,\n",
    "    Gaussian,\n",
    "    GermanCredit,\n",
    "    Rosenbrock,\n",
    "    StochasticVolatility,\n",
    ")\n",
    "\n",
    "# model = Gaussian(ndims=10,condition_number=100)\n",
    "# model = GermanCredit()\n",
    "# model = Phi4()\n",
    "# model = StochasticVolatility()\n",
    "# model = Gaussian(ndims=10)\n",
    "# model = Rosenbrock()\n",
    "# model = Funnel()\n",
    "# model = Brownian()\n",
    "n = 10000\n",
    "num_chains = 4\n",
    "\n",
    "print(Phi4(100,1.0).E_x2 )\n",
    "# raise Exception\n",
    "\n",
    "tic = time.time()\n",
    "ess, ess_avg, ess_corr, params, acceptance_rate, grads_to_low_max, _,bias = benchmark(\n",
    "    model=Phi4(100,1.0),\n",
    "    sampler=unadjusted_mclmc(integrator_type=\"mclachlan\", preconditioning=False, num_windows=1,),\n",
    "    key=jax.random.PRNGKey(1), \n",
    "    n=n,\n",
    "    batch=num_chains, \n",
    "    pvmap=jax.pmap \n",
    ")\n",
    "toc = time.time()\n",
    "print(f\"Time elapsed {toc-tic}\")\n",
    "\n",
    "print(f\"\\nGradient calls for unadjusted MCLMC to reach standardized RMSE of X^2 of 0.1: {grads_to_low_max} (avg over {num_chains} chains and dimensions)\")\n"
   ]
  },
  {
   "cell_type": "code",
   "execution_count": null,
   "metadata": {},
   "outputs": [],
   "source": []
  }
 ],
 "metadata": {
  "kernelspec": {
   "display_name": "jax2024",
   "language": "python",
   "name": "env"
  },
  "language_info": {
   "codemirror_mode": {
    "name": "ipython",
    "version": 3
   },
   "file_extension": ".py",
   "mimetype": "text/x-python",
   "name": "python",
   "nbconvert_exporter": "python",
   "pygments_lexer": "ipython3",
   "version": "3.11.9"
  }
 },
 "nbformat": 4,
 "nbformat_minor": 2
}
